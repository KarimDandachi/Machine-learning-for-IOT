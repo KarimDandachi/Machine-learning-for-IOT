{
 "cells": [
  {
   "cell_type": "code",
   "execution_count": 2,
   "source": [
    "#import adafruit_dht\r\n",
    "import argparse\r\n",
    "import numpy as np\r\n",
    "import time\r\n",
    "import tensorflow as tf\r\n",
    "#from board import D4\r\n",
    "\r\n"
   ],
   "outputs": [],
   "metadata": {}
  },
  {
   "cell_type": "code",
   "execution_count": 3,
   "source": [
    "tensor_specs = (tf.TensorSpec([None, 6, 2], dtype=tf.float32),\r\n",
    "tf.TensorSpec([None, 2]))\r\n",
    "train_ds = tf.data.experimental.load('I:/Polito/ML4IOT/CODES TO DO/Lab3/ex1/th_train', tensor_specs)\r\n",
    "val_ds = tf.data.experimental.load('I:/Polito/ML4IOT/CODES TO DO/Lab3/ex1/th_val', tensor_specs)\r\n",
    "test_ds = tf.data.experimental.load('I:/Polito/ML4IOT/CODES TO DO/Lab3/ex1/th_test', tensor_specs)"
   ],
   "outputs": [],
   "metadata": {}
  },
  {
   "cell_type": "code",
   "execution_count": 4,
   "source": [
    "#it = iter(train_ds)\r\n",
    "#it.get_next()"
   ],
   "outputs": [],
   "metadata": {}
  },
  {
   "cell_type": "code",
   "execution_count": 5,
   "source": [
    "converter = tf.lite.TFLiteConverter.from_saved_model('I:\\Polito\\ML4IOT\\CODES TO DO\\Lab3\\ex1\\MLP')\r\n",
    "converter.optimizations = [tf.lite.Optimize.DEFAULT]\r\n",
    "tflite_model = converter.convert()\r\n",
    "tflite_model_dir = 'I:\\Polito\\ML4IOT\\CODES TO DO\\Lab3\\MLP.tflite'\r\n",
    "with open(tflite_model_dir, 'wb') as fp:\r\n",
    "    fp.write(tflite_model)"
   ],
   "outputs": [
    {
     "output_type": "stream",
     "name": "stderr",
     "text": [
      "WARNING:absl:Buffer deduplication procedure will be skipped when flatbuffer library is not properly loaded\n"
     ]
    }
   ],
   "metadata": {}
  },
  {
   "cell_type": "code",
   "execution_count": 6,
   "source": [
    "interpreter = tf.lite.Interpreter(model_path='I:\\Polito\\ML4IOT\\CODES TO DO\\Lab3\\MLP.tflite')\r\n",
    "interpreter.allocate_tensors()"
   ],
   "outputs": [],
   "metadata": {}
  },
  {
   "cell_type": "code",
   "execution_count": 7,
   "source": [
    "input_details = interpreter.get_input_details()\r\n",
    "output_details = interpreter.get_output_details()"
   ],
   "outputs": [],
   "metadata": {}
  },
  {
   "cell_type": "code",
   "execution_count": 8,
   "source": [
    "input_shape = input_details[0]['shape']"
   ],
   "outputs": [],
   "metadata": {}
  },
  {
   "cell_type": "code",
   "execution_count": 9,
   "source": [
    "window = np.zeros([1, 6, 2], dtype=np.float32)\r\n",
    "expected = np.zeros(2, dtype=np.float32)\r\n",
    "\r\n",
    "MEAN = np.array([9.107597, 75.904076], dtype=np.float32)\r\n",
    "STD = np.array([ 8.654227, 16.557089], dtype=np.float32)"
   ],
   "outputs": [],
   "metadata": {}
  },
  {
   "cell_type": "code",
   "execution_count": 10,
   "source": [
    "def calculateMAE(A, B):\r\n",
    "    n = len(A)\r\n",
    "    sum = 0\r\n",
    "    \r\n",
    "        # for loop for iteration\r\n",
    "    for i in range(n):\r\n",
    "        sum += np.absolute(A[i] - B[i])\r\n",
    "    \r\n",
    "    mae = sum/n\r\n",
    "    return mae"
   ],
   "outputs": [],
   "metadata": {}
  },
  {
   "cell_type": "code",
   "execution_count": null,
   "source": [],
   "outputs": [],
   "metadata": {}
  },
  {
   "cell_type": "code",
   "execution_count": 11,
   "source": [
    "co = 0\r\n",
    "measured_list = []\r\n",
    "predicted_list = []\r\n",
    "for input_data in test_ds.as_numpy_iterator():\r\n",
    "    co = co+1\r\n",
    "    if co==10:\r\n",
    "        break\r\n",
    "    for i in range(7):\r\n",
    "            #input_data = np.array(np.random.random_sample(([1, 7, 2])),dtype=np.float32)\r\n",
    "            #temperature = temp_hum_setc\r\n",
    "            #humidity = temp_hum_set[0][i][1]\r\n",
    "            if i < 6:\r\n",
    "                window[0, i, 0] = np.float32(input_data[0][0][i][0])\r\n",
    "                window[0, i, 1] = np.float32(input_data[0][0][i][1])\r\n",
    "            if i == 6:\r\n",
    "                expected[0] = np.float32(input_data[1][0][0])\r\n",
    "                expected[1] = np.float32(input_data[1][0][1])\r\n",
    "\r\n",
    "                #window = (window - MEAN) / STD\r\n",
    "                interpreter.set_tensor(input_details[0]['index'], window)\r\n",
    "                interpreter.invoke()\r\n",
    "                predicted = interpreter.get_tensor(output_details[0]['index'])\r\n",
    "\r\n",
    "               # print('Measured: {:.1f},{:.1f}'.format(expected[0], expected[1]))\r\n",
    "                measured_list.append(expected[0])\r\n",
    "                measured_list.append(expected[1])\r\n",
    "\r\n",
    "                #print('Predicted: {:.1f},{:.1f}'.format(predicted[0, 0],\r\n",
    "                 #   predicted[0, 1]))\r\n",
    "                predicted_list.append(predicted[0, 0])\r\n",
    "                predicted_list.append(predicted[0, 1])\r\n",
    "\r\n",
    "calculateMAE(measured_list,predicted_list)\r\n"
   ],
   "outputs": [
    {
     "output_type": "execute_result",
     "data": {
      "text/plain": [
       "1.4139900936020746"
      ]
     },
     "metadata": {},
     "execution_count": 11
    }
   ],
   "metadata": {}
  },
  {
   "cell_type": "code",
   "execution_count": 12,
   "source": [
    "converter.optimizations = [tf.lite.Optimize.DEFAULT]\r\n",
    "tflite_quant_model = converter.convert()"
   ],
   "outputs": [
    {
     "output_type": "stream",
     "name": "stderr",
     "text": [
      "WARNING:absl:Buffer deduplication procedure will be skipped when flatbuffer library is not properly loaded\n"
     ]
    }
   ],
   "metadata": {}
  },
  {
   "cell_type": "code",
   "execution_count": 71,
   "source": [],
   "outputs": [],
   "metadata": {}
  },
  {
   "cell_type": "code",
   "execution_count": null,
   "source": [],
   "outputs": [],
   "metadata": {}
  }
 ],
 "metadata": {
  "orig_nbformat": 4,
  "language_info": {
   "name": "python",
   "version": "3.9.7",
   "mimetype": "text/x-python",
   "codemirror_mode": {
    "name": "ipython",
    "version": 3
   },
   "pygments_lexer": "ipython3",
   "nbconvert_exporter": "python",
   "file_extension": ".py"
  },
  "kernelspec": {
   "name": "python3",
   "display_name": "Python 3.9.7 64-bit"
  },
  "interpreter": {
   "hash": "ad4a7f633457edeca986db117c49439398b3575b7cfc8b89bb9541a12d05f016"
  }
 },
 "nbformat": 4,
 "nbformat_minor": 2
}