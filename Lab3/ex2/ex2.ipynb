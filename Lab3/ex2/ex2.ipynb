{
 "cells": [
  {
   "cell_type": "code",
   "execution_count": 1,
   "metadata": {},
   "outputs": [],
   "source": [
    "import argparse\n",
    "import os\n",
    "import numpy as np\n",
    "import os\n",
    "import tensorflow as tf\n",
    "from tensorflow import keras"
   ]
  },
  {
   "cell_type": "code",
   "execution_count": 3,
   "metadata": {},
   "outputs": [],
   "source": [
    "model = \"\"\n",
    "mfcc = False\n",
    "silence = False\n",
    "seed = 42\n",
    "tf.random.set_seed(seed)\n",
    "np.random.seed(seed)"
   ]
  },
  {
   "cell_type": "code",
   "execution_count": 14,
   "metadata": {},
   "outputs": [],
   "source": [
    "# if silence is True:\n",
    "#     data_dir = os.path.join('.', 'data', 'mini_speech_commands_silence')\n",
    "# else:\n",
    "#     zip_path = tf.keras.utils.get_file(\n",
    "#         origin=\"http://storage.googleapis.com/download.tensorflow.org/data/mini_speech_commands.zip\",\n",
    "#         fname='mini_speech_commands.zip',\n",
    "#         extract=True,\n",
    "#         cache_dir='.', cache_subdir='data')\n",
    "# \n",
    "    #  data_dir = os.path('E:\\Github\\Machine-learning-for-IOT\\Lab3\\ex2\\data\\mini_speech_commands')\n",
    "data_dir = 'E:\\Github\\Machine-learning-for-IOT\\Lab3\\ex2\\data\\mini_speech_commands'"
   ]
  },
  {
   "cell_type": "code",
   "execution_count": 15,
   "metadata": {},
   "outputs": [],
   "source": [
    "filenames = tf.io.gfile.glob(data_dir + '/*/*')\n",
    "filenames = tf.random.shuffle(filenames)\n",
    "num_samples = len(filenames)\n",
    "if silence is True:\n",
    "    total = 9000\n",
    "else:\n",
    "    total = 8000"
   ]
  },
  {
   "cell_type": "code",
   "execution_count": 16,
   "metadata": {},
   "outputs": [
    {
     "data": {
      "text/plain": [
       "8000"
      ]
     },
     "execution_count": 16,
     "metadata": {},
     "output_type": "execute_result"
    }
   ],
   "source": [
    "num_samples"
   ]
  },
  {
   "cell_type": "code",
   "execution_count": 17,
   "metadata": {},
   "outputs": [],
   "source": [
    "train_files = filenames[:int(total*0.8)]\n",
    "val_files = filenames[int(total*0.8): int(total*0.9)]\n",
    "test_files = filenames[int(total*0.9):]"
   ]
  },
  {
   "cell_type": "code",
   "execution_count": 18,
   "metadata": {},
   "outputs": [
    {
     "data": {
      "text/plain": [
       "<tf.Tensor: shape=(6400,), dtype=string, numpy=\n",
       "array([b'E:\\\\Github\\\\Machine-learning-for-IOT\\\\Lab3\\\\ex2\\\\data\\\\mini_speech_commands\\\\left\\\\e72aa705_nohash_0.wav',\n",
       "       b'E:\\\\Github\\\\Machine-learning-for-IOT\\\\Lab3\\\\ex2\\\\data\\\\mini_speech_commands\\\\stop\\\\e9b61425_nohash_0.wav',\n",
       "       b'E:\\\\Github\\\\Machine-learning-for-IOT\\\\Lab3\\\\ex2\\\\data\\\\mini_speech_commands\\\\left\\\\5e3b7a84_nohash_0.wav',\n",
       "       ...,\n",
       "       b'E:\\\\Github\\\\Machine-learning-for-IOT\\\\Lab3\\\\ex2\\\\data\\\\mini_speech_commands\\\\left\\\\cdfbbe75_nohash_0.wav',\n",
       "       b'E:\\\\Github\\\\Machine-learning-for-IOT\\\\Lab3\\\\ex2\\\\data\\\\mini_speech_commands\\\\go\\\\016e2c6d_nohash_2.wav',\n",
       "       b'E:\\\\Github\\\\Machine-learning-for-IOT\\\\Lab3\\\\ex2\\\\data\\\\mini_speech_commands\\\\stop\\\\3a182c98_nohash_1.wav'],\n",
       "      dtype=object)>"
      ]
     },
     "execution_count": 18,
     "metadata": {},
     "output_type": "execute_result"
    }
   ],
   "source": [
    "train_files"
   ]
  },
  {
   "cell_type": "code",
   "execution_count": 19,
   "metadata": {},
   "outputs": [],
   "source": [
    "LABELS = np.array(tf.io.gfile.listdir(data_dir))\n",
    "LABELS = LABELS[LABELS != 'README.md']"
   ]
  },
  {
   "cell_type": "code",
   "execution_count": 20,
   "metadata": {},
   "outputs": [
    {
     "data": {
      "text/plain": [
       "array(['down', 'go', 'left', 'no', 'right', 'stop', 'up', 'yes'],\n",
       "      dtype='<U9')"
      ]
     },
     "execution_count": 20,
     "metadata": {},
     "output_type": "execute_result"
    }
   ],
   "source": [
    "LABELS"
   ]
  },
  {
   "cell_type": "code",
   "execution_count": 26,
   "metadata": {},
   "outputs": [],
   "source": [
    "class SignalGenerator:\n",
    "    def __init__(self, labels, sampling_rate, frame_length, frame_step,\n",
    "            num_mel_bins=None, lower_frequency=None, upper_frequency=None,\n",
    "            num_coefficients=None, mfcc=False):\n",
    "        self.labels = labels\n",
    "        self.sampling_rate = sampling_rate\n",
    "        self.frame_length = frame_length\n",
    "        self.frame_step = frame_step\n",
    "        self.num_mel_bins = num_mel_bins\n",
    "        self.lower_frequency = lower_frequency\n",
    "        self.upper_frequency = upper_frequency\n",
    "        self.num_coefficients = num_coefficients\n",
    "        num_spectrogram_bins = (frame_length) // 2 + 1\n",
    "\n",
    "        if mfcc is True:\n",
    "            self.linear_to_mel_weight_matrix = tf.signal.linear_to_mel_weight_matrix(\n",
    "                    self.num_mel_bins, num_spectrogram_bins, self.sampling_rate,\n",
    "                    self.lower_frequency, self.upper_frequency)\n",
    "            self.preprocess = self.preprocess_with_mfcc\n",
    "        else:\n",
    "            self.preprocess = self.preprocess_with_stft\n",
    "\n",
    "    def read(self, file_path):\n",
    "        parts = tf.strings.split(file_path, os.path.sep)\n",
    "        label = parts[-2]\n",
    "        \n",
    "        label_id = tf.argmax(label == self.labels)\n",
    "        audio_binary = tf.io.read_file(file_path)\n",
    "        audio, _ = tf.audio.decode_wav(audio_binary)\n",
    "        audio = tf.squeeze(audio, axis=1)\n",
    "\n",
    "        return audio, label_id\n",
    "\n",
    "    def pad(self, audio):\n",
    "        zero_padding = tf.zeros([self.sampling_rate] - tf.shape(audio), dtype=tf.float32)\n",
    "        audio = tf.concat([audio, zero_padding], 0)\n",
    "        audio.set_shape([self.sampling_rate])\n",
    "\n",
    "        return audio\n",
    "\n",
    "    def get_spectrogram(self, audio):\n",
    "        stft = tf.signal.stft(audio, frame_length=self.frame_length,\n",
    "                frame_step=self.frame_step, fft_length=self.frame_length)\n",
    "        spectrogram = tf.abs(stft)\n",
    "\n",
    "        return spectrogram\n",
    "\n",
    "    def get_mfccs(self, spectrogram):\n",
    "        mel_spectrogram = tf.tensordot(spectrogram,\n",
    "                self.linear_to_mel_weight_matrix, 1)\n",
    "        log_mel_spectrogram = tf.math.log(mel_spectrogram + 1.e-6)\n",
    "        mfccs = tf.signal.mfccs_from_log_mel_spectrograms(log_mel_spectrogram)\n",
    "        mfccs = mfccs[..., :self.num_coefficients]\n",
    "\n",
    "        return mfccs\n",
    "\n",
    "    def preprocess_with_stft(self, file_path):\n",
    "        audio, label = self.read(file_path)\n",
    "        audio = self.pad(audio)\n",
    "        spectrogram = self.get_spectrogram(audio)\n",
    "        spectrogram = tf.expand_dims(spectrogram, -1)\n",
    "        spectrogram = tf.image.resize(spectrogram, [32, 32])\n",
    "\n",
    "        return spectrogram, label\n",
    "\n",
    "    def preprocess_with_mfcc(self, file_path):\n",
    "        audio, label = self.read(file_path)\n",
    "        audio = self.pad(audio)\n",
    "        spectrogram = self.get_spectrogram(audio)\n",
    "        mfccs = self.get_mfccs(spectrogram)\n",
    "        mfccs = tf.expand_dims(mfccs, -1)\n",
    "\n",
    "        return mfccs, label\n",
    "\n",
    "    def make_dataset(self, files, train):\n",
    "        ds = tf.data.Dataset.from_tensor_slices(files)\n",
    "        ds = ds.map(self.preprocess, num_parallel_calls=4)\n",
    "        ds = ds.batch(32)\n",
    "        ds = ds.cache()\n",
    "        if train is True:\n",
    "            ds = ds.shuffle(100, reshuffle_each_iteration=True)\n",
    "\n",
    "        return ds\n"
   ]
  },
  {
   "cell_type": "code",
   "execution_count": 27,
   "metadata": {},
   "outputs": [],
   "source": [
    "STFT_OPTIONS = {'frame_length': 256, 'frame_step': 128, 'mfcc': False}\n",
    "MFCC_OPTIONS = {'frame_length': 640, 'frame_step': 320, 'mfcc': True,\n",
    "        'lower_frequency': 20, 'upper_frequency': 4000, 'num_mel_bins': 40,\n",
    "        'num_coefficients': 10}"
   ]
  },
  {
   "cell_type": "code",
   "execution_count": 28,
   "metadata": {},
   "outputs": [],
   "source": [
    "if mfcc is True:\n",
    "    options = MFCC_OPTIONS\n",
    "    strides = [2, 1]\n",
    "else:\n",
    "    options = STFT_OPTIONS\n",
    "    strides = [2, 2]"
   ]
  },
  {
   "cell_type": "code",
   "execution_count": 29,
   "metadata": {},
   "outputs": [],
   "source": [
    "generator = SignalGenerator(LABELS, 16000, **options)\n",
    "train_ds = generator.make_dataset(train_files, True)\n",
    "val_ds = generator.make_dataset(val_files, False)\n",
    "test_ds = generator.make_dataset(test_files, False)"
   ]
  },
  {
   "cell_type": "code",
   "execution_count": 30,
   "metadata": {},
   "outputs": [
    {
     "data": {
      "text/plain": [
       "TensorShape([6400])"
      ]
     },
     "execution_count": 30,
     "metadata": {},
     "output_type": "execute_result"
    }
   ],
   "source": [
    "train_files.shape"
   ]
  },
  {
   "cell_type": "code",
   "execution_count": 31,
   "metadata": {},
   "outputs": [],
   "source": [
    "# if args.silence is True:\n",
    "#     units = 9\n",
    "# else:\n",
    "#     units = 8"
   ]
  },
  {
   "cell_type": "code",
   "execution_count": 32,
   "metadata": {},
   "outputs": [],
   "source": [
    "MLPmodel = keras.Sequential([\n",
    "    keras.layers.Flatten(),\n",
    "    keras.layers.Dense(256, activation='relu'),\n",
    "    keras.layers.Dense(256, activation='relu'),\n",
    "    keras.layers.Dense(256, activation='relu'),\n",
    "    keras.layers.Dense(8)\n",
    "])"
   ]
  },
  {
   "cell_type": "code",
   "execution_count": 34,
   "metadata": {},
   "outputs": [],
   "source": [
    "#MLPmodel.summary()"
   ]
  },
  {
   "cell_type": "code",
   "execution_count": 35,
   "metadata": {},
   "outputs": [],
   "source": [
    "CNNmodel = keras.Sequential([\n",
    "    keras.layers.Conv2D(filters=128, kernel_size=[3,3], strides=strides, use_bias=False),\n",
    "    keras.layers.BatchNormalization(momentum=0.1),\n",
    "    keras.layers.ReLU(),\n",
    "    keras.layers.Conv2D(filters=128, kernel_size=[3,3], strides=[1,1], use_bias=False),\n",
    "    keras.layers.BatchNormalization(momentum=0.1),\n",
    "    keras.layers.ReLU(),\n",
    "    keras.layers.Conv2D(filters=128, kernel_size=[3,3], strides=[1,1], use_bias=False),\n",
    "    keras.layers.BatchNormalization(momentum=0.1),\n",
    "    keras.layers.ReLU(),\n",
    "    keras.layers.GlobalAveragePooling2D(),\n",
    "    keras.layers.Dense(units=8)\n",
    "])"
   ]
  },
  {
   "cell_type": "code",
   "execution_count": 36,
   "metadata": {},
   "outputs": [],
   "source": [
    "Ds_CNNmodel = keras.Sequential([\n",
    "    keras.layers.Conv2D(filters=256, kernel_size=[3,3], strides=strides, use_bias=False),\n",
    "    keras.layers.BatchNormalization(momentum=0.1),\n",
    "    keras.layers.ReLU(),\n",
    "    keras.layers.DepthwiseConv2D(kernel_size=[3,3], strides=[1,1],use_bias=False),\n",
    "    keras.layers.Conv2D(filters=256, kernel_size=[1,1], strides=[1,1], use_bias=False),\n",
    "    keras.layers.BatchNormalization(momentum=0.1),\n",
    "    keras.layers.ReLU(),\n",
    "    keras.layers.DepthwiseConv2D(kernel_size=[3,3], strides=[1,1],use_bias=False),\n",
    "    keras.layers.Conv2D(filters=128, kernel_size=[1,1], strides=[1,1], use_bias=False),\n",
    "    keras.layers.BatchNormalization(momentum=0.1),\n",
    "    keras.layers.ReLU(),\n",
    "    keras.layers.GlobalAveragePooling2D(),\n",
    "    keras.layers.Dense(units=8)\n",
    "])"
   ]
  },
  {
   "cell_type": "code",
   "execution_count": 37,
   "metadata": {},
   "outputs": [],
   "source": [
    "metrics = [tf.metrics.SparseCategoricalAccuracy()]\n",
    "loss = tf.keras.losses.SparseCategoricalCrossentropy(from_logits=True)"
   ]
  },
  {
   "cell_type": "code",
   "execution_count": 38,
   "metadata": {},
   "outputs": [],
   "source": [
    "MLPmodel.compile(optimizer='adam',\n",
    "              loss=loss,\n",
    "              metrics=metrics)\n",
    "\n",
    "CNNmodel.compile(optimizer='adam',\n",
    "              loss=loss,\n",
    "              metrics=metrics)\n",
    "\n",
    "Ds_CNNmodel.compile(optimizer='adam',\n",
    "              loss=loss,\n",
    "              metrics=metrics)"
   ]
  },
  {
   "cell_type": "code",
   "execution_count": 72,
   "metadata": {},
   "outputs": [
    {
     "name": "stdout",
     "output_type": "stream",
     "text": [
      "Epoch 1/2\n",
      "193/200 [===========================>..] - ETA: 0s - loss: 0.1153 - sparse_categorical_accuracy: 0.9699INFO:tensorflow:Assets written to: ./callback_test_chkp_MLP\\chkp_01\\assets\n",
      "200/200 [==============================] - 2s 11ms/step - loss: 0.1146 - sparse_categorical_accuracy: 0.9703\n",
      "Epoch 2/2\n",
      "199/200 [============================>.] - ETA: 0s - loss: 0.0596 - sparse_categorical_accuracy: 0.9829INFO:tensorflow:Assets written to: ./callback_test_chkp_MLP\\chkp_02\\assets\n",
      "200/200 [==============================] - 2s 12ms/step - loss: 0.0593 - sparse_categorical_accuracy: 0.9830\n"
     ]
    },
    {
     "data": {
      "text/plain": [
       "<tensorflow.python.keras.callbacks.History at 0x1d2575b4588>"
      ]
     },
     "execution_count": 72,
     "metadata": {},
     "output_type": "execute_result"
    }
   ],
   "source": [
    "cp_callback = keras.callbacks.ModelCheckpoint(\n",
    "    './callback_test_chkp_MLP/chkp_{epoch:02d}',\n",
    "    # './callback_test_chkp/chkp_best',\n",
    "    monitor='val_accuracy',\n",
    "    verbose=0, \n",
    "    save_best_only=False,\n",
    "    # save_best_only=True,\n",
    "    save_weights_only=False,\n",
    "    mode='auto',\n",
    "    save_freq='epoch'\n",
    ")\n",
    "MLPmodel.fit(train_ds, epochs=2, callbacks=[cp_callback])"
   ]
  },
  {
   "cell_type": "code",
   "execution_count": 73,
   "metadata": {},
   "outputs": [
    {
     "name": "stdout",
     "output_type": "stream",
     "text": [
      "Epoch 1/2\n",
      "200/200 [==============================] - ETA: 0s - loss: 0.8284 - sparse_categorical_accuracy: 0.7552INFO:tensorflow:Assets written to: ./callback_test_chkp_CNN\\chkp_01\\assets\n",
      "200/200 [==============================] - 25s 127ms/step - loss: 0.8284 - sparse_categorical_accuracy: 0.7552\n",
      "Epoch 2/2\n",
      "200/200 [==============================] - ETA: 0s - loss: 0.6922 - sparse_categorical_accuracy: 0.7980INFO:tensorflow:Assets written to: ./callback_test_chkp_CNN\\chkp_02\\assets\n",
      "200/200 [==============================] - 27s 134ms/step - loss: 0.6922 - sparse_categorical_accuracy: 0.7980\n"
     ]
    },
    {
     "data": {
      "text/plain": [
       "<tensorflow.python.keras.callbacks.History at 0x1d2552bb108>"
      ]
     },
     "execution_count": 73,
     "metadata": {},
     "output_type": "execute_result"
    }
   ],
   "source": [
    "cp_callback = keras.callbacks.ModelCheckpoint(\n",
    "    './callback_test_chkp_CNN/chkp_{epoch:02d}',\n",
    "    # './callback_test_chkp/chkp_best',\n",
    "    monitor='val_accuracy',\n",
    "    verbose=0, \n",
    "    save_best_only=False,\n",
    "    # save_best_only=True,\n",
    "    save_weights_only=False,\n",
    "    mode='auto',\n",
    "    save_freq='epoch'\n",
    ")\n",
    "CNNmodel.fit(train_ds, epochs=2, callbacks = cp_callback)"
   ]
  },
  {
   "cell_type": "code",
   "execution_count": 75,
   "metadata": {},
   "outputs": [
    {
     "data": {
      "text/plain": [
       "<ShuffleDataset shapes: ((None, 32, 32, 1), (None,)), types: (tf.float32, tf.int64)>"
      ]
     },
     "execution_count": 75,
     "metadata": {},
     "output_type": "execute_result"
    }
   ],
   "source": [
    "train_ds"
   ]
  },
  {
   "cell_type": "code",
   "execution_count": 74,
   "metadata": {},
   "outputs": [
    {
     "name": "stdout",
     "output_type": "stream",
     "text": [
      "Epoch 1/2\n",
      "200/200 [==============================] - ETA: 0s - loss: 1.4473 - sparse_categorical_accuracy: 0.5356INFO:tensorflow:Assets written to: ./callback_test_chkp_Ds_CNN\\chkp_01\\assets\n",
      "200/200 [==============================] - 29s 147ms/step - loss: 1.4473 - sparse_categorical_accuracy: 0.5356\n",
      "Epoch 2/2\n",
      "200/200 [==============================] - ETA: 0s - loss: 1.0155 - sparse_categorical_accuracy: 0.6875INFO:tensorflow:Assets written to: ./callback_test_chkp_Ds_CNN\\chkp_02\\assets\n",
      "200/200 [==============================] - 28s 140ms/step - loss: 1.0155 - sparse_categorical_accuracy: 0.6875\n"
     ]
    },
    {
     "data": {
      "text/plain": [
       "<tensorflow.python.keras.callbacks.History at 0x1d2588bf908>"
      ]
     },
     "execution_count": 74,
     "metadata": {},
     "output_type": "execute_result"
    }
   ],
   "source": [
    "cp_callback = keras.callbacks.ModelCheckpoint(\n",
    "    './callback_test_chkp_Ds_CNN/chkp_{epoch:02d}',\n",
    "    # './callback_test_chkp/chkp_best',\n",
    "    monitor='val_accuracy',\n",
    "    verbose=0, \n",
    "    save_best_only=False,\n",
    "    # save_best_only=True,\n",
    "    save_weights_only=False,\n",
    "    mode='auto',\n",
    "    save_freq='epoch'\n",
    ")\n",
    "Ds_CNNmodel.fit(train_ds, epochs=2, callbacks = cp_callback)"
   ]
  },
  {
   "cell_type": "code",
   "execution_count": 76,
   "metadata": {},
   "outputs": [
    {
     "name": "stdout",
     "output_type": "stream",
     "text": [
      "\n",
      " accuracy for MLP : [1.8241324424743652, 0.7712500095367432]\n",
      "\n",
      " accuracy for CNN : [0.6570159196853638, 0.7875000238418579]\n",
      "\n",
      " accuracy for Ds_CNN : [0.8962502479553223, 0.7275000214576721]\n"
     ]
    }
   ],
   "source": [
    "test_acc = MLPmodel.evaluate(test_ds, verbose=0)\n",
    "print('\\n accuracy for MLP :', test_acc)\n",
    "\n",
    "test_acc = CNNmodel.evaluate(test_ds, verbose=0)\n",
    "print('\\n accuracy for CNN :', test_acc)\n",
    "\n",
    "test_acc = Ds_CNNmodel.evaluate(test_ds, verbose=0)\n",
    "print('\\n accuracy for Ds_CNN :', test_acc)"
   ]
  },
  {
   "cell_type": "code",
   "execution_count": 77,
   "metadata": {},
   "outputs": [
    {
     "name": "stdout",
     "output_type": "stream",
     "text": [
      "INFO:tensorflow:Assets written to: MLP\\assets\n"
     ]
    }
   ],
   "source": [
    "run_model = tf.function(lambda x: MLPmodel(x))\n",
    "concrete_func = run_model.get_concrete_function(tf.TensorSpec([1,32, 32, 1],tf.float32))\n",
    "MLPmodel.save('MLP', signatures=concrete_func)"
   ]
  },
  {
   "cell_type": "code",
   "execution_count": null,
   "metadata": {},
   "outputs": [],
   "source": []
  }
 ],
 "metadata": {
  "interpreter": {
   "hash": "c8c7d7aad182a88685b13ac429ea2f5f2197e83c90d99e7755a5f19b9321d31f"
  },
  "kernelspec": {
   "display_name": "Python 3.7.5 64-bit ('env_ML4IOt': venv)",
   "language": "python",
   "name": "python3"
  },
  "language_info": {
   "codemirror_mode": {
    "name": "ipython",
    "version": 3
   },
   "file_extension": ".py",
   "mimetype": "text/x-python",
   "name": "python",
   "nbconvert_exporter": "python",
   "pygments_lexer": "ipython3",
   "version": "3.7.5"
  },
  "orig_nbformat": 4
 },
 "nbformat": 4,
 "nbformat_minor": 2
}
