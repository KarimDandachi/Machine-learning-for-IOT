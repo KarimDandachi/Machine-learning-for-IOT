{
 "cells": [
  {
   "cell_type": "code",
   "execution_count": 27,
   "metadata": {},
   "outputs": [],
   "source": [
    "import argparse\n",
    "import os\n",
    "import numpy as np\n",
    "import os\n",
    "import tensorflow as tf\n",
    "from tensorflow import keras"
   ]
  },
  {
   "cell_type": "code",
   "execution_count": 28,
   "metadata": {},
   "outputs": [],
   "source": [
    "model = \"\"\n",
    "mfcc = True\n",
    "silence = True\n",
    "seed = 42\n",
    "tf.random.set_seed(seed)\n",
    "np.random.seed(seed)"
   ]
  },
  {
   "cell_type": "code",
   "execution_count": 29,
   "metadata": {},
   "outputs": [],
   "source": [
    "if silence is True:\n",
    "    data_dir = os.path.join('.', 'data', 'mini_speech_commands_silence')\n",
    "else:\n",
    "    zip_path = tf.keras.utils.get_file(\n",
    "        origin=\"http://storage.googleapis.com/download.tensorflow.org/data/mini_speech_commands.zip\",\n",
    "        fname='mini_speech_commands.zip',\n",
    "        extract=True,\n",
    "        cache_dir='.', cache_subdir='data')\n",
    "\n",
    "    data_dir = os.path.join('.', 'data', 'mini_speech_commands')"
   ]
  },
  {
   "cell_type": "code",
   "execution_count": 30,
   "metadata": {},
   "outputs": [],
   "source": [
    "filenames = tf.io.gfile.glob(str(data_dir) + '/*/*')\n",
    "filenames = tf.random.shuffle(filenames)\n",
    "num_samples = len(filenames)\n",
    "if silence is True:\n",
    "    total = 9000\n",
    "else:\n",
    "    total = 8000"
   ]
  },
  {
   "cell_type": "code",
   "execution_count": 31,
   "metadata": {},
   "outputs": [
    {
     "data": {
      "text/plain": [
       "80"
      ]
     },
     "execution_count": 31,
     "metadata": {},
     "output_type": "execute_result"
    }
   ],
   "source": [
    "num_samples"
   ]
  },
  {
   "cell_type": "code",
   "execution_count": 32,
   "metadata": {},
   "outputs": [],
   "source": [
    "train_files = filenames[:int(total*0.8)]\n",
    "val_files = filenames[int(total*0.8): int(total*0.9)]\n",
    "test_files = filenames[int(total*0.9):]"
   ]
  },
  {
   "cell_type": "code",
   "execution_count": 68,
   "metadata": {},
   "outputs": [
    {
     "data": {
      "text/plain": [
       "<tf.Tensor: shape=(80,), dtype=string, numpy=\n",
       "array([b'.\\\\data\\\\small data size\\\\right\\\\0e17f595_nohash_1.wav',\n",
       "       b'.\\\\data\\\\small data size\\\\up\\\\0e17f595_nohash_0.wav',\n",
       "       b'.\\\\data\\\\small data size\\\\no\\\\0b77ee66_nohash_0.wav',\n",
       "       b'.\\\\data\\\\small data size\\\\left\\\\0ff728b5_nohash_4.wav',\n",
       "       b'.\\\\data\\\\small data size\\\\left\\\\0d393936_nohash_0.wav',\n",
       "       b'.\\\\data\\\\small data size\\\\up\\\\0c5027de_nohash_1.wav',\n",
       "       b'.\\\\data\\\\small data size\\\\no\\\\0cd323ec_nohash_1.wav',\n",
       "       b'.\\\\data\\\\small data size\\\\stop\\\\0e5193e6_nohash_0.wav',\n",
       "       b'.\\\\data\\\\small data size\\\\stop\\\\0b56bcfe_nohash_0.wav',\n",
       "       b'.\\\\data\\\\small data size\\\\no\\\\0e5193e6_nohash_0.wav',\n",
       "       b'.\\\\data\\\\small data size\\\\no\\\\0bd689d7_nohash_0.wav',\n",
       "       b'.\\\\data\\\\small data size\\\\right\\\\0c2ca723_nohash_0.wav',\n",
       "       b'.\\\\data\\\\small data size\\\\right\\\\0c40e715_nohash_1.wav',\n",
       "       b'.\\\\data\\\\small data size\\\\go\\\\0ab3b47d_nohash_0.wav',\n",
       "       b'.\\\\data\\\\small data size\\\\go\\\\0a9f9af7_nohash_0.wav',\n",
       "       b'.\\\\data\\\\small data size\\\\down\\\\0ab3b47d_nohash_0.wav',\n",
       "       b'.\\\\data\\\\small data size\\\\go\\\\0b77ee66_nohash_1.wav',\n",
       "       b'.\\\\data\\\\small data size\\\\stop\\\\0c40e715_nohash_1.wav',\n",
       "       b'.\\\\data\\\\small data size\\\\left\\\\0b09edd3_nohash_0.wav',\n",
       "       b'.\\\\data\\\\small data size\\\\yes\\\\0ab3b47d_nohash_0.wav',\n",
       "       b'.\\\\data\\\\small data size\\\\go\\\\0d53e045_nohash_1.wav',\n",
       "       b'.\\\\data\\\\small data size\\\\stop\\\\0cd323ec_nohash_1.wav',\n",
       "       b'.\\\\data\\\\small data size\\\\no\\\\0f3f64d5_nohash_0.wav',\n",
       "       b'.\\\\data\\\\small data size\\\\stop\\\\0b40aa8e_nohash_0.wav',\n",
       "       b'.\\\\data\\\\small data size\\\\left\\\\0c2ca723_nohash_0.wav',\n",
       "       b'.\\\\data\\\\small data size\\\\down\\\\0e17f595_nohash_0.wav',\n",
       "       b'.\\\\data\\\\small data size\\\\no\\\\0bde966a_nohash_0.wav',\n",
       "       b'.\\\\data\\\\small data size\\\\stop\\\\0cd323ec_nohash_0.wav',\n",
       "       b'.\\\\data\\\\small data size\\\\yes\\\\00f0204f_nohash_0.wav',\n",
       "       b'.\\\\data\\\\small data size\\\\down\\\\0b77ee66_nohash_0.wav',\n",
       "       b'.\\\\data\\\\small data size\\\\left\\\\0c2d2ffa_nohash_0.wav',\n",
       "       b'.\\\\data\\\\small data size\\\\down\\\\0c2ca723_nohash_0.wav',\n",
       "       b'.\\\\data\\\\small data size\\\\up\\\\0e5193e6_nohash_0.wav',\n",
       "       b'.\\\\data\\\\small data size\\\\up\\\\0c5027de_nohash_0.wav',\n",
       "       b'.\\\\data\\\\small data size\\\\yes\\\\0f3f64d5_nohash_1.wav',\n",
       "       b'.\\\\data\\\\small data size\\\\yes\\\\0c5027de_nohash_0.wav',\n",
       "       b'.\\\\data\\\\small data size\\\\go\\\\0cd323ec_nohash_0.wav',\n",
       "       b'.\\\\data\\\\small data size\\\\down\\\\0ab3b47d_nohash_1.wav',\n",
       "       b'.\\\\data\\\\small data size\\\\stop\\\\0c2d2ffa_nohash_0.wav',\n",
       "       b'.\\\\data\\\\small data size\\\\left\\\\00b01445_nohash_0.wav',\n",
       "       b'.\\\\data\\\\small data size\\\\yes\\\\0ac15fe9_nohash_0.wav',\n",
       "       b'.\\\\data\\\\small data size\\\\yes\\\\0f7205ef_nohash_0.wav',\n",
       "       b'.\\\\data\\\\small data size\\\\stop\\\\0f3f64d5_nohash_1.wav',\n",
       "       b'.\\\\data\\\\small data size\\\\right\\\\0f7dc557_nohash_0.wav',\n",
       "       b'.\\\\data\\\\small data size\\\\down\\\\00f0204f_nohash_0.wav',\n",
       "       b'.\\\\data\\\\small data size\\\\yes\\\\0ff728b5_nohash_1.wav',\n",
       "       b'.\\\\data\\\\small data size\\\\up\\\\0d2bcf9d_nohash_1.wav',\n",
       "       b'.\\\\data\\\\small data size\\\\down\\\\0cd323ec_nohash_0.wav',\n",
       "       b'.\\\\data\\\\small data size\\\\left\\\\0e5193e6_nohash_0.wav',\n",
       "       b'.\\\\data\\\\small data size\\\\left\\\\0e5193e6_nohash_1.wav',\n",
       "       b'.\\\\data\\\\small data size\\\\go\\\\0d53e045_nohash_0.wav',\n",
       "       b'.\\\\data\\\\small data size\\\\right\\\\0ac15fe9_nohash_1.wav',\n",
       "       b'.\\\\data\\\\small data size\\\\no\\\\0c2ca723_nohash_0.wav',\n",
       "       b'.\\\\data\\\\small data size\\\\go\\\\0c2d2ffa_nohash_0.wav',\n",
       "       b'.\\\\data\\\\small data size\\\\yes\\\\0b40aa8e_nohash_0.wav',\n",
       "       b'.\\\\data\\\\small data size\\\\stop\\\\0d2bcf9d_nohash_0.wav',\n",
       "       b'.\\\\data\\\\small data size\\\\up\\\\0d53e045_nohash_0.wav',\n",
       "       b'.\\\\data\\\\small data size\\\\right\\\\0ea0e2f4_nohash_0.wav',\n",
       "       b'.\\\\data\\\\small data size\\\\no\\\\0c2d2ffa_nohash_0.wav',\n",
       "       b'.\\\\data\\\\small data size\\\\down\\\\0e5193e6_nohash_0.wav',\n",
       "       b'.\\\\data\\\\small data size\\\\go\\\\0a9f9af7_nohash_1.wav',\n",
       "       b'.\\\\data\\\\small data size\\\\stop\\\\0b56bcfe_nohash_1.wav',\n",
       "       b'.\\\\data\\\\small data size\\\\left\\\\1a5b9ca4_nohash_0.wav',\n",
       "       b'.\\\\data\\\\small data size\\\\up\\\\0ac15fe9_nohash_0.wav',\n",
       "       b'.\\\\data\\\\small data size\\\\no\\\\0c5027de_nohash_0.wav',\n",
       "       b'.\\\\data\\\\small data size\\\\up\\\\0ab3b47d_nohash_0.wav',\n",
       "       b'.\\\\data\\\\small data size\\\\left\\\\0ff728b5_nohash_1.wav',\n",
       "       b'.\\\\data\\\\small data size\\\\right\\\\0d393936_nohash_0.wav',\n",
       "       b'.\\\\data\\\\small data size\\\\no\\\\0ab3b47d_nohash_0.wav',\n",
       "       b'.\\\\data\\\\small data size\\\\up\\\\0b40aa8e_nohash_1.wav',\n",
       "       b'.\\\\data\\\\small data size\\\\down\\\\0a9f9af7_nohash_0.wav',\n",
       "       b'.\\\\data\\\\small data size\\\\go\\\\0c40e715_nohash_1.wav',\n",
       "       b'.\\\\data\\\\small data size\\\\right\\\\0d2bcf9d_nohash_2.wav',\n",
       "       b'.\\\\data\\\\small data size\\\\yes\\\\0f7dc557_nohash_0.wav',\n",
       "       b'.\\\\data\\\\small data size\\\\yes\\\\0c2d2ffa_nohash_0.wav',\n",
       "       b'.\\\\data\\\\small data size\\\\go\\\\0d393936_nohash_1.wav',\n",
       "       b'.\\\\data\\\\small data size\\\\up\\\\0d2bcf9d_nohash_0.wav',\n",
       "       b'.\\\\data\\\\small data size\\\\right\\\\0c5027de_nohash_1.wav',\n",
       "       b'.\\\\data\\\\small data size\\\\down\\\\00b01445_nohash_1.wav',\n",
       "       b'.\\\\data\\\\small data size\\\\right\\\\0ab3b47d_nohash_0.wav'],\n",
       "      dtype=object)>"
      ]
     },
     "execution_count": 68,
     "metadata": {},
     "output_type": "execute_result"
    }
   ],
   "source": [
    "train_files"
   ]
  },
  {
   "cell_type": "code",
   "execution_count": 33,
   "metadata": {},
   "outputs": [],
   "source": [
    "LABELS = np.array(tf.io.gfile.listdir(str(data_dir)))\n",
    "LABELS = LABELS[LABELS != 'README.md']"
   ]
  },
  {
   "cell_type": "code",
   "execution_count": 34,
   "metadata": {},
   "outputs": [
    {
     "data": {
      "text/plain": [
       "array(['down', 'go', 'left', 'no', 'right', 'stop', 'up', 'yes'],\n",
       "      dtype='<U5')"
      ]
     },
     "execution_count": 34,
     "metadata": {},
     "output_type": "execute_result"
    }
   ],
   "source": [
    "LABELS"
   ]
  },
  {
   "cell_type": "code",
   "execution_count": 91,
   "metadata": {},
   "outputs": [],
   "source": [
    "class SignalGenerator:\n",
    "    def __init__(self, labels, sampling_rate, frame_length, frame_step,\n",
    "            num_mel_bins=None, lower_frequency=None, upper_frequency=None,\n",
    "            num_coefficients=None, mfcc=False):\n",
    "        self.labels = labels\n",
    "        self.sampling_rate = sampling_rate\n",
    "        self.frame_length = frame_length\n",
    "        self.frame_step = frame_step\n",
    "        self.num_mel_bins = num_mel_bins\n",
    "        self.lower_frequency = lower_frequency\n",
    "        self.upper_frequency = upper_frequency\n",
    "        self.num_coefficients = num_coefficients\n",
    "        num_spectrogram_bins = (frame_length) // 2 + 1\n",
    "\n",
    "        if mfcc is True:\n",
    "            self.linear_to_mel_weight_matrix = tf.signal.linear_to_mel_weight_matrix(\n",
    "                    self.num_mel_bins, num_spectrogram_bins, self.sampling_rate,\n",
    "                    self.lower_frequency, self.upper_frequency)\n",
    "            self.preprocess = self.preprocess_with_mfcc\n",
    "        else:\n",
    "            self.preprocess = self.preprocess_with_stft\n",
    "\n",
    "    def read(self, file_path):\n",
    "        parts = tf.strings.split(file_path, os.path.sep)\n",
    "        label = parts[-2]\n",
    "        \n",
    "        label_id = tf.argmax(label == self.labels)\n",
    "        audio_binary = tf.io.read_file(file_path)\n",
    "        audio, _ = tf.audio.decode_wav(audio_binary)\n",
    "        audio = tf.squeeze(audio, axis=1)\n",
    "\n",
    "        return audio, label_id\n",
    "\n",
    "    def pad(self, audio):\n",
    "        zero_padding = tf.zeros([self.sampling_rate] - tf.shape(audio), dtype=tf.float32)\n",
    "        audio = tf.concat([audio, zero_padding], 0)\n",
    "        audio.set_shape([self.sampling_rate])\n",
    "\n",
    "        return audio\n",
    "\n",
    "    def get_spectrogram(self, audio):\n",
    "        stft = tf.signal.stft(audio, frame_length=self.frame_length,\n",
    "                frame_step=self.frame_step, fft_length=self.frame_length)\n",
    "        spectrogram = tf.abs(stft)\n",
    "\n",
    "        return spectrogram\n",
    "\n",
    "    def get_mfccs(self, spectrogram):\n",
    "        mel_spectrogram = tf.tensordot(spectrogram,\n",
    "                self.linear_to_mel_weight_matrix, 1)\n",
    "        log_mel_spectrogram = tf.math.log(mel_spectrogram + 1.e-6)\n",
    "        mfccs = tf.signal.mfccs_from_log_mel_spectrograms(log_mel_spectrogram)\n",
    "        mfccs = mfccs[..., :self.num_coefficients]\n",
    "\n",
    "        return mfccs\n",
    "\n",
    "    def preprocess_with_stft(self, file_path):\n",
    "        audio, label = self.read(file_path)\n",
    "        audio = self.pad(audio)\n",
    "        spectrogram = self.get_spectrogram(audio)\n",
    "        spectrogram = tf.expand_dims(spectrogram, -1)\n",
    "        spectrogram = tf.image.resize(spectrogram, [32, 32])\n",
    "\n",
    "        return spectrogram, label\n",
    "\n",
    "    def preprocess_with_mfcc(self, file_path):\n",
    "        audio, label = self.read(file_path)\n",
    "        audio = self.pad(audio)\n",
    "        spectrogram = self.get_spectrogram(audio)\n",
    "        mfccs = self.get_mfccs(spectrogram)\n",
    "        mfccs = tf.expand_dims(mfccs, -1)\n",
    "\n",
    "        return mfccs, label\n",
    "\n",
    "    def make_dataset(self, files, train):\n",
    "        ds = tf.data.Dataset.from_tensor_slices(files)\n",
    "        print(ds.shape)\n",
    "        ds = ds.map(self.preprocess, num_parallel_calls=4)\n",
    "        ds = ds.batch(32)\n",
    "        ds = ds.cache()\n",
    "        if train is True:\n",
    "            ds = ds.shuffle(100, reshuffle_each_iteration=True)\n",
    "\n",
    "        return ds\n"
   ]
  },
  {
   "cell_type": "code",
   "execution_count": 92,
   "metadata": {},
   "outputs": [],
   "source": [
    "STFT_OPTIONS = {'frame_length': 256, 'frame_step': 128, 'mfcc': False}\n",
    "MFCC_OPTIONS = {'frame_length': 640, 'frame_step': 320, 'mfcc': True,\n",
    "        'lower_frequency': 20, 'upper_frequency': 4000, 'num_mel_bins': 40,\n",
    "        'num_coefficients': 10}"
   ]
  },
  {
   "cell_type": "code",
   "execution_count": 93,
   "metadata": {},
   "outputs": [],
   "source": [
    "if mfcc is True:\n",
    "    options = MFCC_OPTIONS\n",
    "    strides = [2, 1]\n",
    "else:\n",
    "    options = STFT_OPTIONS\n",
    "    strides = [2, 2]"
   ]
  },
  {
   "cell_type": "code",
   "execution_count": 94,
   "metadata": {},
   "outputs": [
    {
     "ename": "AttributeError",
     "evalue": "'TensorSliceDataset' object has no attribute 'shape'",
     "output_type": "error",
     "traceback": [
      "\u001b[1;31m---------------------------------------------------------------------------\u001b[0m",
      "\u001b[1;31mAttributeError\u001b[0m                            Traceback (most recent call last)",
      "\u001b[1;32m<ipython-input-94-a647018ed302>\u001b[0m in \u001b[0;36m<module>\u001b[1;34m\u001b[0m\n\u001b[0;32m      1\u001b[0m \u001b[0mgenerator\u001b[0m \u001b[1;33m=\u001b[0m \u001b[0mSignalGenerator\u001b[0m\u001b[1;33m(\u001b[0m\u001b[0mLABELS\u001b[0m\u001b[1;33m,\u001b[0m \u001b[1;36m16000\u001b[0m\u001b[1;33m,\u001b[0m \u001b[1;33m**\u001b[0m\u001b[0moptions\u001b[0m\u001b[1;33m)\u001b[0m\u001b[1;33m\u001b[0m\u001b[1;33m\u001b[0m\u001b[0m\n\u001b[1;32m----> 2\u001b[1;33m \u001b[0mtrain_ds\u001b[0m \u001b[1;33m=\u001b[0m \u001b[0mgenerator\u001b[0m\u001b[1;33m.\u001b[0m\u001b[0mmake_dataset\u001b[0m\u001b[1;33m(\u001b[0m\u001b[0mtrain_files\u001b[0m\u001b[1;33m,\u001b[0m \u001b[1;32mTrue\u001b[0m\u001b[1;33m)\u001b[0m\u001b[1;33m\u001b[0m\u001b[1;33m\u001b[0m\u001b[0m\n\u001b[0m\u001b[0;32m      3\u001b[0m \u001b[0mval_ds\u001b[0m \u001b[1;33m=\u001b[0m \u001b[0mgenerator\u001b[0m\u001b[1;33m.\u001b[0m\u001b[0mmake_dataset\u001b[0m\u001b[1;33m(\u001b[0m\u001b[0mval_files\u001b[0m\u001b[1;33m,\u001b[0m \u001b[1;32mFalse\u001b[0m\u001b[1;33m)\u001b[0m\u001b[1;33m\u001b[0m\u001b[1;33m\u001b[0m\u001b[0m\n\u001b[0;32m      4\u001b[0m \u001b[0mtest_ds\u001b[0m \u001b[1;33m=\u001b[0m \u001b[0mgenerator\u001b[0m\u001b[1;33m.\u001b[0m\u001b[0mmake_dataset\u001b[0m\u001b[1;33m(\u001b[0m\u001b[0mtest_files\u001b[0m\u001b[1;33m,\u001b[0m \u001b[1;32mFalse\u001b[0m\u001b[1;33m)\u001b[0m\u001b[1;33m\u001b[0m\u001b[1;33m\u001b[0m\u001b[0m\n",
      "\u001b[1;32m<ipython-input-91-23243fd56673>\u001b[0m in \u001b[0;36mmake_dataset\u001b[1;34m(self, files, train)\u001b[0m\n\u001b[0;32m     75\u001b[0m     \u001b[1;32mdef\u001b[0m \u001b[0mmake_dataset\u001b[0m\u001b[1;33m(\u001b[0m\u001b[0mself\u001b[0m\u001b[1;33m,\u001b[0m \u001b[0mfiles\u001b[0m\u001b[1;33m,\u001b[0m \u001b[0mtrain\u001b[0m\u001b[1;33m)\u001b[0m\u001b[1;33m:\u001b[0m\u001b[1;33m\u001b[0m\u001b[1;33m\u001b[0m\u001b[0m\n\u001b[0;32m     76\u001b[0m         \u001b[0mds\u001b[0m \u001b[1;33m=\u001b[0m \u001b[0mtf\u001b[0m\u001b[1;33m.\u001b[0m\u001b[0mdata\u001b[0m\u001b[1;33m.\u001b[0m\u001b[0mDataset\u001b[0m\u001b[1;33m.\u001b[0m\u001b[0mfrom_tensor_slices\u001b[0m\u001b[1;33m(\u001b[0m\u001b[0mfiles\u001b[0m\u001b[1;33m)\u001b[0m\u001b[1;33m\u001b[0m\u001b[1;33m\u001b[0m\u001b[0m\n\u001b[1;32m---> 77\u001b[1;33m         \u001b[0mprint\u001b[0m\u001b[1;33m(\u001b[0m\u001b[0mds\u001b[0m\u001b[1;33m.\u001b[0m\u001b[0mshape\u001b[0m\u001b[1;33m)\u001b[0m\u001b[1;33m\u001b[0m\u001b[1;33m\u001b[0m\u001b[0m\n\u001b[0m\u001b[0;32m     78\u001b[0m         \u001b[0mds\u001b[0m \u001b[1;33m=\u001b[0m \u001b[0mds\u001b[0m\u001b[1;33m.\u001b[0m\u001b[0mmap\u001b[0m\u001b[1;33m(\u001b[0m\u001b[0mself\u001b[0m\u001b[1;33m.\u001b[0m\u001b[0mpreprocess\u001b[0m\u001b[1;33m,\u001b[0m \u001b[0mnum_parallel_calls\u001b[0m\u001b[1;33m=\u001b[0m\u001b[1;36m4\u001b[0m\u001b[1;33m)\u001b[0m\u001b[1;33m\u001b[0m\u001b[1;33m\u001b[0m\u001b[0m\n\u001b[0;32m     79\u001b[0m         \u001b[0mds\u001b[0m \u001b[1;33m=\u001b[0m \u001b[0mds\u001b[0m\u001b[1;33m.\u001b[0m\u001b[0mbatch\u001b[0m\u001b[1;33m(\u001b[0m\u001b[1;36m32\u001b[0m\u001b[1;33m)\u001b[0m\u001b[1;33m\u001b[0m\u001b[1;33m\u001b[0m\u001b[0m\n",
      "\u001b[1;31mAttributeError\u001b[0m: 'TensorSliceDataset' object has no attribute 'shape'"
     ]
    }
   ],
   "source": [
    "generator = SignalGenerator(LABELS, 16000, **options)\n",
    "train_ds = generator.make_dataset(train_files, True)\n",
    "val_ds = generator.make_dataset(val_files, False)\n",
    "test_ds = generator.make_dataset(test_files, False)"
   ]
  },
  {
   "cell_type": "code",
   "execution_count": 96,
   "metadata": {},
   "outputs": [
    {
     "data": {
      "text/plain": [
       "TensorShape([80])"
      ]
     },
     "execution_count": 96,
     "metadata": {},
     "output_type": "execute_result"
    }
   ],
   "source": [
    "train_files.shape"
   ]
  },
  {
   "cell_type": "code",
   "execution_count": 39,
   "metadata": {},
   "outputs": [],
   "source": [
    "# if args.silence is True:\n",
    "#     units = 9\n",
    "# else:\n",
    "#     units = 8"
   ]
  },
  {
   "cell_type": "code",
   "execution_count": 40,
   "metadata": {},
   "outputs": [],
   "source": [
    "MLPmodel = keras.Sequential([\n",
    "    keras.layers.Flatten(),\n",
    "    keras.layers.Dense(256, activation='relu'),\n",
    "    keras.layers.Dense(256, activation='relu'),\n",
    "    keras.layers.Dense(256, activation='relu'),\n",
    "    keras.layers.Dense(8)\n",
    "])"
   ]
  },
  {
   "cell_type": "code",
   "execution_count": 49,
   "metadata": {},
   "outputs": [
    {
     "name": "stdout",
     "output_type": "stream",
     "text": [
      "Model: \"sequential_3\"\n",
      "_________________________________________________________________\n",
      "Layer (type)                 Output Shape              Param #   \n",
      "=================================================================\n",
      "flatten_1 (Flatten)          (None, 490)               0         \n",
      "_________________________________________________________________\n",
      "dense_6 (Dense)              (None, 256)               125696    \n",
      "_________________________________________________________________\n",
      "dense_7 (Dense)              (None, 256)               65792     \n",
      "_________________________________________________________________\n",
      "dense_8 (Dense)              (None, 256)               65792     \n",
      "_________________________________________________________________\n",
      "dense_9 (Dense)              (None, 8)                 2056      \n",
      "=================================================================\n",
      "Total params: 259,336\n",
      "Trainable params: 259,336\n",
      "Non-trainable params: 0\n",
      "_________________________________________________________________\n"
     ]
    }
   ],
   "source": [
    "MLPmodel.summary()"
   ]
  },
  {
   "cell_type": "code",
   "execution_count": 41,
   "metadata": {},
   "outputs": [],
   "source": [
    "CNNmodel = keras.Sequential([\n",
    "    keras.layers.Conv2D(filters=128, kernel_size=[3,3], strides=strides, use_bias=False),\n",
    "    keras.layers.BatchNormalization(momentum=0.1),\n",
    "    keras.layers.ReLU(),\n",
    "    keras.layers.Conv2D(filters=128, kernel_size=[3,3], strides=[1,1], use_bias=False),\n",
    "    keras.layers.BatchNormalization(momentum=0.1),\n",
    "    keras.layers.ReLU(),\n",
    "    keras.layers.Conv2D(filters=128, kernel_size=[3,3], strides=[1,1], use_bias=False),\n",
    "    keras.layers.BatchNormalization(momentum=0.1),\n",
    "    keras.layers.ReLU(),\n",
    "    keras.layers.GlobalAveragePooling2D(),\n",
    "    keras.layers.Dense(units=8)\n",
    "])"
   ]
  },
  {
   "cell_type": "code",
   "execution_count": 42,
   "metadata": {},
   "outputs": [],
   "source": [
    "Ds_CNNmodel = keras.Sequential([\n",
    "    keras.layers.Conv2D(filters=256, kernel_size=[3,3], strides=strides, use_bias=False),\n",
    "    keras.layers.BatchNormalization(momentum=0.1),\n",
    "    keras.layers.ReLU(),\n",
    "    keras.layers.DepthwiseConv2D(kernel_size=[3,3], strides=[1,1],use_bias=False),\n",
    "    keras.layers.Conv2D(filters=256, kernel_size=[1,1], strides=[1,1], use_bias=False),\n",
    "    keras.layers.BatchNormalization(momentum=0.1),\n",
    "    keras.layers.ReLU(),\n",
    "    keras.layers.DepthwiseConv2D(kernel_size=[3,3], strides=[1,1],use_bias=False),\n",
    "    keras.layers.Conv2D(filters=128, kernel_size=[1,1], strides=[1,1], use_bias=False),\n",
    "    keras.layers.BatchNormalization(momentum=0.1),\n",
    "    keras.layers.ReLU(),\n",
    "    keras.layers.GlobalAveragePooling2D(),\n",
    "    keras.layers.Dense(units=8)\n",
    "])"
   ]
  },
  {
   "cell_type": "code",
   "execution_count": 53,
   "metadata": {},
   "outputs": [],
   "source": [
    "metrics = [tf.metrics.SparseCategoricalAccuracy()]\n",
    "loss = tf.keras.losses.SparseCategoricalCrossentropy(from_logits=True)"
   ]
  },
  {
   "cell_type": "code",
   "execution_count": 54,
   "metadata": {},
   "outputs": [],
   "source": [
    "MLPmodel.compile(optimizer='adam',\n",
    "              loss=loss,\n",
    "              metrics=metrics)\n",
    "\n",
    "CNNmodel.compile(optimizer='adam',\n",
    "              loss=loss,\n",
    "              metrics=metrics)\n",
    "\n",
    "Ds_CNNmodel.compile(optimizer='adam',\n",
    "              loss=loss,\n",
    "              metrics=metrics)"
   ]
  },
  {
   "cell_type": "code",
   "execution_count": null,
   "metadata": {},
   "outputs": [],
   "source": []
  },
  {
   "cell_type": "code",
   "execution_count": 55,
   "metadata": {},
   "outputs": [
    {
     "name": "stdout",
     "output_type": "stream",
     "text": [
      "Epoch 1/2\n",
      "3/3 [==============================] - 0s 2ms/step - loss: 1.2523 - sparse_categorical_accuracy: 0.6250\n",
      "Epoch 2/2\n",
      "3/3 [==============================] - 0s 2ms/step - loss: 0.6381 - sparse_categorical_accuracy: 0.8375\n"
     ]
    },
    {
     "data": {
      "text/plain": [
       "<tensorflow.python.keras.callbacks.History at 0x27fdd190b48>"
      ]
     },
     "execution_count": 55,
     "metadata": {},
     "output_type": "execute_result"
    }
   ],
   "source": [
    "cp_callback = keras.callbacks.ModelCheckpoint(\n",
    "    #'./callback_test_chkp/chkp_{epoch:02d}',\n",
    "    './callback_test_chkp/MLP_best',\n",
    "    monitor='val_accuracy',\n",
    "    verbose=0, \n",
    "    #save_best_only=False,\n",
    "    save_best_only=True,\n",
    "    save_weights_only=False,\n",
    "    mode='auto',\n",
    "    save_freq='epoch'\n",
    ")\n",
    "MLPmodel.fit(train_ds, epochs=2)"
   ]
  },
  {
   "cell_type": "code",
   "execution_count": 56,
   "metadata": {},
   "outputs": [
    {
     "name": "stdout",
     "output_type": "stream",
     "text": [
      "Epoch 1/2\n",
      "3/3 [==============================] - ETA: 0s - loss: 1.7792 - sparse_categorical_accuracy: 0.5813WARNING:tensorflow:Can save best model only with val_accuracy available, skipping.\n",
      "3/3 [==============================] - 0s 47ms/step - loss: 1.7792 - sparse_categorical_accuracy: 0.5813\n",
      "Epoch 2/2\n",
      "3/3 [==============================] - ETA: 0s - loss: 1.5173 - sparse_categorical_accuracy: 0.6000WARNING:tensorflow:Can save best model only with val_accuracy available, skipping.\n",
      "3/3 [==============================] - 0s 56ms/step - loss: 1.5173 - sparse_categorical_accuracy: 0.6000\n"
     ]
    },
    {
     "data": {
      "text/plain": [
       "<tensorflow.python.keras.callbacks.History at 0x27fdd1901c8>"
      ]
     },
     "execution_count": 56,
     "metadata": {},
     "output_type": "execute_result"
    }
   ],
   "source": [
    "cp_callback = keras.callbacks.ModelCheckpoint(\n",
    "    #'./callback_test_chkp/chkp_{epoch:02d}',\n",
    "    './callback_test_chkp/CNN_best',\n",
    "    monitor='val_accuracy',\n",
    "    verbose=0, \n",
    "    #save_best_only=False,\n",
    "    save_best_only=True,\n",
    "    save_weights_only=False,\n",
    "    mode='auto',\n",
    "    save_freq='epoch'\n",
    ")\n",
    "CNNmodel.fit(train_ds, epochs=2, callbacks = cp_callback)"
   ]
  },
  {
   "cell_type": "code",
   "execution_count": 60,
   "metadata": {},
   "outputs": [
    {
     "data": {
      "text/plain": [
       "<ShuffleDataset shapes: ((None, 49, 10, 1), (None,)), types: (tf.float32, tf.int64)>"
      ]
     },
     "execution_count": 60,
     "metadata": {},
     "output_type": "execute_result"
    }
   ],
   "source": [
    "train_ds"
   ]
  },
  {
   "cell_type": "code",
   "execution_count": 57,
   "metadata": {},
   "outputs": [
    {
     "name": "stdout",
     "output_type": "stream",
     "text": [
      "Epoch 1/2\n",
      "3/3 [==============================] - ETA: 0s - loss: 1.8022 - sparse_categorical_accuracy: 0.5063WARNING:tensorflow:Can save best model only with val_accuracy available, skipping.\n",
      "3/3 [==============================] - 0s 73ms/step - loss: 1.8022 - sparse_categorical_accuracy: 0.5063\n",
      "Epoch 2/2\n",
      "3/3 [==============================] - ETA: 0s - loss: 1.6685 - sparse_categorical_accuracy: 0.5250WARNING:tensorflow:Can save best model only with val_accuracy available, skipping.\n",
      "3/3 [==============================] - 0s 49ms/step - loss: 1.6685 - sparse_categorical_accuracy: 0.5250\n"
     ]
    },
    {
     "data": {
      "text/plain": [
       "<tensorflow.python.keras.callbacks.History at 0x27fdd255ec8>"
      ]
     },
     "execution_count": 57,
     "metadata": {},
     "output_type": "execute_result"
    }
   ],
   "source": [
    "cp_callback = keras.callbacks.ModelCheckpoint(\n",
    "    #'./callback_test_chkp/chkp_{epoch:02d}',\n",
    "    './callback_test_chkp/Ds_CNN_best',\n",
    "    monitor='val_accuracy',\n",
    "    verbose=0, \n",
    "    #save_best_only=False,\n",
    "    save_best_only=True,\n",
    "    save_weights_only=False,\n",
    "    mode='auto',\n",
    "    save_freq='epoch'\n",
    ")\n",
    "Ds_CNNmodel.fit(train_ds, epochs=2, callbacks = cp_callback)"
   ]
  },
  {
   "cell_type": "code",
   "execution_count": 59,
   "metadata": {},
   "outputs": [
    {
     "name": "stdout",
     "output_type": "stream",
     "text": [
      "\n",
      " accuracy for MLP : [None, None]\n"
     ]
    }
   ],
   "source": [
    "test_acc = MLPmodel.evaluate(test_ds, verbose=0)\n",
    "print('\\n accuracy for MLP :', test_acc)\n",
    "\n",
    "# test_acc = CNNmodel.evaluate(test_ds, verbose=0)\n",
    "# print('\\n accuracy for CNN :', test_acc)\n",
    "\n",
    "# test_acc = Ds_CNNmodel.evaluate(test_ds, verbose=0)\n",
    "# print('\\n accuracy for Ds_CNN :', test_acc)"
   ]
  },
  {
   "cell_type": "code",
   "execution_count": 55,
   "metadata": {},
   "outputs": [
    {
     "ename": "NameError",
     "evalue": "name 'concrete_func' is not defined",
     "output_type": "error",
     "traceback": [
      "\u001b[1;31m---------------------------------------------------------------------------\u001b[0m",
      "\u001b[1;31mNameError\u001b[0m                                 Traceback (most recent call last)",
      "\u001b[1;32m<ipython-input-55-3d86b845c9a9>\u001b[0m in \u001b[0;36m<module>\u001b[1;34m\u001b[0m\n\u001b[1;32m----> 1\u001b[1;33m \u001b[0mMLPmodel\u001b[0m\u001b[1;33m.\u001b[0m\u001b[0msave\u001b[0m\u001b[1;33m(\u001b[0m\u001b[1;34m'MLP'\u001b[0m\u001b[1;33m,\u001b[0m \u001b[0msignatures\u001b[0m\u001b[1;33m=\u001b[0m\u001b[0mconcrete_func\u001b[0m\u001b[1;33m)\u001b[0m\u001b[1;33m\u001b[0m\u001b[1;33m\u001b[0m\u001b[0m\n\u001b[0m",
      "\u001b[1;31mNameError\u001b[0m: name 'concrete_func' is not defined"
     ]
    }
   ],
   "source": [
    "# run_model = tf.function(lambda x: MLPmodel(x))\n",
    "# concrete_func = run_model.get_concrete_function()\n",
    "# MLPmodel.save('MLP', signatures=concrete_func)"
   ]
  }
 ],
 "metadata": {
  "interpreter": {
   "hash": "c8c7d7aad182a88685b13ac429ea2f5f2197e83c90d99e7755a5f19b9321d31f"
  },
  "kernelspec": {
   "display_name": "Python 3.7.5 64-bit ('env_ML4IOt': venv)",
   "language": "python",
   "name": "python3"
  },
  "language_info": {
   "codemirror_mode": {
    "name": "ipython",
    "version": 3
   },
   "file_extension": ".py",
   "mimetype": "text/x-python",
   "name": "python",
   "nbconvert_exporter": "python",
   "pygments_lexer": "ipython3",
   "version": "3.7.5"
  },
  "orig_nbformat": 4
 },
 "nbformat": 4,
 "nbformat_minor": 2
}
