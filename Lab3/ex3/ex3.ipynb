{
 "cells": [
  {
   "cell_type": "code",
   "execution_count": 150,
   "source": [
    "#import adafruit_dht\r\n",
    "import argparse\r\n",
    "import numpy as np\r\n",
    "import time\r\n",
    "import tensorflow as tf\r\n",
    "#from board import D4\r\n"
   ],
   "outputs": [],
   "metadata": {}
  },
  {
   "cell_type": "code",
   "execution_count": 151,
   "source": [
    "converter = tf.lite.TFLiteConverter.from_saved_model('I:\\Polito\\ML4IOT\\CODES TO DO\\Lab3\\ex1\\MLP')\r\n",
    "tflite_model = converter.convert()\r\n",
    "tflite_model_dir = 'I:\\Polito\\ML4IOT\\CODES TO DO\\Lab3\\MLP.tflite'\r\n",
    "with open(tflite_model_dir, 'wb') as fp:\r\n",
    "    fp.write(tflite_model)"
   ],
   "outputs": [
    {
     "output_type": "stream",
     "name": "stderr",
     "text": [
      "WARNING:absl:Buffer deduplication procedure will be skipped when flatbuffer library is not properly loaded\n"
     ]
    }
   ],
   "metadata": {}
  },
  {
   "cell_type": "code",
   "execution_count": 152,
   "source": [
    "interpreter = tf.lite.Interpreter(model_path='I:\\Polito\\ML4IOT\\CODES TO DO\\Lab3\\MLP.tflite')\r\n",
    "interpreter.allocate_tensors()"
   ],
   "outputs": [],
   "metadata": {}
  },
  {
   "cell_type": "code",
   "execution_count": 153,
   "source": [
    "input_details = interpreter.get_input_details()\r\n",
    "output_details = interpreter.get_output_details()"
   ],
   "outputs": [],
   "metadata": {}
  },
  {
   "cell_type": "code",
   "execution_count": 155,
   "source": [
    "input_shape = input_details[0]['shape']"
   ],
   "outputs": [],
   "metadata": {}
  },
  {
   "cell_type": "code",
   "execution_count": 156,
   "source": [
    "ex = np.array(np.random.random_sample(input_shape))\r\n",
    "ex"
   ],
   "outputs": [
    {
     "output_type": "execute_result",
     "data": {
      "text/plain": [
       "array([[[0.00531308, 0.23940327],\n",
       "        [0.21963349, 0.98854497],\n",
       "        [0.58820862, 0.63850295],\n",
       "        [0.24713649, 0.46837972],\n",
       "        [0.6023104 , 0.72439197],\n",
       "        [0.30531942, 0.03005685]]])"
      ]
     },
     "metadata": {},
     "execution_count": 156
    }
   ],
   "metadata": {}
  },
  {
   "cell_type": "code",
   "execution_count": 173,
   "source": [
    "temp_hum_set = np.array([[[-8.2, 93.3],[-8.41, 93.4],[-8.51, 93.90],[-8.31, 94.2],[-8.27, 94.1],[-8.05, 94.4],[-7.62, 94.8]]],dtype=np.float32)\r\n",
    "temp_hum_set.shape"
   ],
   "outputs": [
    {
     "output_type": "execute_result",
     "data": {
      "text/plain": [
       "(1, 7, 2)"
      ]
     },
     "metadata": {},
     "execution_count": 173
    }
   ],
   "metadata": {}
  },
  {
   "cell_type": "code",
   "execution_count": 158,
   "source": [
    "window = np.zeros([1, 6, 2], dtype=np.float32)\r\n",
    "expected = np.zeros(2, dtype=np.float32)\r\n",
    "\r\n",
    "MEAN = np.array([9.107597, 75.904076], dtype=np.float32)\r\n",
    "STD = np.array([ 8.654227, 16.557089], dtype=np.float32)"
   ],
   "outputs": [],
   "metadata": {}
  },
  {
   "cell_type": "code",
   "execution_count": 174,
   "source": [
    "for i in range(7):\r\n",
    "        temperature = temp_hum_set[0][i][0]\r\n",
    "        humidity = temp_hum_set[0][i][1]\r\n",
    "        if i < 6:\r\n",
    "            window[0, i, 0] = np.float32(temperature)\r\n",
    "            window[0, i, 1] = np.float32(humidity)\r\n",
    "        if i == 6:\r\n",
    "            expected[0] = np.float32(temperature)\r\n",
    "            expected[1] = np.float32(humidity)\r\n",
    "\r\n",
    "            window = (window - MEAN) / STD\r\n",
    "            interpreter.set_tensor(input_details[0]['index'], window)\r\n",
    "            interpreter.invoke()\r\n",
    "            predicted = interpreter.get_tensor(output_details[0]['index'])\r\n",
    "\r\n",
    "            print('Measured: {:.1f},{:.1f}'.format(expected[0], expected[1]))\r\n",
    "            print('Predicted: {:.1f},{:.1f}'.format(predicted[0, 0],\r\n",
    "                predicted[0, 1]))\r\n",
    "\r\n",
    "        #time.sleep(0.2)"
   ],
   "outputs": [
    {
     "output_type": "stream",
     "name": "stdout",
     "text": [
      "Measured: -7.6,94.8\n",
      "Predicted: -9.8,91.6\n"
     ]
    }
   ],
   "metadata": {}
  },
  {
   "cell_type": "code",
   "execution_count": null,
   "source": [],
   "outputs": [],
   "metadata": {}
  }
 ],
 "metadata": {
  "interpreter": {
   "hash": "ad4a7f633457edeca986db117c49439398b3575b7cfc8b89bb9541a12d05f016"
  },
  "kernelspec": {
   "name": "python3",
   "display_name": "Python 3.9.7 64-bit"
  },
  "language_info": {
   "codemirror_mode": {
    "name": "ipython",
    "version": 3
   },
   "file_extension": ".py",
   "mimetype": "text/x-python",
   "name": "python",
   "nbconvert_exporter": "python",
   "pygments_lexer": "ipython3",
   "version": "3.9.7"
  },
  "orig_nbformat": 4
 },
 "nbformat": 4,
 "nbformat_minor": 2
}