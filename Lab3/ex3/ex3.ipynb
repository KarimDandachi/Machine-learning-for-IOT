{
 "cells": [
  {
   "cell_type": "code",
   "execution_count": 2,
   "source": [
    "#import adafruit_dht\r\n",
    "import argparse\r\n",
    "import numpy as np\r\n",
    "import time\r\n",
    "import tensorflow as tf\r\n",
    "#from board import D4\r\n"
   ],
   "outputs": [],
   "metadata": {}
  },
  {
   "cell_type": "code",
   "execution_count": 23,
   "source": [
    "converter = tf.lite.TFLiteConverter.from_saved_model('I:\\Polito\\ML4IOT\\CODES TO DO\\Lab3\\ex1\\CNN')\r\n",
    "tflite_model = converter.convert()\r\n",
    "tflite_model_dir = 'I:\\Polito\\ML4IOT\\CODES TO DO\\Lab3\\CNN.tflite'\r\n",
    "with open(tflite_model_dir, 'wb') as fp:\r\n",
    "    fp.write(tflite_model)"
   ],
   "outputs": [
    {
     "output_type": "stream",
     "name": "stderr",
     "text": [
      "WARNING:absl:Buffer deduplication procedure will be skipped when flatbuffer library is not properly loaded\n"
     ]
    }
   ],
   "metadata": {}
  },
  {
   "cell_type": "code",
   "execution_count": 79,
   "source": [
    "converter = tf.lite.TFLiteConverter.from_saved_model('I:\\Polito\\ML4IOT\\CODES TO DO\\Lab3\\ex1\\MLP')\r\n",
    "tflite_model = converter.convert()\r\n",
    "tflite_model_dir = 'I:\\Polito\\ML4IOT\\CODES TO DO\\Lab3\\MLP.tflite'\r\n",
    "with open(tflite_model_dir, 'wb') as fp:\r\n",
    "    fp.write(tflite_model)"
   ],
   "outputs": [
    {
     "output_type": "stream",
     "name": "stderr",
     "text": [
      "WARNING:absl:Buffer deduplication procedure will be skipped when flatbuffer library is not properly loaded\n"
     ]
    }
   ],
   "metadata": {}
  },
  {
   "cell_type": "code",
   "execution_count": 25,
   "source": [
    "converter = tf.lite.TFLiteConverter.from_saved_model('I:\\Polito\\ML4IOT\\CODES TO DO\\Lab3\\ex1\\LSTM')\r\n",
    "tflite_model = converter.convert()\r\n",
    "tflite_model_dir = 'I:\\Polito\\ML4IOT\\CODES TO DO\\Lab3\\LSTM.tflite'\r\n",
    "with open(tflite_model_dir, 'wb') as fp:\r\n",
    "    fp.write(tflite_model)"
   ],
   "outputs": [
    {
     "output_type": "stream",
     "name": "stderr",
     "text": [
      "WARNING:absl:Buffer deduplication procedure will be skipped when flatbuffer library is not properly loaded\n"
     ]
    }
   ],
   "metadata": {}
  },
  {
   "cell_type": "code",
   "execution_count": 26,
   "source": [
    "interpreter = tf.lite.Interpreter(model_path='I:\\Polito\\ML4IOT\\CODES TO DO\\Lab3\\LSTM.tflite')\r\n",
    "interpreter.allocate_tensors()"
   ],
   "outputs": [],
   "metadata": {}
  },
  {
   "cell_type": "code",
   "execution_count": 80,
   "source": [
    "input_details = interpreter.get_input_details()\r\n",
    "output_details = interpreter.get_output_details()"
   ],
   "outputs": [],
   "metadata": {}
  },
  {
   "cell_type": "code",
   "execution_count": 29,
   "source": [
    "input_shape = input_details[0]['shape']"
   ],
   "outputs": [],
   "metadata": {}
  },
  {
   "cell_type": "code",
   "execution_count": 72,
   "source": [
    "ex = np.array(np.random.random_sample(input_shape))\r\n",
    "ex"
   ],
   "outputs": [
    {
     "output_type": "execute_result",
     "data": {
      "text/plain": [
       "array([[[0.05889195, 0.0081935 ],\n",
       "        [0.95920455, 0.71058932],\n",
       "        [0.15475689, 0.26752237],\n",
       "        [0.00440834, 0.80332845],\n",
       "        [0.29993151, 0.06896517],\n",
       "        [0.75737495, 0.56064806]]])"
      ]
     },
     "metadata": {},
     "execution_count": 72
    }
   ],
   "metadata": {}
  },
  {
   "cell_type": "code",
   "execution_count": 75,
   "source": [
    "temp_hum_set = np.array([[[27, 6],\r\n",
    "        [28, 7],\r\n",
    "        [32, 8],\r\n",
    "        [33, 10],\r\n",
    "        [25, 4],\r\n",
    "        [16, 2]]],dtype=np.float32)\r\n",
    "temp_hum_set.shape"
   ],
   "outputs": [
    {
     "output_type": "execute_result",
     "data": {
      "text/plain": [
       "(1, 6, 2)"
      ]
     },
     "metadata": {},
     "execution_count": 75
    }
   ],
   "metadata": {}
  },
  {
   "cell_type": "code",
   "execution_count": 81,
   "source": [
    "times = []\r\n",
    "for i in range(1):\r\n",
    "    input_data = temp_hum_set\r\n",
    "    print(str(i) +\" \"+ str(input_data))\r\n",
    "    interpreter.set_tensor(input_details[0]['index'],input_data)\r\n",
    "    start = time.time()\r\n",
    "    interpreter.invoke()\r\n",
    "    output_data = interpreter.get_tensor(output_details[0]['index'])\r\n",
    "    #print(str(input_data) +\" \"+ str(output_data))\r\n",
    "    end = time.time()\r\n",
    "    times.append(end-start)\r\n",
    "print('{:.3f}ms'.format(np.mean(times)*1000))\r\n"
   ],
   "outputs": [
    {
     "output_type": "stream",
     "name": "stdout",
     "text": [
      "0 [[[27.  6.]\n",
      "  [28.  7.]\n",
      "  [32.  8.]\n",
      "  [33. 10.]\n",
      "  [25.  4.]\n",
      "  [16.  2.]]]\n",
      "0.000ms\n"
     ]
    }
   ],
   "metadata": {}
  },
  {
   "cell_type": "code",
   "execution_count": 37,
   "source": [
    "max(times)"
   ],
   "outputs": [
    {
     "output_type": "execute_result",
     "data": {
      "text/plain": [
       "0.008004903793334961"
      ]
     },
     "metadata": {},
     "execution_count": 37
    }
   ],
   "metadata": {}
  },
  {
   "cell_type": "code",
   "execution_count": null,
   "source": [],
   "outputs": [],
   "metadata": {}
  }
 ],
 "metadata": {
  "interpreter": {
   "hash": "ad4a7f633457edeca986db117c49439398b3575b7cfc8b89bb9541a12d05f016"
  },
  "kernelspec": {
   "name": "python3",
   "display_name": "Python 3.9.7 64-bit"
  },
  "language_info": {
   "codemirror_mode": {
    "name": "ipython",
    "version": 3
   },
   "file_extension": ".py",
   "mimetype": "text/x-python",
   "name": "python",
   "nbconvert_exporter": "python",
   "pygments_lexer": "ipython3",
   "version": "3.9.7"
  },
  "orig_nbformat": 4
 },
 "nbformat": 4,
 "nbformat_minor": 2
}