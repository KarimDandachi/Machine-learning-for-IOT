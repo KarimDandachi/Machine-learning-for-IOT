{
 "cells": [
  {
   "cell_type": "code",
   "execution_count": 26,
   "metadata": {},
   "outputs": [],
   "source": [
    "#import adafruit_dht\n",
    "import argparse\n",
    "import numpy as np\n",
    "import time\n",
    "import tensorflow as tf\n",
    "from scipy import signal\n",
    "#from board import D4"
   ]
  },
  {
   "cell_type": "code",
   "execution_count": 15,
   "metadata": {},
   "outputs": [],
   "source": [
    "converter = tf.lite.TFLiteConverter.from_saved_model('E:\\Github\\Machine-learning-for-IOT\\Lab3\\ex2\\MLP')\n",
    "tflite_model = converter.convert()\n",
    "tflite_model_dir = 'E:\\Github\\Machine-learning-for-IOT\\Lab3\\ex2\\MLP\\MLP.tflite'\n",
    "with open(tflite_model_dir, 'wb') as fp:\n",
    "    fp.write(tflite_model)"
   ]
  },
  {
   "cell_type": "code",
   "execution_count": 16,
   "metadata": {},
   "outputs": [],
   "source": [
    "interpreter = tf.lite.Interpreter(model_path='E:\\Github\\Machine-learning-for-IOT\\Lab3\\ex2\\MLP\\MLP.tflite')\n",
    "interpreter.allocate_tensors()"
   ]
  },
  {
   "cell_type": "code",
   "execution_count": 17,
   "metadata": {},
   "outputs": [],
   "source": [
    "input_details = interpreter.get_input_details()\n",
    "output_details = interpreter.get_output_details()"
   ]
  },
  {
   "cell_type": "code",
   "execution_count": 29,
   "metadata": {},
   "outputs": [],
   "source": [
    "chunk = 4800\n",
    "#resolution = pyaudio.paInt16\n",
    "samp_rate = 48000\n",
    "record_secs = 1 # seconds to record\n",
    "dev_index = 0 # device index found by p.get_device_info_by_index(ii)\n",
    "chunks = int((samp_rate / chunk) * record_secs)\n",
    "length = int(0.016*16000)\n",
    "stride = int(0.008*16000)"
   ]
  },
  {
   "cell_type": "code",
   "execution_count": 23,
   "metadata": {},
   "outputs": [],
   "source": [
    "# buf = BytesIO()\n",
    "\n",
    "# audio = pyaudio.PyAudio() # create pyaudio instantiation\n",
    "# stream = audio.open(format=resolution, rate=samp_rate, channels=1,\n",
    "#                     input_device_index=dev_index, input=True,\n",
    "#                     frames_per_buffer=chunk)\n",
    "# stream.stop_stream()\n",
    "\n",
    "COMMANDS = ['stop', 'up', 'yes', 'right', 'left', 'no', 'silence', 'down', 'go']"
   ]
  },
  {
   "cell_type": "code",
   "execution_count": 34,
   "metadata": {},
   "outputs": [
    {
     "name": "stdout",
     "output_type": "stream",
     "text": [
      "Preprocessing 8.200ms\n",
      "Inference 1.000ms\n",
      "Total 9.200ms\n",
      "Command: down\n",
      "\n"
     ]
    }
   ],
   "source": [
    "while True:\n",
    "\n",
    "\n",
    "\n",
    "    audio = tf.io.read_file('E:/Github/Machine-learning-for-IOT/Lab3/ex2/data/mini_speech_commands/down/0a9f9af7_nohash_0.wav')\n",
    "    tf_audio, rate = tf.audio.decode_wav(audio)\n",
    "    sample = tf.squeeze(tf_audio, 1)\n",
    "    start = time.time()\n",
    "    sample = signal.resample_poly(sample, 1, 3)\n",
    "    sample = tf.convert_to_tensor(sample, dtype=tf.float32)\n",
    "    stft = tf.signal.stft(sample, length, stride,\n",
    "            fft_length=length)\n",
    "    spectrogram = tf.abs(stft)\n",
    "    spectrogram = tf.reshape(spectrogram, [1, 6, 731, 1])\n",
    "    spectrogram = tf.image.resize(spectrogram, [32, 32])\n",
    "    end = time.time()\n",
    "    preprocessing = (end-start)*1e3\n",
    "    print('Preprocessing {:.3f}ms'.format(preprocessing))\n",
    "\n",
    "    start = time.time()\n",
    "    interpreter.set_tensor(input_details[0]['index'], spectrogram)\n",
    "    interpreter.invoke()\n",
    "    predicted = interpreter.get_tensor(output_details[0]['index'])\n",
    "    end = time.time()\n",
    "    inference = (end-start)*1e3\n",
    "    print('Inference {:.3f}ms'.format(inference))\n",
    "    print('Total {:.3f}ms'.format(preprocessing+inference))\n",
    "    index = np.argmax(predicted[0])\n",
    "    print('Command:', COMMANDS[index])\n",
    "    print()\n",
    "    time.sleep(0.5)\n",
    "    break"
   ]
  },
  {
   "cell_type": "code",
   "execution_count": null,
   "metadata": {},
   "outputs": [],
   "source": []
  }
 ],
 "metadata": {
  "interpreter": {
   "hash": "7ab7f2ad5d9e09c381bd8d28cebe11e273499efebdc0886b33fa062a10bc8702"
  },
  "kernelspec": {
   "display_name": "Python 3.9.9 64-bit (windows store)",
   "language": "python",
   "name": "python3"
  },
  "language_info": {
   "codemirror_mode": {
    "name": "ipython",
    "version": 3
   },
   "file_extension": ".py",
   "mimetype": "text/x-python",
   "name": "python",
   "nbconvert_exporter": "python",
   "pygments_lexer": "ipython3",
   "version": "3.7.5"
  },
  "orig_nbformat": 4
 },
 "nbformat": 4,
 "nbformat_minor": 2
}
