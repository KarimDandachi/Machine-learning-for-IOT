{
 "cells": [
  {
   "cell_type": "code",
   "execution_count": 74,
   "id": "04d10530",
   "metadata": {},
   "outputs": [],
   "source": [
    "import argparse\n",
    "import numpy as np\n",
    "import os\n",
    "import pandas as pd\n",
    "import tensorflow as tf\n",
    "from tensorflow import keras\n"
   ]
  },
  {
   "cell_type": "code",
   "execution_count": 75,
   "id": "c0b99845",
   "metadata": {},
   "outputs": [],
   "source": [
    "model = \"MLP\"\n",
    "#labels = 0\n",
    "#labels = 1\n",
    "labels = 2\n",
    "seed = 42\n",
    "tf.random.set_seed(seed)\n",
    "np.random.seed(seed)"
   ]
  },
  {
   "cell_type": "code",
   "execution_count": 76,
   "id": "b8e0f0c8",
   "metadata": {},
   "outputs": [],
   "source": [
    "csv_path = 'jena_climate_2009_2016.csv'\n",
    "df = pd.read_csv(csv_path)"
   ]
  },
  {
   "cell_type": "code",
   "execution_count": 77,
   "id": "e5549718",
   "metadata": {},
   "outputs": [],
   "source": [
    "column_indices = [2, 5]\n",
    "#column_indices = 5\n",
    "columns = df.columns[column_indices]\n",
    "data = df[columns].values.astype(np.float32)"
   ]
  },
  {
   "cell_type": "code",
   "execution_count": 78,
   "id": "927dd304",
   "metadata": {},
   "outputs": [],
   "source": [
    "n = len(data)\n",
    "train_data = data[0:int(n*0.7)]\n",
    "val_data = data[int(n*0.7):int(n*0.9)]\n",
    "test_data = data[int(n*0.9):]"
   ]
  },
  {
   "cell_type": "code",
   "execution_count": 79,
   "id": "759d253a",
   "metadata": {},
   "outputs": [],
   "source": [
    "mean = train_data.mean(axis=0)\n",
    "std = train_data.std(axis=0)"
   ]
  },
  {
   "cell_type": "code",
   "execution_count": 80,
   "id": "f7bf5991",
   "metadata": {},
   "outputs": [],
   "source": [
    "input_width = 6\n",
    "LABEL_OPTIONS = labels"
   ]
  },
  {
   "cell_type": "code",
   "execution_count": 81,
   "id": "5bc0c253",
   "metadata": {},
   "outputs": [],
   "source": [
    "class WindowGenerator:\n",
    "    def __init__(self, input_width, label_options, mean, std):\n",
    "        self.input_width = input_width\n",
    "        self.label_options = label_options\n",
    "        self.mean = tf.reshape(tf.convert_to_tensor(mean), [1, 1, 2])\n",
    "        self.std = tf.reshape(tf.convert_to_tensor(std), [1, 1, 2])\n",
    "\n",
    "    def split_window(self, features):\n",
    "        inputs = features[:, :-1, :]\n",
    "\n",
    "        if self.label_options < 2:\n",
    "            labels = features[:, -1, self.label_options]\n",
    "            labels = tf.expand_dims(labels, -1)\n",
    "            num_labels = 1\n",
    "        else:\n",
    "            labels = features[:, -1, :]\n",
    "            num_labels = 2\n",
    "\n",
    "        inputs.set_shape([None, self.input_width, 2])\n",
    "        labels.set_shape([None, num_labels])\n",
    "\n",
    "        return inputs, labels\n",
    "\n",
    "    def normalize(self, features):\n",
    "        features = (features - self.mean) / (self.std + 1.e-6)\n",
    "\n",
    "        return features\n",
    "\n",
    "    def preprocess(self, features):\n",
    "        inputs, labels = self.split_window(features)\n",
    "        inputs = self.normalize(inputs)\n",
    "        return inputs, labels\n",
    "\n",
    "    def make_dataset(self, data, train):\n",
    "        ds = tf.keras.preprocessing.timeseries_dataset_from_array(\n",
    "                data=data,\n",
    "                targets=None,\n",
    "                sequence_length=input_width+1,\n",
    "                sequence_stride=1,\n",
    "                batch_size=32)\n",
    "        ds = ds.map(self.preprocess)\n",
    "        ds = ds.cache()\n",
    "        if train is True:\n",
    "            ds = ds.shuffle(100, reshuffle_each_iteration=True)\n",
    "\n",
    "        return ds"
   ]
  },
  {
   "cell_type": "code",
   "execution_count": 82,
   "id": "2bd74818",
   "metadata": {},
   "outputs": [],
   "source": [
    "class MultipleOutputforMAE(tf.keras.metrics.Metric):\n",
    "  def __init__(self, name='MAE', **kwargs):\n",
    "      super().__init__(name=name, **kwargs)\n",
    "      self.total = self.add_weight(name='total', initializer='zeros',shape=(2,))\n",
    "      self.count = self.add_weight('count',initializer = 'zeros')\n",
    "  def update_state(self, y_true, y_pred, sample_weight=None):\n",
    "    error = tf.abs(y_pred - y_true)\n",
    "    error = tf.reduce_mean(error,axis = 0)\n",
    "    self.total.assign_add(error)\n",
    "    self.count.assign_add(1.)\n",
    "\n",
    "  def reset_states(self):\n",
    "    self.count.assign(tf.zeros_like(self.count))\n",
    "    self.total.assign(tf.zeros_like(self.total))\n",
    "    return\n",
    "\n",
    "  def result(self):\n",
    "    result = tf.math.divide_no_nan(self.total,self.count)\n",
    "    return result"
   ]
  },
  {
   "cell_type": "code",
   "execution_count": 83,
   "id": "4a8365d8",
   "metadata": {},
   "outputs": [],
   "source": [
    "generator = WindowGenerator(input_width, LABEL_OPTIONS, mean, std)\n",
    "train_ds = generator.make_dataset(train_data, True)\n",
    "val_ds = generator.make_dataset(val_data, False)\n",
    "test_ds = generator.make_dataset(test_data, False)"
   ]
  },
  {
   "cell_type": "code",
   "execution_count": 100,
   "id": "0ae6f0b0",
   "metadata": {},
   "outputs": [],
   "source": [
    "MLPmodel = keras.Sequential([\n",
    "    keras.layers.Flatten(),\n",
    "    keras.layers.Dense(128, activation='relu'),\n",
    "    keras.layers.Dense(128, activation='relu'),\n",
    "    keras.layers.Dense(2)\n",
    "])"
   ]
  },
  {
   "cell_type": "code",
   "execution_count": 101,
   "id": "e0651170",
   "metadata": {},
   "outputs": [],
   "source": [
    "if labels != 2:\n",
    "    metrics = [tf.metrics.MeanAbsoluteError()]\n",
    "else:\n",
    "    metrics = [MultipleOutputforMAE()]"
   ]
  },
  {
   "cell_type": "code",
   "execution_count": 102,
   "id": "6cebc25c",
   "metadata": {},
   "outputs": [],
   "source": [
    "CNNmodel = keras.Sequential([\n",
    "    keras.layers.Conv1D(filters=64, kernel_size=3,activation='relu'),\n",
    "    keras.layers.Flatten(),\n",
    "    keras.layers.Dense(64, activation='relu'),\n",
    "    keras.layers.Dense(1)\n",
    "])"
   ]
  },
  {
   "cell_type": "code",
   "execution_count": 103,
   "id": "b9fcc277",
   "metadata": {},
   "outputs": [],
   "source": [
    "LSTMmodel = keras.Sequential([\n",
    "    keras.layers.LSTM(units=64),\n",
    "    keras.layers.Flatten(),\n",
    "    keras.layers.Dense(1)\n",
    "])"
   ]
  },
  {
   "cell_type": "code",
   "execution_count": 104,
   "id": "1d52a781",
   "metadata": {},
   "outputs": [],
   "source": [
    "MLPmodel.compile(optimizer='adam',\n",
    "              loss=tf.keras.losses.MAE,\n",
    "              metrics=metrics)"
   ]
  },
  {
   "cell_type": "code",
   "execution_count": 105,
   "id": "8ceca4df",
   "metadata": {},
   "outputs": [],
   "source": [
    "CNNmodel.compile(optimizer='adam',\n",
    "              loss=tf.keras.losses.MAE,\n",
    "              metrics=metrics)"
   ]
  },
  {
   "cell_type": "code",
   "execution_count": 106,
   "id": "e1f81412",
   "metadata": {},
   "outputs": [],
   "source": [
    "LSTMmodel.compile(optimizer='adam',\n",
    "              loss=tf.keras.losses.MAE,\n",
    "              metrics=metrics)"
   ]
  },
  {
   "cell_type": "code",
   "execution_count": 107,
   "id": "0011eaaa",
   "metadata": {},
   "outputs": [
    {
     "name": "stdout",
     "output_type": "stream",
     "text": [
      "9200/9200 [==============================] - 14s 1ms/step - loss: 1.9596 - MAE: 1.9595\n"
     ]
    },
    {
     "data": {
      "text/plain": [
       "<keras.callbacks.History at 0x1eb5f7a1160>"
      ]
     },
     "execution_count": 107,
     "metadata": {},
     "output_type": "execute_result"
    }
   ],
   "source": [
    "MLPmodel.fit(train_ds, epochs=1)\n",
    "#model.fit(train_ds, batch_size=32, epochs=20)"
   ]
  },
  {
   "cell_type": "code",
   "execution_count": 92,
   "id": "62090f87",
   "metadata": {},
   "outputs": [],
   "source": [
    "#CNNmodel.fit(train_ds, batch_size=32, epochs=1)\n",
    "#CNNmodel.fit(train_ds, batch_size=32, epochs=20)"
   ]
  },
  {
   "cell_type": "code",
   "execution_count": 93,
   "id": "c51dc11e",
   "metadata": {},
   "outputs": [],
   "source": [
    "#LSTMmodel.fit(train_ds, batch_size=32, epochs=1)\n",
    "#LSTMmodel.fit(train_ds, batch_size=32, epochs=20)"
   ]
  },
  {
   "cell_type": "code",
   "execution_count": 108,
   "id": "3ca01eda",
   "metadata": {},
   "outputs": [
    {
     "name": "stderr",
     "output_type": "stream",
     "text": [
      "C:\\Users\\imanp\\AppData\\Local\\Programs\\Python\\Python39\\lib\\site-packages\\keras\\engine\\training.py:1841: UserWarning: Metric MultipleOutputforMAE implements a `reset_states()` method; rename it to `reset_state()` (without the final \"s\"). The name `reset_states()` has been deprecated to improve API consistency.\n",
      "  m.reset_state()\n"
     ]
    },
    {
     "name": "stdout",
     "output_type": "stream",
     "text": [
      "\n",
      " MSE for MLP : [0.5947353 1.182977 ]\n"
     ]
    }
   ],
   "source": [
    "test_loss, test_acc = MLPmodel.evaluate(test_ds, verbose=0)\n",
    "print('\\n MSE for MLP :', test_acc)\n",
    "\n",
    "#0.22284989058971405\n",
    "#1.5559452772140503\n",
    "#1370.72119140625"
   ]
  },
  {
   "cell_type": "code",
   "execution_count": 95,
   "id": "ed4a9b64",
   "metadata": {},
   "outputs": [
    {
     "name": "stdout",
     "output_type": "stream",
     "text": [
      "\n",
      " MSE for CNN : [14.08772  60.566593]\n"
     ]
    }
   ],
   "source": [
    "test_loss, test_acc = CNNmodel.evaluate(test_ds, verbose=0)\n",
    "print('\\n MSE for CNN :', test_acc)\n",
    "#0.08092997968196869\n",
    "#2.0211997032165527\n",
    "#1455.0245361328125"
   ]
  },
  {
   "cell_type": "code",
   "execution_count": 96,
   "id": "1a584f95",
   "metadata": {},
   "outputs": [
    {
     "name": "stdout",
     "output_type": "stream",
     "text": [
      "\n",
      " MSE for LSTM : [13.41685 65.19308]\n"
     ]
    }
   ],
   "source": [
    "test_loss, test_acc = LSTMmodel.evaluate(test_ds, verbose=0)\n",
    "print('\\n MSE for LSTM :', test_acc)\n",
    "#0.2179471105337143\n",
    "#2.320437431335449\n",
    "#1272.8814697265625"
   ]
  },
  {
   "cell_type": "code",
   "execution_count": 109,
   "id": "3906827f",
   "metadata": {},
   "outputs": [
    {
     "name": "stdout",
     "output_type": "stream",
     "text": [
      "Model: \"sequential_12\"\n",
      "_________________________________________________________________\n",
      " Layer (type)                Output Shape              Param #   \n",
      "=================================================================\n",
      " flatten_12 (Flatten)        (None, 12)                0         \n",
      "                                                                 \n",
      " dense_24 (Dense)            (None, 128)               1664      \n",
      "                                                                 \n",
      " dense_25 (Dense)            (None, 128)               16512     \n",
      "                                                                 \n",
      " dense_26 (Dense)            (None, 2)                 258       \n",
      "                                                                 \n",
      "=================================================================\n",
      "Total params: 18,434\n",
      "Trainable params: 18,434\n",
      "Non-trainable params: 0\n",
      "_________________________________________________________________\n"
     ]
    }
   ],
   "source": [
    "MLPmodel.summary()"
   ]
  },
  {
   "cell_type": "code",
   "execution_count": 110,
   "id": "12ae6d51",
   "metadata": {},
   "outputs": [
    {
     "name": "stdout",
     "output_type": "stream",
     "text": [
      "INFO:tensorflow:Assets written to: MLP\\assets\n"
     ]
    }
   ],
   "source": [
    "run_model = tf.function(lambda x: MLPmodel(x))\n",
    "concrete_func = run_model.get_concrete_function(tf.TensorSpec([1, 6, 2],tf.float32))\n",
    "MLPmodel.save('MLP', signatures=concrete_func)"
   ]
  },
  {
   "cell_type": "code",
   "execution_count": 111,
   "id": "7b8fac7e",
   "metadata": {},
   "outputs": [
    {
     "data": {
      "text/plain": [
       "<ShuffleDataset shapes: ((None, 6, 2), (None, 2)), types: (tf.float32, tf.float32)>"
      ]
     },
     "execution_count": 111,
     "metadata": {},
     "output_type": "execute_result"
    }
   ],
   "source": [
    "train_ds"
   ]
  },
  {
   "cell_type": "code",
   "execution_count": 112,
   "id": "1d805ef0",
   "metadata": {},
   "outputs": [],
   "source": [
    "tf.data.experimental.save(train_ds, './th_train')\n",
    "tf.data.experimental.save(val_ds, './th_val')\n",
    "tf.data.experimental.save(test_ds, './th_test')"
   ]
  },
  {
   "cell_type": "code",
   "execution_count": null,
   "id": "aae2b9d0",
   "metadata": {},
   "outputs": [],
   "source": []
  }
 ],
 "metadata": {
  "interpreter": {
   "hash": "ad4a7f633457edeca986db117c49439398b3575b7cfc8b89bb9541a12d05f016"
  },
  "kernelspec": {
   "display_name": "Python 3.9.7 64-bit",
   "name": "python3"
  },
  "language_info": {
   "codemirror_mode": {
    "name": "ipython",
    "version": 3
   },
   "file_extension": ".py",
   "mimetype": "text/x-python",
   "name": "python",
   "nbconvert_exporter": "python",
   "pygments_lexer": "ipython3",
   "version": "3.9.7"
  }
 },
 "nbformat": 4,
 "nbformat_minor": 5
}
