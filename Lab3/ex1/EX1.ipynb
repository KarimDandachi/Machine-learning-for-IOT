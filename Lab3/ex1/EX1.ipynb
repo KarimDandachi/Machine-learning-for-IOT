{
 "cells": [
  {
   "cell_type": "code",
   "execution_count": 74,
   "source": [
    "import argparse\r\n",
    "import numpy as np\r\n",
    "import os\r\n",
    "import pandas as pd\r\n",
    "import tensorflow as tf\r\n",
    "from tensorflow import keras\r\n"
   ],
   "outputs": [],
   "metadata": {}
  },
  {
   "cell_type": "code",
   "execution_count": 75,
   "source": [
    "model = \"MLP\"\r\n",
    "#labels = 0\r\n",
    "#labels = 1\r\n",
    "labels = 2\r\n",
    "seed = 42\r\n",
    "tf.random.set_seed(seed)\r\n",
    "np.random.seed(seed)"
   ],
   "outputs": [],
   "metadata": {}
  },
  {
   "cell_type": "code",
   "execution_count": 76,
   "source": [
    "csv_path = 'jena_climate_2009_2016.csv'\r\n",
    "df = pd.read_csv(csv_path)"
   ],
   "outputs": [],
   "metadata": {}
  },
  {
   "cell_type": "code",
   "execution_count": 77,
   "source": [
    "column_indices = [2, 5]\r\n",
    "#column_indices = 5\r\n",
    "columns = df.columns[column_indices]\r\n",
    "data = df[columns].values.astype(np.float32)"
   ],
   "outputs": [],
   "metadata": {}
  },
  {
   "cell_type": "code",
   "execution_count": 78,
   "source": [
    "n = len(data)\r\n",
    "train_data = data[0:int(n*0.7)]\r\n",
    "val_data = data[int(n*0.7):int(n*0.9)]\r\n",
    "test_data = data[int(n*0.9):]"
   ],
   "outputs": [],
   "metadata": {}
  },
  {
   "cell_type": "code",
   "execution_count": 79,
   "source": [
    "mean = train_data.mean(axis=0)\r\n",
    "std = train_data.std(axis=0)"
   ],
   "outputs": [],
   "metadata": {}
  },
  {
   "cell_type": "code",
   "execution_count": 80,
   "source": [
    "input_width = 6\r\n",
    "LABEL_OPTIONS = labels"
   ],
   "outputs": [],
   "metadata": {}
  },
  {
   "cell_type": "code",
   "execution_count": 81,
   "source": [
    "class WindowGenerator:\r\n",
    "    def __init__(self, input_width, label_options, mean, std):\r\n",
    "        self.input_width = input_width\r\n",
    "        self.label_options = label_options\r\n",
    "        self.mean = tf.reshape(tf.convert_to_tensor(mean), [1, 1, 2])\r\n",
    "        self.std = tf.reshape(tf.convert_to_tensor(std), [1, 1, 2])\r\n",
    "\r\n",
    "    def split_window(self, features):\r\n",
    "        inputs = features[:, :-1, :]\r\n",
    "\r\n",
    "        if self.label_options < 2:\r\n",
    "            labels = features[:, -1, self.label_options]\r\n",
    "            labels = tf.expand_dims(labels, -1)\r\n",
    "            num_labels = 1\r\n",
    "        else:\r\n",
    "            labels = features[:, -1, :]\r\n",
    "            num_labels = 2\r\n",
    "\r\n",
    "        inputs.set_shape([None, self.input_width, 2])\r\n",
    "        labels.set_shape([None, num_labels])\r\n",
    "\r\n",
    "        return inputs, labels\r\n",
    "\r\n",
    "    def normalize(self, features):\r\n",
    "        features = (features - self.mean) / (self.std + 1.e-6)\r\n",
    "\r\n",
    "        return features\r\n",
    "\r\n",
    "    def preprocess(self, features):\r\n",
    "        inputs, labels = self.split_window(features)\r\n",
    "        inputs = self.normalize(inputs)\r\n",
    "        return inputs, labels\r\n",
    "\r\n",
    "    def make_dataset(self, data, train):\r\n",
    "        ds = tf.keras.preprocessing.timeseries_dataset_from_array(\r\n",
    "                data=data,\r\n",
    "                targets=None,\r\n",
    "                sequence_length=input_width+1,\r\n",
    "                sequence_stride=1,\r\n",
    "                batch_size=32)\r\n",
    "        ds = ds.map(self.preprocess)\r\n",
    "        ds = ds.cache()\r\n",
    "        if train is True:\r\n",
    "            ds = ds.shuffle(100, reshuffle_each_iteration=True)\r\n",
    "\r\n",
    "        return ds"
   ],
   "outputs": [],
   "metadata": {}
  },
  {
   "cell_type": "code",
   "execution_count": 82,
   "source": [
    "class MultipleOutputforMAE(tf.keras.metrics.Metric):\r\n",
    "  def __init__(self, name='MAE', **kwargs):\r\n",
    "      super().__init__(name=name, **kwargs)\r\n",
    "      self.total = self.add_weight(name='total', initializer='zeros',shape=(2,))\r\n",
    "      self.count = self.add_weight('count',initializer = 'zeros')\r\n",
    "  def update_state(self, y_true, y_pred, sample_weight=None):\r\n",
    "    error = tf.abs(y_pred - y_true)\r\n",
    "    error = tf.reduce_mean(error,axis = 0)\r\n",
    "    self.total.assign_add(error)\r\n",
    "    self.count.assign_add(1.)\r\n",
    "\r\n",
    "  def reset_states(self):\r\n",
    "    self.count.assign(tf.zeros_like(self.count))\r\n",
    "    self.total.assign(tf.zeros_like(self.total))\r\n",
    "    return\r\n",
    "\r\n",
    "  def result(self):\r\n",
    "    result = tf.math.divide_no_nan(self.total,self.count)\r\n",
    "    return result"
   ],
   "outputs": [],
   "metadata": {}
  },
  {
   "cell_type": "code",
   "execution_count": 83,
   "source": [
    "generator = WindowGenerator(input_width, LABEL_OPTIONS, mean, std)\r\n",
    "train_ds = generator.make_dataset(train_data, True)\r\n",
    "val_ds = generator.make_dataset(val_data, False)\r\n",
    "test_ds = generator.make_dataset(test_data, False)"
   ],
   "outputs": [],
   "metadata": {}
  },
  {
   "cell_type": "code",
   "execution_count": 100,
   "source": [
    "MLPmodel = keras.Sequential([\r\n",
    "    keras.layers.Flatten(),\r\n",
    "    keras.layers.Dense(128, activation='relu'),\r\n",
    "    keras.layers.Dense(128, activation='relu'),\r\n",
    "    keras.layers.Dense(2)\r\n",
    "])"
   ],
   "outputs": [],
   "metadata": {}
  },
  {
   "cell_type": "code",
   "execution_count": 101,
   "source": [
    "if labels != 2:\r\n",
    "    metrics = [tf.metrics.MeanAbsoluteError()]\r\n",
    "else:\r\n",
    "    metrics = [MultipleOutputforMAE()]"
   ],
   "outputs": [],
   "metadata": {}
  },
  {
   "cell_type": "code",
   "execution_count": 102,
   "source": [
    "CNNmodel = keras.Sequential([\r\n",
    "    keras.layers.Conv1D(filters=64, kernel_size=3,activation='relu'),\r\n",
    "    keras.layers.Flatten(),\r\n",
    "    keras.layers.Dense(64, activation='relu'),\r\n",
    "    keras.layers.Dense(1)\r\n",
    "])"
   ],
   "outputs": [],
   "metadata": {}
  },
  {
   "cell_type": "code",
   "execution_count": 103,
   "source": [
    "LSTMmodel = keras.Sequential([\r\n",
    "    keras.layers.LSTM(units=64),\r\n",
    "    keras.layers.Flatten(),\r\n",
    "    keras.layers.Dense(1)\r\n",
    "])"
   ],
   "outputs": [],
   "metadata": {}
  },
  {
   "cell_type": "code",
   "execution_count": 104,
   "source": [
    "MLPmodel.compile(optimizer='adam',\r\n",
    "              loss=tf.keras.losses.MAE,\r\n",
    "              metrics=metrics)"
   ],
   "outputs": [],
   "metadata": {}
  },
  {
   "cell_type": "code",
   "execution_count": 105,
   "source": [
    "CNNmodel.compile(optimizer='adam',\r\n",
    "              loss=tf.keras.losses.MAE,\r\n",
    "              metrics=metrics)"
   ],
   "outputs": [],
   "metadata": {}
  },
  {
   "cell_type": "code",
   "execution_count": 106,
   "source": [
    "LSTMmodel.compile(optimizer='adam',\r\n",
    "              loss=tf.keras.losses.MAE,\r\n",
    "              metrics=metrics)"
   ],
   "outputs": [],
   "metadata": {}
  },
  {
   "cell_type": "code",
   "execution_count": 107,
   "source": [
    "MLPmodel.fit(train_ds, epochs=1)\r\n",
    "#model.fit(train_ds, batch_size=32, epochs=20)"
   ],
   "outputs": [
    {
     "output_type": "stream",
     "name": "stdout",
     "text": [
      "9200/9200 [==============================] - 14s 1ms/step - loss: 1.9596 - MAE: 1.9595\n"
     ]
    },
    {
     "output_type": "execute_result",
     "data": {
      "text/plain": [
       "<keras.callbacks.History at 0x1eb5f7a1160>"
      ]
     },
     "metadata": {},
     "execution_count": 107
    }
   ],
   "metadata": {}
  },
  {
   "cell_type": "code",
   "execution_count": 92,
   "source": [
    "#CNNmodel.fit(train_ds, batch_size=32, epochs=1)\r\n",
    "#CNNmodel.fit(train_ds, batch_size=32, epochs=20)"
   ],
   "outputs": [],
   "metadata": {}
  },
  {
   "cell_type": "code",
   "execution_count": 93,
   "source": [
    "#LSTMmodel.fit(train_ds, batch_size=32, epochs=1)\r\n",
    "#LSTMmodel.fit(train_ds, batch_size=32, epochs=20)"
   ],
   "outputs": [],
   "metadata": {}
  },
  {
   "cell_type": "code",
   "execution_count": 108,
   "source": [
    "test_loss, test_acc = MLPmodel.evaluate(test_ds, verbose=0)\r\n",
    "print('\\n MSE for MLP :', test_acc)\r\n",
    "\r\n",
    "#0.22284989058971405\r\n",
    "#1.5559452772140503\r\n",
    "#1370.72119140625"
   ],
   "outputs": [
    {
     "output_type": "stream",
     "name": "stderr",
     "text": [
      "C:\\Users\\imanp\\AppData\\Local\\Programs\\Python\\Python39\\lib\\site-packages\\keras\\engine\\training.py:1841: UserWarning: Metric MultipleOutputforMAE implements a `reset_states()` method; rename it to `reset_state()` (without the final \"s\"). The name `reset_states()` has been deprecated to improve API consistency.\n",
      "  m.reset_state()\n"
     ]
    },
    {
     "output_type": "stream",
     "name": "stdout",
     "text": [
      "\n",
      " MSE for MLP : [0.5947353 1.182977 ]\n"
     ]
    }
   ],
   "metadata": {}
  },
  {
   "cell_type": "code",
   "execution_count": 95,
   "source": [
    "test_loss, test_acc = CNNmodel.evaluate(test_ds, verbose=0)\r\n",
    "print('\\n MSE for CNN :', test_acc)\r\n",
    "#0.08092997968196869\r\n",
    "#2.0211997032165527\r\n",
    "#1455.0245361328125"
   ],
   "outputs": [
    {
     "output_type": "stream",
     "name": "stdout",
     "text": [
      "\n",
      " MSE for CNN : [14.08772  60.566593]\n"
     ]
    }
   ],
   "metadata": {}
  },
  {
   "cell_type": "code",
   "execution_count": 96,
   "source": [
    "test_loss, test_acc = LSTMmodel.evaluate(test_ds, verbose=0)\r\n",
    "print('\\n MSE for LSTM :', test_acc)\r\n",
    "#0.2179471105337143\r\n",
    "#2.320437431335449\r\n",
    "#1272.8814697265625"
   ],
   "outputs": [
    {
     "output_type": "stream",
     "name": "stdout",
     "text": [
      "\n",
      " MSE for LSTM : [13.41685 65.19308]\n"
     ]
    }
   ],
   "metadata": {}
  },
  {
   "cell_type": "code",
   "execution_count": 109,
   "source": [
    "MLPmodel.summary()"
   ],
   "outputs": [
    {
     "output_type": "stream",
     "name": "stdout",
     "text": [
      "Model: \"sequential_12\"\n",
      "_________________________________________________________________\n",
      " Layer (type)                Output Shape              Param #   \n",
      "=================================================================\n",
      " flatten_12 (Flatten)        (None, 12)                0         \n",
      "                                                                 \n",
      " dense_24 (Dense)            (None, 128)               1664      \n",
      "                                                                 \n",
      " dense_25 (Dense)            (None, 128)               16512     \n",
      "                                                                 \n",
      " dense_26 (Dense)            (None, 2)                 258       \n",
      "                                                                 \n",
      "=================================================================\n",
      "Total params: 18,434\n",
      "Trainable params: 18,434\n",
      "Non-trainable params: 0\n",
      "_________________________________________________________________\n"
     ]
    }
   ],
   "metadata": {}
  },
  {
   "cell_type": "code",
   "execution_count": 110,
   "source": [
    "run_model = tf.function(lambda x: MLPmodel(x))\r\n",
    "concrete_func = run_model.get_concrete_function(tf.TensorSpec([1, 6, 2],tf.float32))\r\n",
    "MLPmodel.save('MLP', signatures=concrete_func)"
   ],
   "outputs": [
    {
     "output_type": "stream",
     "name": "stdout",
     "text": [
      "INFO:tensorflow:Assets written to: MLP\\assets\n"
     ]
    }
   ],
   "metadata": {}
  },
  {
   "cell_type": "code",
   "execution_count": 111,
   "source": [
    "train_ds"
   ],
   "outputs": [
    {
     "output_type": "execute_result",
     "data": {
      "text/plain": [
       "<ShuffleDataset shapes: ((None, 6, 2), (None, 2)), types: (tf.float32, tf.float32)>"
      ]
     },
     "metadata": {},
     "execution_count": 111
    }
   ],
   "metadata": {}
  },
  {
   "cell_type": "code",
   "execution_count": 112,
   "source": [
    "tf.data.experimental.save(train_ds, './th_train')\r\n",
    "tf.data.experimental.save(val_ds, './th_val')\r\n",
    "tf.data.experimental.save(test_ds, './th_test')"
   ],
   "outputs": [],
   "metadata": {}
  },
  {
   "cell_type": "code",
   "execution_count": null,
   "source": [],
   "outputs": [],
   "metadata": {}
  }
 ],
 "metadata": {
  "kernelspec": {
   "name": "python3",
   "display_name": "Python 3.9.7 64-bit"
  },
  "language_info": {
   "codemirror_mode": {
    "name": "ipython",
    "version": 3
   },
   "file_extension": ".py",
   "mimetype": "text/x-python",
   "name": "python",
   "nbconvert_exporter": "python",
   "pygments_lexer": "ipython3",
   "version": "3.9.7"
  },
  "interpreter": {
   "hash": "ad4a7f633457edeca986db117c49439398b3575b7cfc8b89bb9541a12d05f016"
  }
 },
 "nbformat": 4,
 "nbformat_minor": 5
}