{
 "cells": [
  {
   "cell_type": "code",
   "execution_count": 141,
   "id": "99264fbe",
   "metadata": {},
   "outputs": [],
   "source": [
    "import argparse\n",
    "import numpy as np\n",
    "import os\n",
    "import pandas as pd\n",
    "import tensorflow as tf\n",
    "from tensorflow import keras\n"
   ]
  },
  {
   "cell_type": "code",
   "execution_count": 142,
   "id": "b8e04cb7",
   "metadata": {},
   "outputs": [],
   "source": [
    "model = \"MLP\"\n",
    "#labels = 0\n",
    "#labels = 1\n",
    "labels = 2\n",
    "seed = 42\n",
    "tf.random.set_seed(seed)\n",
    "np.random.seed(seed)"
   ]
  },
  {
   "cell_type": "code",
   "execution_count": 143,
   "id": "065ecab0",
   "metadata": {},
   "outputs": [],
   "source": [
    "csv_path = 'jena_climate_2009_2016.csv'\n",
    "df = pd.read_csv(csv_path)"
   ]
  },
  {
   "cell_type": "code",
   "execution_count": 144,
   "id": "48da749f",
   "metadata": {},
   "outputs": [],
   "source": [
    "column_indices = [2, 5]\n",
    "#column_indices = 5\n",
    "columns = df.columns[column_indices]\n",
    "data = df[columns].values.astype(np.float32)"
   ]
  },
  {
   "cell_type": "code",
   "execution_count": 145,
   "id": "5f27e2dd",
   "metadata": {},
   "outputs": [],
   "source": [
    "n = len(data)\n",
    "train_data = data[0:int(n*0.7)]\n",
    "val_data = data[int(n*0.7):int(n*0.9)]\n",
    "test_data = data[int(n*0.9):]"
   ]
  },
  {
   "cell_type": "code",
   "execution_count": 146,
   "id": "c3031f9c",
   "metadata": {},
   "outputs": [],
   "source": [
    "mean = train_data.mean(axis=0)\n",
    "std = train_data.std(axis=0)"
   ]
  },
  {
   "cell_type": "code",
   "execution_count": 147,
   "id": "4887aa51",
   "metadata": {},
   "outputs": [],
   "source": [
    "input_width = 6\n",
    "LABEL_OPTIONS = labels"
   ]
  },
  {
   "cell_type": "code",
   "execution_count": 148,
   "id": "3825a2d0",
   "metadata": {},
   "outputs": [],
   "source": [
    "class WindowGenerator:\n",
    "    def __init__(self, input_width, label_options, mean, std):\n",
    "        self.input_width = input_width\n",
    "        self.label_options = label_options\n",
    "        self.mean = tf.reshape(tf.convert_to_tensor(mean), [1, 1, 2])\n",
    "        self.std = tf.reshape(tf.convert_to_tensor(std), [1, 1, 2])\n",
    "\n",
    "    def split_window(self, features):\n",
    "        inputs = features[:, :-1, :]\n",
    "\n",
    "        if self.label_options < 2:\n",
    "            labels = features[:, -1, self.label_options]\n",
    "            labels = tf.expand_dims(labels, -1)\n",
    "            num_labels = 1\n",
    "        else:\n",
    "            labels = features[:, -1, :]\n",
    "            num_labels = 2\n",
    "\n",
    "        inputs.set_shape([None, self.input_width, 2])\n",
    "        labels.set_shape([None, num_labels])\n",
    "\n",
    "        return inputs, labels\n",
    "\n",
    "    def normalize(self, features):\n",
    "        features = (features - self.mean) / (self.std + 1.e-6)\n",
    "\n",
    "        return features\n",
    "\n",
    "    def preprocess(self, features):\n",
    "        inputs, labels = self.split_window(features)\n",
    "        inputs = self.normalize(inputs)\n",
    "        return inputs, labels\n",
    "\n",
    "    def make_dataset(self, data, train):\n",
    "        ds = tf.keras.preprocessing.timeseries_dataset_from_array(\n",
    "                data=data,\n",
    "                targets=None,\n",
    "                sequence_length=input_width+1,\n",
    "                sequence_stride=1,\n",
    "                batch_size=32)\n",
    "        ds = ds.map(self.preprocess)\n",
    "        ds = ds.cache()\n",
    "        if train is True:\n",
    "            ds = ds.shuffle(100, reshuffle_each_iteration=True)\n",
    "\n",
    "        return ds"
   ]
  },
  {
   "cell_type": "code",
   "execution_count": 159,
   "id": "5ed10158",
   "metadata": {},
   "outputs": [],
   "source": [
    "class MultipleOutputforMAE(tf.keras.metrics.Metric):\n",
    "  def __init__(self, name='MAE', **kwargs):\n",
    "      super().__init__(name=name, **kwargs)\n",
    "      self.total = self.add_weight(name='total', initializer='zeros',shape=(2,))\n",
    "      self.count = self.add_weight('count',initializer = 'zeros')\n",
    "  def update_state(self, y_true, y_pred, sample_weight=None):\n",
    "    error = tf.abs(y_pred - y_true)\n",
    "    error = tf.reduce_mean(error,axis = 0)\n",
    "    self.total.assign_add(error)\n",
    "    self.count.assign_add(1.)\n",
    "\n",
    "  def reset_states(self):\n",
    "    self.count.assign(tf.zeros_like(self.count))\n",
    "    self.total.assign(tf.zeros_like(self.total))\n",
    "    return\n",
    "\n",
    "  def result(self):\n",
    "    result = tf.math.divide_no_nan(self.total,self.count)\n",
    "    return result"
   ]
  },
  {
   "cell_type": "code",
   "execution_count": 160,
   "id": "954fb3c8",
   "metadata": {},
   "outputs": [],
   "source": [
    "generator = WindowGenerator(input_width, LABEL_OPTIONS, mean, std)\n",
    "train_ds = generator.make_dataset(train_data, True)\n",
    "val_ds = generator.make_dataset(val_data, False)\n",
    "test_ds = generator.make_dataset(test_data, False)"
   ]
  },
  {
   "cell_type": "code",
   "execution_count": null,
   "id": "4cda3b2a",
   "metadata": {},
   "outputs": [],
   "source": [
    "train"
   ]
  },
  {
   "cell_type": "code",
   "execution_count": 161,
   "id": "035d12a1",
   "metadata": {},
   "outputs": [],
   "source": [
    "MLPmodel = keras.Sequential([\n",
    "    keras.layers.Flatten(),\n",
    "    keras.layers.Dense(128, activation='relu'),\n",
    "    keras.layers.Dense(128, activation='relu'),\n",
    "    keras.layers.Dense(1)\n",
    "])"
   ]
  },
  {
   "cell_type": "code",
   "execution_count": 162,
   "id": "d3c01d04",
   "metadata": {},
   "outputs": [],
   "source": [
    "if labels != 2:\n",
    "    metrics = [tf.metrics.MeanAbsoluteError()]\n",
    "else:\n",
    "    metrics = [MultipleOutputforMAE()]"
   ]
  },
  {
   "cell_type": "code",
   "execution_count": 163,
   "id": "6bb44374",
   "metadata": {},
   "outputs": [],
   "source": [
    "CNNmodel = keras.Sequential([\n",
    "    keras.layers.Conv1D(filters=64, kernel_size=3,activation='relu'),\n",
    "    keras.layers.Flatten(),\n",
    "    keras.layers.Dense(64, activation='relu'),\n",
    "    keras.layers.Dense(1)\n",
    "])"
   ]
  },
  {
   "cell_type": "code",
   "execution_count": 164,
   "id": "5c827cc8",
   "metadata": {},
   "outputs": [],
   "source": [
    "LSTMmodel = keras.Sequential([\n",
    "    keras.layers.LSTM(units=64),\n",
    "    keras.layers.Flatten(),\n",
    "    keras.layers.Dense(1)\n",
    "])"
   ]
  },
  {
   "cell_type": "code",
   "execution_count": 165,
   "id": "407fadba",
   "metadata": {},
   "outputs": [],
   "source": [
    "MLPmodel.compile(optimizer='adam',\n",
    "              loss=tf.keras.losses.MAE,\n",
    "              metrics=metrics)"
   ]
  },
  {
   "cell_type": "code",
   "execution_count": 166,
   "id": "4e3beeb1",
   "metadata": {},
   "outputs": [],
   "source": [
    "CNNmodel.compile(optimizer='adam',\n",
    "              loss=tf.keras.losses.MAE,\n",
    "              metrics=metrics)"
   ]
  },
  {
   "cell_type": "code",
   "execution_count": 167,
   "id": "51e35dbe",
   "metadata": {},
   "outputs": [],
   "source": [
    "LSTMmodel.compile(optimizer='adam',\n",
    "              loss=tf.keras.losses.MAE,\n",
    "              metrics=metrics)"
   ]
  },
  {
   "cell_type": "code",
   "execution_count": 168,
   "id": "0dd106cc",
   "metadata": {},
   "outputs": [
    {
     "name": "stdout",
     "output_type": "stream",
     "text": [
      "9200/9200 [==============================] - 20s 2ms/step - loss: 33.4411 - MAE: 33.4416\n"
     ]
    },
    {
     "data": {
      "text/plain": [
       "<keras.callbacks.History at 0x20a905a9640>"
      ]
     },
     "execution_count": 168,
     "metadata": {},
     "output_type": "execute_result"
    }
   ],
   "source": [
    "MLPmodel.fit(train_ds, epochs=1)\n",
    "#model.fit(train_ds, batch_size=32, epochs=20)"
   ]
  },
  {
   "cell_type": "code",
   "execution_count": null,
   "id": "ef3e7998",
   "metadata": {},
   "outputs": [
    {
     "name": "stdout",
     "output_type": "stream",
     "text": [
      "9200/9200 [==============================] - 15s 2ms/step - loss: 33.4326 - MSE: 1664.2008\n"
     ]
    },
    {
     "data": {
      "text/plain": [
       "<keras.callbacks.History at 0x20a903f7f70>"
      ]
     },
     "execution_count": 123,
     "metadata": {},
     "output_type": "execute_result"
    }
   ],
   "source": [
    "CNNmodel.fit(train_ds, batch_size=32, epochs=1)\n",
    "#CNNmodel.fit(train_ds, batch_size=32, epochs=20)"
   ]
  },
  {
   "cell_type": "code",
   "execution_count": null,
   "id": "072b03fd",
   "metadata": {},
   "outputs": [
    {
     "name": "stdout",
     "output_type": "stream",
     "text": [
      "9200/9200 [==============================] - 38s 4ms/step - loss: 33.4256 - MSE: 1487.3052\n"
     ]
    },
    {
     "data": {
      "text/plain": [
       "<keras.callbacks.History at 0x20a90d09ee0>"
      ]
     },
     "execution_count": 124,
     "metadata": {},
     "output_type": "execute_result"
    }
   ],
   "source": [
    "LSTMmodel.fit(train_ds, batch_size=32, epochs=1)\n",
    "#LSTMmodel.fit(train_ds, batch_size=32, epochs=20)"
   ]
  },
  {
   "cell_type": "code",
   "execution_count": null,
   "id": "bcc2ddb1",
   "metadata": {},
   "outputs": [
    {
     "name": "stdout",
     "output_type": "stream",
     "text": [
      "\n",
      " MSE for MLP : 1370.72119140625\n"
     ]
    }
   ],
   "source": [
    "test_loss, test_acc = MLPmodel.evaluate(test_ds, verbose=0)\n",
    "print('\\n MSE for MLP :', test_acc)\n",
    "#0.22284989058971405\n",
    "#1.5559452772140503\n",
    "#1370.72119140625"
   ]
  },
  {
   "cell_type": "code",
   "execution_count": null,
   "id": "1d03e449",
   "metadata": {},
   "outputs": [
    {
     "name": "stdout",
     "output_type": "stream",
     "text": [
      "\n",
      " MSE for CNN : 1455.0245361328125\n"
     ]
    }
   ],
   "source": [
    "test_loss, test_acc = CNNmodel.evaluate(test_ds, verbose=0)\n",
    "print('\\n MSE for CNN :', test_acc)\n",
    "#0.08092997968196869\n",
    "#2.0211997032165527\n",
    "#1455.0245361328125"
   ]
  },
  {
   "cell_type": "code",
   "execution_count": null,
   "id": "a12650b7",
   "metadata": {},
   "outputs": [
    {
     "name": "stdout",
     "output_type": "stream",
     "text": [
      "\n",
      " MSE for LSTM : 1272.8814697265625\n"
     ]
    }
   ],
   "source": [
    "test_loss, test_acc = LSTMmodel.evaluate(test_ds, verbose=0)\n",
    "print('\\n MSE for LSTM :', test_acc)\n",
    "#0.2179471105337143\n",
    "#2.320437431335449\n",
    "#1272.8814697265625"
   ]
  },
  {
   "cell_type": "code",
   "execution_count": null,
   "id": "191dcecf",
   "metadata": {},
   "outputs": [
    {
     "name": "stdout",
     "output_type": "stream",
     "text": [
      "INFO:tensorflow:Assets written to: MLP\\assets\n"
     ]
    },
    {
     "name": "stderr",
     "output_type": "stream",
     "text": [
      "INFO:tensorflow:Assets written to: MLP\\assets\n"
     ]
    }
   ],
   "source": [
    "run_model = tf.function(lambda x: MLPmodel(x))\n",
    "concrete_func = run_model.get_concrete_function(tf.TensorSpec([1, 6, 2],tf.float32))\n",
    "MLPmodel.save('MLP', signatures=concrete_func)"
   ]
  }
 ],
 "metadata": {
  "interpreter": {
   "hash": "ad4a7f633457edeca986db117c49439398b3575b7cfc8b89bb9541a12d05f016"
  },
  "kernelspec": {
   "display_name": "Python 3.9.7 64-bit",
   "name": "python3"
  },
  "language_info": {
   "codemirror_mode": {
    "name": "ipython",
    "version": 3
   },
   "file_extension": ".py",
   "mimetype": "text/x-python",
   "name": "python",
   "nbconvert_exporter": "python",
   "pygments_lexer": "ipython3",
   "version": "3.9.7"
  }
 },
 "nbformat": 4,
 "nbformat_minor": 5
}
