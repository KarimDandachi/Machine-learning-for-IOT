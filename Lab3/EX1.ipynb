{
 "cells": [
  {
   "cell_type": "code",
   "execution_count": 2,
   "source": [
    "import argparse\r\n",
    "import numpy as np\r\n",
    "import os\r\n",
    "import pandas as pd\r\n",
    "import tensorflow as tf\r\n",
    "from tensorflow import keras\r\n"
   ],
   "outputs": [],
   "metadata": {}
  },
  {
   "cell_type": "code",
   "execution_count": 3,
   "source": [
    "model = \"MLP\"\r\n",
    "labels = 1\r\n",
    "seed = 42\r\n",
    "tf.random.set_seed(seed)\r\n",
    "np.random.seed(seed)"
   ],
   "outputs": [],
   "metadata": {}
  },
  {
   "cell_type": "code",
   "execution_count": 4,
   "source": [
    "csv_path = 'jena_climate_2009_2016.csv'\r\n",
    "df = pd.read_csv(csv_path)"
   ],
   "outputs": [],
   "metadata": {}
  },
  {
   "cell_type": "code",
   "execution_count": 5,
   "source": [
    "column_indices = [2, 5]\r\n",
    "columns = df.columns[column_indices]\r\n",
    "data = df[columns].values.astype(np.float32)"
   ],
   "outputs": [],
   "metadata": {}
  },
  {
   "cell_type": "code",
   "execution_count": 6,
   "source": [
    "n = len(data)\r\n",
    "train_data = data[0:int(n*0.7)]\r\n",
    "val_data = data[int(n*0.7):int(n*0.9)]\r\n",
    "test_data = data[int(n*0.9):]"
   ],
   "outputs": [],
   "metadata": {}
  },
  {
   "cell_type": "code",
   "execution_count": 7,
   "source": [
    "mean = train_data.mean(axis=0)\r\n",
    "std = train_data.std(axis=0)"
   ],
   "outputs": [],
   "metadata": {}
  },
  {
   "cell_type": "code",
   "execution_count": 8,
   "source": [
    "input_width = 6\r\n",
    "LABEL_OPTIONS = labels"
   ],
   "outputs": [],
   "metadata": {}
  },
  {
   "cell_type": "code",
   "execution_count": 9,
   "source": [
    "class WindowGenerator:\r\n",
    "    def __init__(self, input_width, label_options, mean, std):\r\n",
    "        self.input_width = input_width\r\n",
    "        self.label_options = label_options\r\n",
    "        self.mean = tf.reshape(tf.convert_to_tensor(mean), [1, 1, 2])\r\n",
    "        self.std = tf.reshape(tf.convert_to_tensor(std), [1, 1, 2])\r\n",
    "\r\n",
    "    def split_window(self, features):\r\n",
    "        inputs = features[:, :-1, :]\r\n",
    "\r\n",
    "        if self.label_options < 2:\r\n",
    "            labels = features[:, -1, self.label_options]\r\n",
    "            labels = tf.expand_dims(labels, -1)\r\n",
    "            num_labels = 1\r\n",
    "        else:\r\n",
    "            labels = features[:, -1, :]\r\n",
    "            num_labels = 2\r\n",
    "\r\n",
    "        inputs.set_shape([None, self.input_width, 2])\r\n",
    "        labels.set_shape([None, num_labels])\r\n",
    "\r\n",
    "        return inputs, labels\r\n",
    "\r\n",
    "    def normalize(self, features):\r\n",
    "        features = (features - self.mean) / (self.std + 1.e-6)\r\n",
    "\r\n",
    "        return features\r\n",
    "\r\n",
    "    def preprocess(self, features):\r\n",
    "        inputs, labels = self.split_window(features)\r\n",
    "        inputs = self.normalize(inputs)\r\n",
    "\r\n",
    "        return inputs, labels\r\n",
    "\r\n",
    "    def make_dataset(self, data, train):\r\n",
    "        ds = tf.keras.preprocessing.timeseries_dataset_from_array(\r\n",
    "                data=data,\r\n",
    "                targets=None,\r\n",
    "                sequence_length=input_width+1,\r\n",
    "                sequence_stride=1,\r\n",
    "                batch_size=32)\r\n",
    "        ds = ds.map(self.preprocess)\r\n",
    "        ds = ds.cache()\r\n",
    "        if train is True:\r\n",
    "            ds = ds.shuffle(100, reshuffle_each_iteration=True)\r\n",
    "\r\n",
    "        return ds"
   ],
   "outputs": [],
   "metadata": {}
  },
  {
   "cell_type": "code",
   "execution_count": 10,
   "source": [
    "generator = WindowGenerator(input_width, LABEL_OPTIONS, mean, std)\r\n",
    "train_ds = generator.make_dataset(train_data, True)\r\n",
    "val_ds = generator.make_dataset(val_data, False)\r\n",
    "test_ds = generator.make_dataset(test_data, False)"
   ],
   "outputs": [],
   "metadata": {}
  },
  {
   "cell_type": "code",
   "execution_count": 12,
   "source": [
    "model = keras.Sequential([\r\n",
    "    keras.layers.Flatten(),\r\n",
    "    keras.layers.Dense(128, activation='relu'),\r\n",
    "    keras.layers.Dense(128, activation='relu'),\r\n",
    "    keras.layers.Dense(1)\r\n",
    "])"
   ],
   "outputs": [],
   "metadata": {}
  },
  {
   "cell_type": "code",
   "execution_count": 13,
   "source": [
    "model.compile(optimizer='adam',\r\n",
    "              loss=tf.keras.losses.MAE,\r\n",
    "              metrics=['MSE'])"
   ],
   "outputs": [],
   "metadata": {}
  },
  {
   "cell_type": "code",
   "execution_count": 16,
   "source": [
    "model.fit(train_ds, batch_size=32, epochs=1)\r\n",
    "#model.fit(train_ds, batch_size=32, epochs=20)"
   ],
   "outputs": [
    {
     "output_type": "stream",
     "name": "stdout",
     "text": [
      "9200/9200 [==============================] - 15s 2ms/step - loss: 0.9661 - MSE: 1.8571\n"
     ]
    },
    {
     "output_type": "execute_result",
     "data": {
      "text/plain": [
       "<keras.callbacks.History at 0x1695b02e700>"
      ]
     },
     "metadata": {},
     "execution_count": 16
    }
   ],
   "metadata": {}
  },
  {
   "cell_type": "code",
   "execution_count": 18,
   "source": [
    "test_loss, test_acc = model.evaluate(test_ds, verbose=0)\r\n",
    "print('\\n MSE:', test_acc)"
   ],
   "outputs": [
    {
     "output_type": "stream",
     "name": "stdout",
     "text": [
      "\n",
      " MSE: 2.850781202316284\n"
     ]
    }
   ],
   "metadata": {}
  },
  {
   "cell_type": "code",
   "execution_count": null,
   "source": [],
   "outputs": [],
   "metadata": {}
  }
 ],
 "metadata": {
  "kernelspec": {
   "name": "python3",
   "display_name": "Python 3.9.7 64-bit"
  },
  "language_info": {
   "codemirror_mode": {
    "name": "ipython",
    "version": 3
   },
   "file_extension": ".py",
   "mimetype": "text/x-python",
   "name": "python",
   "nbconvert_exporter": "python",
   "pygments_lexer": "ipython3",
   "version": "3.9.7"
  },
  "interpreter": {
   "hash": "ad4a7f633457edeca986db117c49439398b3575b7cfc8b89bb9541a12d05f016"
  }
 },
 "nbformat": 4,
 "nbformat_minor": 5
}