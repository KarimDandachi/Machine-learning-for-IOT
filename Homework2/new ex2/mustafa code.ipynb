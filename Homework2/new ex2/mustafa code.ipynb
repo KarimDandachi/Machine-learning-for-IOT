{
 "cells": [
  {
   "cell_type": "code",
   "execution_count": null,
   "metadata": {},
   "outputs": [],
   "source": []
  },
  {
   "cell_type": "code",
   "execution_count": 20,
   "id": "7de5f391-271c-4f0a-83fe-3f5e54adf313",
   "metadata": {},
   "outputs": [
    {
     "name": "stdout",
     "output_type": "stream",
     "text": [
      "Python version used to excute the code is 3.7.5\n"
     ]
    }
   ],
   "source": [
    "import argparse\n",
    "import numpy as np\n",
    "import os\n",
    "import pandas as pd\n",
    "import tensorflow as tf\n",
    "import tensorflow.lite as tflite\n",
    "from tensorflow import keras\n",
    "import zlib\n",
    "from platform import python_version\n",
    "import tensorflow_model_optimization as tfmot   \n",
    "import tempfile\n",
    "print(f\"Python version used to excute the code is {python_version()}\")\n",
    "\n"
   ]
  },
  {
   "cell_type": "code",
   "execution_count": 21,
   "id": "953331be-1793-476e-a7e7-2fe647c2b40b",
   "metadata": {
    "tags": []
   },
   "outputs": [],
   "source": [
    "# ######################################################## Input Parameters #########################################################\n",
    "# parser = argparse.ArgumentParser()\n",
    "# parser.add_argument('--model', type=str, required=True, help='model name')\n",
    "# parser.add_argument('--mfcc', action='store_true', help='use MFCCs')\n",
    "# args = parser.parse_args()"
   ]
  },
  {
   "cell_type": "markdown",
   "id": "558050f7-e1c5-464b-9511-d95b13233d74",
   "metadata": {},
   "source": [
    "######################################################## Inputs and model selection  #########################################################"
   ]
  },
  {
   "cell_type": "code",
   "execution_count": 22,
   "id": "54d498d3-8121-4066-b58f-f668c83c95aa",
   "metadata": {},
   "outputs": [],
   "source": [
    "version = \"a\"\n",
    "m = \"cnn\"   # model name [ mlp , cnn , ds_cnn  ]\n",
    "mfcc = True    # True --> excute mfcc , False --> excute STFT\n",
    "alpha = 0.3    # The width multiplier used to apply the structured Pruning \n",
    "\n",
    "model_version = f\"_V_{version}_alpha={alpha}\"\n",
    "\n",
    "mymodel = m + model_version\n",
    "TFLITE =  f'{mymodel}.tflite'                                   # path for saving the best model after converted to TF.lite model \n",
    "units = 8                                                       # The number of output class [8:without silence , 9 : with silence]\n",
    "################## Fix the Random seed to reproduce the same results \n",
    "seed = 42\n",
    "tf.random.set_seed(seed)\n",
    "np.random.seed(seed)"
   ]
  },
  {
   "cell_type": "code",
   "execution_count": 23,
   "id": "f0986c75-d779-43a5-bc27-38e91607ff75",
   "metadata": {},
   "outputs": [
    {
     "name": "stdout",
     "output_type": "stream",
     "text": [
      "The LABELS order as provided to the model are ['stop' 'up' 'yes' 'right' 'left' 'no' 'down' 'go']\n"
     ]
    }
   ],
   "source": [
    "\n",
    "\n",
    "\n",
    "# zip_path = tf.keras.utils.get_file(\n",
    "#     origin=\"http://storage.googleapis.com/download.tensorflow.org/data/mini_speech_commands.zip\",\n",
    "#     fname='mini_speech_commands.zip',\n",
    "#     extract=True,\n",
    "#     cache_dir='.', cache_subdir='data')\n",
    "\n",
    "# data_dir = os.path.join('.', 'data', 'mini_speech_commands')\n",
    "data_dir = ('E:\\Github\\Machine-learning-for-IOT\\Lab3\\ex2\\data\\mini_speech_commands')\n",
    "\n",
    "filenames = tf.io.gfile.glob(str(data_dir) + '/*/*')\n",
    "filenames = tf.random.shuffle(filenames)\n",
    "num_samples = len(filenames)\n",
    "\n",
    "total = 8000          # NUMBER OF TOTAL Files Including THE Silence records \n",
    "\n",
    "train_files =   filenames[: int(total*0.8)]                                             # filenames[:int(total*0.8)]\n",
    "val_files = filenames[int(total*0.8): int(total*0.9)]\n",
    "test_files = filenames[int(total*0.9):]\n",
    "\n",
    "# with silence ['stop', 'up', 'yes', 'right', 'left', 'no', 'silence', 'down', 'go']\n",
    "LABELS = np.array(['stop', 'up', 'yes', 'right', 'left', 'no',  'down', 'go'] , dtype = str) \n",
    "print (f\"The LABELS order as provided to the model are {LABELS}\")"
   ]
  },
  {
   "cell_type": "markdown",
   "id": "b2b68ce9-9b69-4ac6-b20f-73b4165d73e2",
   "metadata": {},
   "source": [
    "######################################################## Create the SignalGenerator #########################################################"
   ]
  },
  {
   "cell_type": "code",
   "execution_count": 24,
   "id": "4e3ba740-f03b-4560-989b-9d12226806ee",
   "metadata": {},
   "outputs": [],
   "source": [
    "\n",
    "class SignalGenerator:\n",
    "    def __init__(self, labels, sampling_rate, frame_length, frame_step,\n",
    "            num_mel_bins=None, lower_frequency=None, upper_frequency=None,\n",
    "            num_coefficients=None, mfcc=False):\n",
    "        self.labels = labels\n",
    "        self.sampling_rate = sampling_rate                                             # 16000  \n",
    "        self.frame_length = frame_length                                               # 640 \n",
    "        self.frame_step = frame_step                                                   # 320 \n",
    "        self.num_mel_bins = num_mel_bins                                               # 40 \n",
    "        self.lower_frequency = lower_frequency                                         # 20 \n",
    "        self.upper_frequency = upper_frequency                                         # 4000\n",
    "        self.num_coefficients = num_coefficients                                       # 10 \n",
    "        num_spectrogram_bins = (frame_length) // 2 + 1                                  # ( frame size // 2 ) + 1 \n",
    "\n",
    "        '''\n",
    "        STFT_OPTIONS = {'frame_length': 256, 'frame_step': 128, 'mfcc': False}\n",
    "        MFCC_OPTIONS = {'frame_length': 640, 'frame_step': 320, 'mfcc': True,\n",
    "        'lower_frequency': 20, 'upper_frequency': 4000, 'num_mel_bins': 40,\n",
    "        'num_coefficients': 10}\n",
    "        '''\n",
    "\n",
    "        if mfcc is True:                                                                # Remember we need to compute this matrix once so it will be a class argument \n",
    "            self.linear_to_mel_weight_matrix = tf.signal.linear_to_mel_weight_matrix(\n",
    "                    self.num_mel_bins, num_spectrogram_bins, self.sampling_rate,\n",
    "                    self.lower_frequency, self.upper_frequency)\n",
    "            self.preprocess = self.preprocess_with_mfcc\n",
    "        else:\n",
    "            self.preprocess = self.preprocess_with_stft\n",
    "\n",
    "    def read(self, file_path):\n",
    "        parts = tf.strings.split(file_path, os.path.sep)\n",
    "        label = parts[-2]                                  # -1 is audio.wav so \n",
    "        label_id = tf.argmax(label == self.labels)\n",
    "        audio_binary = tf.io.read_file(file_path)\n",
    "        audio, _ = tf.audio.decode_wav(audio_binary)\n",
    "        audio = tf.squeeze(audio, axis=1)\n",
    "\n",
    "        return audio, label_id\n",
    "\n",
    "    def pad(self, audio):\n",
    "        # Padding for files with less than 16000 samples\n",
    "        zero_padding = tf.zeros([self.sampling_rate] - tf.shape(audio), dtype=tf.float32)     # if the shape of the audio is already = 16000 (sampling rate) we will add nothing \n",
    "\n",
    "        # Concatenate audio with padding so that all audio clips will be of the  same length\n",
    "        audio = tf.concat([audio, zero_padding], 0)\n",
    "        # Unify the shape to the sampling frequency (16000 , )\n",
    "        audio.set_shape([self.sampling_rate])\n",
    "\n",
    "        return audio\n",
    "\n",
    "    def get_spectrogram(self, audio):\n",
    "        stft = tf.signal.stft(audio, frame_length=self.frame_length,\n",
    "                frame_step=self.frame_step, fft_length=self.frame_length)\n",
    "        spectrogram = tf.abs(stft)\n",
    "\n",
    "        return spectrogram\n",
    "\n",
    "    def get_mfccs(self, spectrogram):\n",
    "        mel_spectrogram = tf.tensordot(spectrogram,\n",
    "                self.linear_to_mel_weight_matrix, 1)\n",
    "        log_mel_spectrogram = tf.math.log(mel_spectrogram + 1.e-6)\n",
    "        mfccs = tf.signal.mfccs_from_log_mel_spectrograms(log_mel_spectrogram)\n",
    "        mfccs = mfccs[..., :self.num_coefficients]\n",
    "\n",
    "        return mfccs\n",
    "\n",
    "    def preprocess_with_stft(self, file_path):\n",
    "        audio, label = self.read(file_path)\n",
    "        audio = self.pad(audio)\n",
    "        spectrogram = self.get_spectrogram(audio)\n",
    "        spectrogram = tf.expand_dims(spectrogram, -1)                         # expand_dims will not add or reduce elements in a tensor, it just changes the shape by adding 1 to dimensions for the batchs. \n",
    "    \n",
    "        spectrogram = tf.image.resize(spectrogram, [32, 32])\n",
    "\n",
    "        return spectrogram, label\n",
    "\n",
    "    def preprocess_with_mfcc(self, file_path):\n",
    "        audio, label = self.read(file_path)\n",
    "        audio = self.pad(audio)\n",
    "        spectrogram = self.get_spectrogram(audio)\n",
    "        mfccs = self.get_mfccs(spectrogram)\n",
    "        mfccs = tf.expand_dims(mfccs, -1)\n",
    "\n",
    "        return mfccs, label\n",
    "\n",
    "    def make_dataset(self, files, train):\n",
    "        ds = tf.data.Dataset.from_tensor_slices(files)\n",
    "        ds = ds.map(self.preprocess, num_parallel_calls = tf.data.experimental.AUTOTUNE) # better than 4 tf.data.experimental.AUTOTUNE will use the maximum num_parallel_calls \n",
    "        ds = ds.batch(32)\n",
    "        ds = ds.cache()\n",
    "        ds = ds.prefetch(tf.data.experimental.AUTOTUNE)\n",
    "        if train is True:\n",
    "            ds = ds.shuffle(100, reshuffle_each_iteration=True)\n",
    "\n",
    "        return ds\n"
   ]
  },
  {
   "cell_type": "markdown",
   "id": "145319b8-9d5d-4703-848d-286ef9d32308",
   "metadata": {},
   "source": [
    "######################################################## Options for MFCC & STFT #########################################################"
   ]
  },
  {
   "cell_type": "code",
   "execution_count": 25,
   "id": "0eceb5a7-dd9e-4016-8740-8a369cc04c96",
   "metadata": {},
   "outputs": [],
   "source": [
    "STFT_OPTIONS = {'frame_length': 256, 'frame_step': 128, 'mfcc': False}\n",
    "MFCC_OPTIONS = {'frame_length': 640, 'frame_step': 320, 'mfcc': True,\n",
    "        'lower_frequency': 20, 'upper_frequency': 4000, 'num_mel_bins': 40,\n",
    "        'num_coefficients': 10}\n",
    "if mfcc is True:\n",
    "    options = MFCC_OPTIONS\n",
    "    strides = [2, 1]\n",
    "else:\n",
    "    options = STFT_OPTIONS\n",
    "    strides = [2, 2]\n",
    "\n"
   ]
  },
  {
   "cell_type": "markdown",
   "id": "960e663d-1878-4adc-9896-3b14f301c1a3",
   "metadata": {},
   "source": [
    "######################################################## Generate Data set splits #########################################################"
   ]
  },
  {
   "cell_type": "code",
   "execution_count": 26,
   "id": "d60c9552-9801-40fc-912f-68a80e4f7095",
   "metadata": {},
   "outputs": [],
   "source": [
    "generator = SignalGenerator(LABELS, 16000, **options)\n",
    "train_ds = generator.make_dataset(train_files, True)\n",
    "val_ds = generator.make_dataset(val_files, False)\n",
    "test_ds = generator.make_dataset(test_files, False)"
   ]
  },
  {
   "cell_type": "code",
   "execution_count": 27,
   "id": "e5998873-661e-40e5-8700-126e7a7b776d",
   "metadata": {},
   "outputs": [],
   "source": [
    "############## checking shapes and values of data sets "
   ]
  },
  {
   "cell_type": "code",
   "execution_count": 28,
   "id": "84c96043-735d-4894-b781-9850efd9a705",
   "metadata": {},
   "outputs": [],
   "source": [
    "# it = iter(val_ds)"
   ]
  },
  {
   "cell_type": "code",
   "execution_count": 29,
   "id": "b4d86289-08a7-4575-bca6-c453c64833dd",
   "metadata": {},
   "outputs": [],
   "source": [
    "# inp , label = next(it)\n",
    "# print(inp.shape)\n",
    "# print(label[0])"
   ]
  },
  {
   "cell_type": "markdown",
   "id": "61ebef89-bc88-4cec-ab48-fa1c20b6255f",
   "metadata": {},
   "source": [
    "########################################################  building the models ########################################################"
   ]
  },
  {
   "cell_type": "code",
   "execution_count": 30,
   "id": "8b781a4b-06e1-456d-aee0-996e6a540e05",
   "metadata": {},
   "outputs": [
    {
     "name": "stdout",
     "output_type": "stream",
     "text": [
      "dict_keys(['mlp_V_a_alpha=0.3', 'cnn_V_a_alpha=0.3', 'ds_cnn_V_a_alpha=0.3'])\n"
     ]
    }
   ],
   "source": [
    "\n",
    "\n",
    "mlp = tf.keras.Sequential([\n",
    "    tf.keras.layers.Flatten(),\n",
    "    tf.keras.layers.Dense(units = int(256 *alpha), activation='relu' , name =  \"Dense-1\" ),\n",
    "    tf.keras.layers.Dense(units = int(256 *alpha), activation='relu', name =  \"Dense-2\"),\n",
    "    tf.keras.layers.Dense(units = int(256 *alpha), activation='relu', name =   \"Dense-3\" ),\n",
    "    tf.keras.layers.Dense(units = units , name =  \"Output-Layer\")                                   # change to 9 if silence included \n",
    "])\n",
    "\n",
    "cnn = tf.keras.Sequential([\n",
    "    tf.keras.layers.Conv2D(filters=int(128 *alpha), kernel_size=[3,3], strides=strides, use_bias=False , name = \"Conv2D-1\"),\n",
    "    tf.keras.layers.BatchNormalization(momentum=0.1 , name = \"Btch_Norm-1\"),\n",
    "    tf.keras.layers.ReLU(),\n",
    "    tf.keras.layers.Conv2D(filters=int(128 *alpha), kernel_size=[3,3], strides=[1,1], use_bias=False , name = \"Conv2D-2\"),\n",
    "    tf.keras.layers.BatchNormalization(momentum=0.1 , name = \"Btch_Norm-2\"),\n",
    "    tf.keras.layers.ReLU(),\n",
    "    tf.keras.layers.Conv2D(filters=int(128 *alpha), kernel_size=[3,3], strides=[1,1], use_bias=False , name = \"Conv2D-3\"),\n",
    "    tf.keras.layers.BatchNormalization(momentum=0.1 , name = \"Btch_Norm-3\"),\n",
    "    tf.keras.layers.ReLU(),\n",
    "    tf.keras.layers.GlobalAveragePooling2D( name =  \"GlobalAveragePooling-Layer\"),\n",
    "    tf.keras.layers.Dense(units = units, name =  \"Output-Layer\")\n",
    "])\n",
    "\n",
    "ds_cnn = tf.keras.Sequential([\n",
    "    tf.keras.layers.Conv2D(filters=int(256 *alpha), kernel_size=[3,3], strides=strides, use_bias=False, name = \"Conv2D-1\"),\n",
    "    tf.keras.layers.BatchNormalization(momentum=0.1),\n",
    "    tf.keras.layers.ReLU(),\n",
    "    tf.keras.layers.DepthwiseConv2D(kernel_size=[3, 3], strides=[1, 1], use_bias=False, name = \"DepthwiseConv2D-1\"),\n",
    "    tf.keras.layers.Conv2D(filters=int(256 *alpha), kernel_size=[1,1], strides=[1,1], use_bias=False, name = \"Conv2D-2\"),\n",
    "    tf.keras.layers.BatchNormalization(momentum=0.1),\n",
    "    tf.keras.layers.ReLU(),\n",
    "    tf.keras.layers.DepthwiseConv2D(kernel_size=[3, 3], strides=[1, 1], use_bias=False, name = \"DepthwiseConv2D-2\"),\n",
    "    tf.keras.layers.Conv2D(filters=int(256 *alpha), kernel_size=[1,1], strides=[1,1], use_bias=False, name = \"Conv2D-3\"),\n",
    "    tf.keras.layers.BatchNormalization(momentum=0.1),\n",
    "    tf.keras.layers.ReLU(),\n",
    "    tf.keras.layers.GlobalAveragePooling2D( name =  \"GlobalAveragePooling-Layer\"),\n",
    "    tf.keras.layers.Dense(units = units, name =  \"Output-Layer\")\n",
    "])\n",
    "\n",
    "\n",
    "MODELS = {'mlp'+ model_version : mlp, 'cnn'+ model_version: cnn, 'ds_cnn'+ model_version: ds_cnn}\n",
    "print(MODELS.keys())"
   ]
  },
  {
   "cell_type": "markdown",
   "id": "b273a830-946b-4b6f-8a93-9c67b908a50b",
   "metadata": {},
   "source": [
    "######################################################## Define optimizer & Losses & Metrics ########################################################"
   ]
  },
  {
   "cell_type": "code",
   "execution_count": 31,
   "id": "61f4f328-b703-4a2c-952b-360d798f0b94",
   "metadata": {},
   "outputs": [],
   "source": [
    "\n",
    "model = MODELS[mymodel]              # initiate the selected model \n",
    "\n",
    "loss = tf.losses.SparseCategoricalCrossentropy(from_logits=True)\n",
    "optimizer = tf.optimizers.Adam()\n",
    "metrics = [tf.keras.metrics.SparseCategoricalAccuracy()]\n",
    "\n",
    "\n",
    "################### Compiling the model :\n",
    "\n",
    "model.compile(loss = loss, optimizer = optimizer, metrics = metrics)\n",
    "\n",
    "######################################################## check points depending on preprocessing STFT , MFCC \n",
    "if mfcc is False:\n",
    "    checkpoint_filepath = f'./checkpoints/stft/chkp_best_{mymodel}'\n",
    "\n",
    "else:\n",
    "    checkpoint_filepath = f'./checkpoints/mfcc/chkp_best_{mymodel}'\n",
    "    \n",
    "model_checkpoint_callback = tf.keras.callbacks.ModelCheckpoint(\n",
    "    filepath=checkpoint_filepath,           \n",
    "    monitor='val_sparse_categorical_accuracy',\n",
    "    verbose=1,\n",
    "    mode='max',\n",
    "    save_best_only=True,\n",
    "    save_freq='epoch')"
   ]
  },
  {
   "cell_type": "markdown",
   "id": "d26ff580-89c6-48a3-96d4-1512f83c51fc",
   "metadata": {},
   "source": [
    "######################################################## Model Training ########################################################"
   ]
  },
  {
   "cell_type": "code",
   "execution_count": 32,
   "id": "0ca7e4bd-a492-46a1-88be-1698e12e1fb1",
   "metadata": {},
   "outputs": [
    {
     "name": "stdout",
     "output_type": "stream",
     "text": [
      "199/200 [============================>.] - ETA: 0s - loss: 1.7088 - sparse_categorical_accuracy: 0.4645\n",
      "Epoch 00001: val_sparse_categorical_accuracy improved from -inf to 0.70125, saving model to ./checkpoints/mfcc\\chkp_best_cnn_V_a_alpha=0.3\n",
      "WARNING:tensorflow:From e:\\env_ML4IOt\\lib\\site-packages\\tensorflow\\python\\training\\tracking\\tracking.py:111: Model.state_updates (from tensorflow.python.keras.engine.training) is deprecated and will be removed in a future version.\n",
      "Instructions for updating:\n",
      "This property should not be used in TensorFlow 2.0, as updates are applied automatically.\n",
      "WARNING:tensorflow:From e:\\env_ML4IOt\\lib\\site-packages\\tensorflow\\python\\training\\tracking\\tracking.py:111: Layer.updates (from tensorflow.python.keras.engine.base_layer) is deprecated and will be removed in a future version.\n",
      "Instructions for updating:\n",
      "This property should not be used in TensorFlow 2.0, as updates are applied automatically.\n",
      "INFO:tensorflow:Assets written to: ./checkpoints/mfcc\\chkp_best_cnn_V_a_alpha=0.3\\assets\n",
      "200/200 [==============================] - 14s 71ms/step - loss: 1.7068 - sparse_categorical_accuracy: 0.4658 - val_loss: 1.2854 - val_sparse_categorical_accuracy: 0.7013\n",
      "Model: \"sequential_4\"\n",
      "_________________________________________________________________\n",
      "Layer (type)                 Output Shape              Param #   \n",
      "=================================================================\n",
      "Conv2D-1 (Conv2D)            (None, 24, 8, 38)         342       \n",
      "_________________________________________________________________\n",
      "Btch_Norm-1 (BatchNormalizat (None, 24, 8, 38)         152       \n",
      "_________________________________________________________________\n",
      "re_lu_6 (ReLU)               (None, 24, 8, 38)         0         \n",
      "_________________________________________________________________\n",
      "Conv2D-2 (Conv2D)            (None, 22, 6, 38)         12996     \n",
      "_________________________________________________________________\n",
      "Btch_Norm-2 (BatchNormalizat (None, 22, 6, 38)         152       \n",
      "_________________________________________________________________\n",
      "re_lu_7 (ReLU)               (None, 22, 6, 38)         0         \n",
      "_________________________________________________________________\n",
      "Conv2D-3 (Conv2D)            (None, 20, 4, 38)         12996     \n",
      "_________________________________________________________________\n",
      "Btch_Norm-3 (BatchNormalizat (None, 20, 4, 38)         152       \n",
      "_________________________________________________________________\n",
      "re_lu_8 (ReLU)               (None, 20, 4, 38)         0         \n",
      "_________________________________________________________________\n",
      "GlobalAveragePooling-Layer ( (None, 38)                0         \n",
      "_________________________________________________________________\n",
      "Output-Layer (Dense)         (None, 8)                 312       \n",
      "=================================================================\n",
      "Total params: 27,102\n",
      "Trainable params: 26,874\n",
      "Non-trainable params: 228\n",
      "_________________________________________________________________\n",
      "None\n"
     ]
    }
   ],
   "source": [
    "history = model.fit(train_ds, epochs=1,   validation_data=val_ds,callbacks=[model_checkpoint_callback ])\n",
    "\n",
    "############################## Print Model Summary ####################\n",
    "print(model.summary())    \n"
   ]
  },
  {
   "cell_type": "code",
   "execution_count": 33,
   "id": "90893b43-bb59-4d46-b1ca-dda5dfa404f8",
   "metadata": {},
   "outputs": [
    {
     "data": {
      "image/png": "[encoded data removed]",
      "text/plain": [
       "<Figure size 432x288 with 1 Axes>"
      ]
     },
     "metadata": {
      "needs_background": "light"
     },
     "output_type": "display_data"
    }
   ],
   "source": [
    "import matplotlib.pyplot as plt\n",
    "def plot_loss(history):\n",
    "    plt.plot(history.history['sparse_categorical_accuracy'], label='Accuracy')\n",
    "    plt.plot(history.history['val_sparse_categorical_accuracy'], label='val_Accuracy')\n",
    "    plt.xlabel('Epoch')\n",
    "    plt.ylabel('Accuracy')\n",
    "    plt.legend()\n",
    "    plt.grid(True)\n",
    "    plt.savefig(mymodel+\".png\")\n",
    "\n",
    "plot_loss(history)"
   ]
  },
  {
   "cell_type": "markdown",
   "id": "02c2a1e7-9a12-4464-b7b8-2d79a1d8b408",
   "metadata": {},
   "source": [
    "######################################################## Function To Evaluate the best model and convert to TF Lite ########################################################"
   ]
  },
  {
   "cell_type": "code",
   "execution_count": 34,
   "id": "b47c8f47-0ddb-4a4b-b7e7-305e29224ce5",
   "metadata": {},
   "outputs": [],
   "source": [
    "def S_pruning_Model_evaluate_and_compress_to_TFlite( tflite_model_dir =  TFLITE , checkpoint_filepath = checkpoint_filepath ):\n",
    "    if not os.path.exists('./models'):\n",
    "        os.makedirs('./models')\n",
    "    best_model = tf.keras.models.load_model(filepath = checkpoint_filepath )\n",
    "    Loss , ACCURACY = best_model.evaluate(test_ds)\n",
    "    print(\"*\"*50,\"\\n\",f\" The accuracy achieved by the best model before convertion = {ACCURACY *100:0.2f}% \")\n",
    "    # Convert to TF lite without Quantization \n",
    "    converter = tf.lite.TFLiteConverter.from_saved_model(checkpoint_filepath)\n",
    "    tflite_model = converter.convert()  \n",
    "    Compressed = \"compressed_\"+tflite_model_dir \n",
    "    tflite_model_dir = './models/'+tflite_model_dir\n",
    "    # Write the model in binary formate and save it \n",
    "    with open(tflite_model_dir, 'wb') as fp:\n",
    "        fp.write(tflite_model)\n",
    "    Compressed = './models/'+Compressed\n",
    "    with open(Compressed, 'wb') as fp:\n",
    "        tflite_compressed = zlib.compress(tflite_model)\n",
    "        fp.write(tflite_compressed)\n",
    "    print(\"*\"*50,\"\\n\",f\"the model is saved successfuly to {tflite_model_dir}\")\n",
    "    return Compressed , tflite_model_dir "
   ]
  },
  {
   "cell_type": "code",
   "execution_count": 35,
   "id": "ca895d30-0632-45d7-b398-f4b249344168",
   "metadata": {},
   "outputs": [],
   "source": [
    "def getsize(file):\n",
    "    st = os.stat(file)\n",
    "    size = st.st_size\n",
    "    return size"
   ]
  },
  {
   "cell_type": "markdown",
   "id": "98305d5c-d825-438e-9157-2b26d89c5491",
   "metadata": {},
   "source": [
    "######################################################## Function To Load  Evaluate the TF Lite  Model ########################################################"
   ]
  },
  {
   "cell_type": "code",
   "execution_count": 36,
   "id": "6c492b8c-cad1-456a-90aa-f74063e2d17f",
   "metadata": {},
   "outputs": [],
   "source": [
    "def load_and_evaluation(path, dataset , Compressed):\n",
    "    interpreter = tf.lite.Interpreter(model_path = path) \n",
    "    interpreter.allocate_tensors()\n",
    "    input_details = interpreter.get_input_details()\n",
    "    output_details = interpreter.get_output_details()\n",
    "\n",
    "    dataset = test_ds.unbatch().batch(1)\n",
    "    \n",
    "    COMMANDS = ['stop', 'up', 'yes', 'right', 'left', 'no',  'down', 'go']\n",
    "    \n",
    "    outputs = []\n",
    "    labels = []\n",
    "    count = 0                                 # counter to compute the number of correct predictions \n",
    "    total = 0                                 # total number of samples / predictions ==> acc = count/total\n",
    "    \n",
    "    for inp , label in dataset:\n",
    "        my_input = np.array(inp, dtype = np.float32)\n",
    "        label = np.array(label, dtype = np.float32)\n",
    "    \n",
    "         \n",
    "        labels.append(label)\n",
    "\n",
    "        interpreter.set_tensor(input_details[0]['index'], my_input)\n",
    "        interpreter.invoke()\n",
    "        my_output = interpreter.get_tensor(output_details[0]['index'])\n",
    "        predict = np.argmax(my_output)                                 # the prediction crossponds to the index of with the highest probability   \n",
    "        outputs.append(predict)\n",
    "        total += 1   \n",
    "        if (predict == label):                                         # if probability == labesl increase the correct predictions counter \n",
    "            count += 1\n",
    "    # Compute the Accuracy         \n",
    "    accuracy = count/total \n",
    "    # Evaluate the size of Tflite model \n",
    "    size = getsize(path)\n",
    "    # Evaluate the size of Tflite model  after Comperession \n",
    "    size_compressed = getsize(Compressed)\n",
    "    print (\"*\"*50,\"\\n\",f\"The Size of TF lite model  Before compression is = {size /1000 } kb\" )\n",
    "    print (\"*\"*50,\"\\n\",f\"The Size of TF lite model  After compression is = {size_compressed /1000 } kb\" )\n",
    "    print (\"*\"*50,\"\\n\",f\"The accuracy of TF lite model is = {accuracy *100 :0.2f} \" )\n",
    "    \n",
    "\n",
    "\n"
   ]
  },
  {
   "cell_type": "markdown",
   "id": "0c0a9ba6-3980-4e5b-860e-c64a6457446e",
   "metadata": {},
   "source": [
    "######################################################## Generate Representitive data for Weight + activation Quantization ########################################################"
   ]
  },
  {
   "cell_type": "code",
   "execution_count": 37,
   "id": "75d97a0e-6322-43c7-ab3e-944b1054ed92",
   "metadata": {},
   "outputs": [],
   "source": [
    "# Function for weight and activations quantization \n",
    "def representative_dataset_gen():\n",
    "    for x, _ in train_ds.take(1000):\n",
    "        yield [x]"
   ]
  },
  {
   "cell_type": "markdown",
   "id": "c8abfc31-dcde-4e5e-bd37-8fcf3ce6739e",
   "metadata": {},
   "source": [
    "######################################################## Apply quantization Function ########################################################"
   ]
  },
  {
   "cell_type": "code",
   "execution_count": 38,
   "id": "a13c1c41-3e6f-42ef-b454-e0f2dab2cb78",
   "metadata": {},
   "outputs": [],
   "source": [
    "def apply_Quantization(tflite_model_dir =  TFLITE ,  PQT = False , WAPQT = False ,  checkpoint_filepath = checkpoint_filepath ): \n",
    "\n",
    "    converter = tf.lite.TFLiteConverter.from_saved_model(checkpoint_filepath)\n",
    "    \n",
    "    # Apply weight only quantization \n",
    "    if PQT == True :\n",
    "        tflite_model_dir = f\"PQT_{tflite_model_dir}\"\n",
    "        converter.optimizations = [tf.lite.Optimize.DEFAULT]\n",
    "        tflite_model = converter.convert()\n",
    "    # Apply weight + Activation  quantization \n",
    "    if WAPQT == True :\n",
    "        converter.optimizations = [tf.lite.Optimize.DEFAULT]\n",
    "        converter.representative_dataset = representative_dataset_gen\n",
    "        tflite_model = converter.convert()\n",
    "        \n",
    "        tflite_model_dir = f\"WAPQT_{tflite_model_dir}\"\n",
    "    Compressed =  f\"compressed_{tflite_model_dir}\"\n",
    "    tflite_model_dir =   f\"./models/{tflite_model_dir}\"\n",
    "    # Write the model in binary formate and save it \n",
    "    with open(tflite_model_dir, 'wb') as fp:\n",
    "        fp.write(tflite_model)\n",
    "    Compressed = f\"./models/{Compressed}\"\n",
    "    with open(Compressed, 'wb') as fp:\n",
    "        tflite_compressed = zlib.compress(tflite_model)\n",
    "        fp.write(tflite_compressed)\n",
    "    print(f\"the model is saved successfuly to {tflite_model_dir}\")\n",
    "    return Compressed , tflite_model_dir "
   ]
  },
  {
   "cell_type": "markdown",
   "id": "a637db50-7fca-404a-885d-7ea383cfc01d",
   "metadata": {},
   "source": [
    "### Without Quantization"
   ]
  },
  {
   "cell_type": "code",
   "execution_count": 39,
   "id": "885f72c4-7c54-4342-8133-b278f685eed1",
   "metadata": {},
   "outputs": [
    {
     "name": "stdout",
     "output_type": "stream",
     "text": [
      "25/25 [==============================] - 2s 73ms/step - loss: 1.2899 - sparse_categorical_accuracy: 0.6950\n",
      "************************************************** \n",
      "  The accuracy achieved by the best model before convertion = 69.50% \n",
      "************************************************** \n",
      " the model is saved successfuly to ./models/cnn_V_a_alpha=0.3.tflite\n"
     ]
    }
   ],
   "source": [
    "Compressed , tflite_model_dir = S_pruning_Model_evaluate_and_compress_to_TFlite( tflite_model_dir =  TFLITE , checkpoint_filepath = checkpoint_filepath )"
   ]
  },
  {
   "cell_type": "code",
   "execution_count": 40,
   "id": "aca43301-6744-44cf-baaf-a70d1133af91",
   "metadata": {},
   "outputs": [
    {
     "name": "stdout",
     "output_type": "stream",
     "text": [
      "************************************************** \n",
      " The Size of TF lite model  Before compression is = 110.716 kb\n",
      "************************************************** \n",
      " The Size of TF lite model  After compression is = 100.918 kb\n",
      "************************************************** \n",
      " The accuracy of TF lite model is = 69.50 \n"
     ]
    }
   ],
   "source": [
    "load_and_evaluation(tflite_model_dir, test_ds , Compressed)"
   ]
  },
  {
   "cell_type": "markdown",
   "id": "a7995ee4-ae8d-4bb7-82ba-1981df49aa49",
   "metadata": {},
   "source": [
    "### Weights only Quantization "
   ]
  },
  {
   "cell_type": "code",
   "execution_count": 41,
   "id": "6123d88d-1302-4a46-9735-530c1fd5211b",
   "metadata": {},
   "outputs": [
    {
     "name": "stdout",
     "output_type": "stream",
     "text": [
      "the model is saved successfuly to ./models/PQT_cnn_V_a_alpha=0.3.tflite\n"
     ]
    }
   ],
   "source": [
    "Compressed , Quantized   = apply_Quantization(PQT=True )"
   ]
  },
  {
   "cell_type": "code",
   "execution_count": 42,
   "id": "aa437620-ae23-4ed0-9b7b-347d33346097",
   "metadata": {},
   "outputs": [
    {
     "name": "stdout",
     "output_type": "stream",
     "text": [
      "************************************************** \n",
      " The Size of TF lite model  Before compression is = 32.992 kb\n",
      "************************************************** \n",
      " The Size of TF lite model  After compression is = 28.234 kb\n",
      "************************************************** \n",
      " The accuracy of TF lite model is = 69.62 \n"
     ]
    }
   ],
   "source": [
    "load_and_evaluation(Quantized , test_ds , Compressed)"
   ]
  },
  {
   "cell_type": "markdown",
   "id": "6e9eb14e-69a4-4e11-a550-fde02dbe3a33",
   "metadata": {},
   "source": [
    "### Weights only Quantization "
   ]
  },
  {
   "cell_type": "code",
   "execution_count": 43,
   "id": "9509b77a-7a25-4e31-9b0b-02e5720e9dd7",
   "metadata": {},
   "outputs": [
    {
     "name": "stdout",
     "output_type": "stream",
     "text": [
      "the model is saved successfuly to ./models/WAPQT_cnn_V_a_alpha=0.3.tflite\n"
     ]
    }
   ],
   "source": [
    "WA_Compressed , WA_Quantized   = apply_Quantization(WAPQT=True)"
   ]
  },
  {
   "cell_type": "code",
   "execution_count": 44,
   "id": "307a9c2b-d850-4d12-a37d-dc5ffbcee821",
   "metadata": {},
   "outputs": [
    {
     "name": "stdout",
     "output_type": "stream",
     "text": [
      "************************************************** \n",
      " The Size of TF lite model  Before compression is = 35.552 kb\n",
      "************************************************** \n",
      " The Size of TF lite model  After compression is = 29.789 kb\n",
      "************************************************** \n",
      " The accuracy of TF lite model is = 66.62 \n"
     ]
    }
   ],
   "source": [
    "load_and_evaluation(WA_Quantized , test_ds , WA_Compressed)"
   ]
  },
  {
   "cell_type": "markdown",
   "id": "afdffbb9-4c8a-434f-86bb-16a56d31b0c8",
   "metadata": {},
   "source": [
    "## Quantization aware Training :"
   ]
  },
  {
   "cell_type": "code",
   "execution_count": 45,
   "id": "aad5d125-8e50-40ad-82a6-4768dad61acd",
   "metadata": {},
   "outputs": [],
   "source": [
    "import tensorflow_model_optimization as tfmot\n",
    "\n",
    "Q_aware_checkpoint_filepath = F'Q_aware_chkp_best_{mymodel}'\n",
    "    \n",
    "Q_aware_model_checkpoint_callback = tf.keras.callbacks.ModelCheckpoint(\n",
    "    filepath=Q_aware_checkpoint_filepath,           \n",
    "    monitor='val_sparse_categorical_accuracy',\n",
    "    verbose=1,\n",
    "    mode='max',\n",
    "    save_best_only=True,\n",
    "    save_freq='epoch')\n",
    "\n",
    "def Quantization_aware_traning(filepath = checkpoint_filepath , checkpoint_callback = Q_aware_model_checkpoint_callback ):\n",
    "\n",
    "    quantize_model = tfmot.quantization.keras.quantize_model\n",
    "    \n",
    "    # Retrieve the best pre_trained model float 32 \n",
    "    model = tf.keras.models.load_model(filepath = filepath )\n",
    "    \n",
    "    # Initiate a Quantization aware model from the Float 32 model to be trained \n",
    "    q_aware_model = quantize_model(model)\n",
    "    \n",
    "    # Model compile and define loss and metric \n",
    "    q_aware_model.compile(loss = loss, optimizer = optimizer, metrics = metrics)\n",
    "    \n",
    "    # Train the model for few epochs \n",
    "    q_aware_model_history = q_aware_model.fit(train_ds, epochs=10,   validation_data=val_ds,callbacks=[checkpoint_callback ])\n",
    "    \n",
    "    ############################## Print Model Summary ####################\n",
    "    print(model.summary())\n",
    "    \n",
    "    # Evaluate the best model \n",
    "    best_model = tf.keras.models.load_model(filepath = Q_aware_checkpoint_filepath )\n",
    "    Loss , ACCURACY = best_model.evaluate(test_ds)\n",
    "    print(\"*\"*50,\"\\n\",f\" The accuracy achieved by the best model before convertion = {ACCURACY *100:0.2f}% \")\n",
    "    \n",
    "    "
   ]
  },
  {
   "cell_type": "markdown",
   "id": "31b3680c-6534-42ba-a2c9-8adfb331b173",
   "metadata": {},
   "source": [
    "######################################################## Apply quantization Aware Training on the Pre Trained Model ########################################################"
   ]
  },
  {
   "cell_type": "code",
   "execution_count": 46,
   "id": "d03fa75b-4ae5-4f40-b7fd-84409811b71d",
   "metadata": {},
   "outputs": [
    {
     "name": "stdout",
     "output_type": "stream",
     "text": [
      "Epoch 1/10\n",
      "199/200 [============================>.] - ETA: 0s - loss: 1.0284 - sparse_categorical_accuracy: 0.7307\n",
      "Epoch 00001: val_sparse_categorical_accuracy improved from -inf to 0.80500, saving model to Q_aware_chkp_best_cnn_V_a_alpha=0.3\n",
      "INFO:tensorflow:Assets written to: Q_aware_chkp_best_cnn_V_a_alpha=0.3\\assets\n"
     ]
    },
    {
     "name": "stderr",
     "output_type": "stream",
     "text": [
      "INFO:tensorflow:Assets written to: Q_aware_chkp_best_cnn_V_a_alpha=0.3\\assets\n"
     ]
    },
    {
     "name": "stdout",
     "output_type": "stream",
     "text": [
      "200/200 [==============================] - 7s 35ms/step - loss: 1.0274 - sparse_categorical_accuracy: 0.7310 - val_loss: 0.7562 - val_sparse_categorical_accuracy: 0.8050\n",
      "Epoch 2/10\n",
      "200/200 [==============================] - ETA: 0s - loss: 0.6840 - sparse_categorical_accuracy: 0.8283\n",
      "Epoch 00002: val_sparse_categorical_accuracy improved from 0.80500 to 0.85500, saving model to Q_aware_chkp_best_cnn_V_a_alpha=0.3\n",
      "INFO:tensorflow:Assets written to: Q_aware_chkp_best_cnn_V_a_alpha=0.3\\assets\n"
     ]
    },
    {
     "name": "stderr",
     "output_type": "stream",
     "text": [
      "INFO:tensorflow:Assets written to: Q_aware_chkp_best_cnn_V_a_alpha=0.3\\assets\n"
     ]
    },
    {
     "name": "stdout",
     "output_type": "stream",
     "text": [
      "200/200 [==============================] - 9s 47ms/step - loss: 0.6840 - sparse_categorical_accuracy: 0.8283 - val_loss: 0.5837 - val_sparse_categorical_accuracy: 0.8550\n",
      "Epoch 3/10\n",
      "200/200 [==============================] - ETA: 0s - loss: 0.5472 - sparse_categorical_accuracy: 0.8627\n",
      "Epoch 00003: val_sparse_categorical_accuracy improved from 0.85500 to 0.87250, saving model to Q_aware_chkp_best_cnn_V_a_alpha=0.3\n",
      "INFO:tensorflow:Assets written to: Q_aware_chkp_best_cnn_V_a_alpha=0.3\\assets\n"
     ]
    },
    {
     "name": "stderr",
     "output_type": "stream",
     "text": [
      "INFO:tensorflow:Assets written to: Q_aware_chkp_best_cnn_V_a_alpha=0.3\\assets\n"
     ]
    },
    {
     "name": "stdout",
     "output_type": "stream",
     "text": [
      "200/200 [==============================] - 9s 46ms/step - loss: 0.5472 - sparse_categorical_accuracy: 0.8627 - val_loss: 0.4888 - val_sparse_categorical_accuracy: 0.8725\n",
      "Epoch 4/10\n",
      "198/200 [============================>.] - ETA: 0s - loss: 0.4612 - sparse_categorical_accuracy: 0.8832\n",
      "Epoch 00004: val_sparse_categorical_accuracy did not improve from 0.87250\n",
      "200/200 [==============================] - 5s 24ms/step - loss: 0.4610 - sparse_categorical_accuracy: 0.8831 - val_loss: 0.4862 - val_sparse_categorical_accuracy: 0.8687\n",
      "Epoch 5/10\n",
      "198/200 [============================>.] - ETA: 0s - loss: 0.4031 - sparse_categorical_accuracy: 0.8930\n",
      "Epoch 00005: val_sparse_categorical_accuracy did not improve from 0.87250\n",
      "200/200 [==============================] - 5s 23ms/step - loss: 0.4036 - sparse_categorical_accuracy: 0.8930 - val_loss: 0.4664 - val_sparse_categorical_accuracy: 0.8625\n",
      "Epoch 6/10\n",
      "199/200 [============================>.] - ETA: 0s - loss: 0.3686 - sparse_categorical_accuracy: 0.8992\n",
      "Epoch 00006: val_sparse_categorical_accuracy did not improve from 0.87250\n",
      "200/200 [==============================] - 5s 25ms/step - loss: 0.3677 - sparse_categorical_accuracy: 0.8997 - val_loss: 0.4395 - val_sparse_categorical_accuracy: 0.8725\n",
      "Epoch 7/10\n",
      "198/200 [============================>.] - ETA: 0s - loss: 0.3301 - sparse_categorical_accuracy: 0.9121\n",
      "Epoch 00007: val_sparse_categorical_accuracy improved from 0.87250 to 0.88625, saving model to Q_aware_chkp_best_cnn_V_a_alpha=0.3\n",
      "INFO:tensorflow:Assets written to: Q_aware_chkp_best_cnn_V_a_alpha=0.3\\assets\n"
     ]
    },
    {
     "name": "stderr",
     "output_type": "stream",
     "text": [
      "INFO:tensorflow:Assets written to: Q_aware_chkp_best_cnn_V_a_alpha=0.3\\assets\n"
     ]
    },
    {
     "name": "stdout",
     "output_type": "stream",
     "text": [
      "200/200 [==============================] - 8s 41ms/step - loss: 0.3303 - sparse_categorical_accuracy: 0.9122 - val_loss: 0.3780 - val_sparse_categorical_accuracy: 0.8863\n",
      "Epoch 8/10\n",
      "200/200 [==============================] - ETA: 0s - loss: 0.2996 - sparse_categorical_accuracy: 0.9189\n",
      "Epoch 00008: val_sparse_categorical_accuracy improved from 0.88625 to 0.89500, saving model to Q_aware_chkp_best_cnn_V_a_alpha=0.3\n",
      "INFO:tensorflow:Assets written to: Q_aware_chkp_best_cnn_V_a_alpha=0.3\\assets\n"
     ]
    },
    {
     "name": "stderr",
     "output_type": "stream",
     "text": [
      "INFO:tensorflow:Assets written to: Q_aware_chkp_best_cnn_V_a_alpha=0.3\\assets\n"
     ]
    },
    {
     "name": "stdout",
     "output_type": "stream",
     "text": [
      "200/200 [==============================] - 8s 41ms/step - loss: 0.2996 - sparse_categorical_accuracy: 0.9189 - val_loss: 0.3494 - val_sparse_categorical_accuracy: 0.8950\n",
      "Epoch 9/10\n",
      "199/200 [============================>.] - ETA: 0s - loss: 0.2802 - sparse_categorical_accuracy: 0.9231\n",
      "Epoch 00009: val_sparse_categorical_accuracy improved from 0.89500 to 0.90000, saving model to Q_aware_chkp_best_cnn_V_a_alpha=0.3\n",
      "INFO:tensorflow:Assets written to: Q_aware_chkp_best_cnn_V_a_alpha=0.3\\assets\n"
     ]
    },
    {
     "name": "stderr",
     "output_type": "stream",
     "text": [
      "INFO:tensorflow:Assets written to: Q_aware_chkp_best_cnn_V_a_alpha=0.3\\assets\n"
     ]
    },
    {
     "name": "stdout",
     "output_type": "stream",
     "text": [
      "200/200 [==============================] - 10s 50ms/step - loss: 0.2804 - sparse_categorical_accuracy: 0.9230 - val_loss: 0.3347 - val_sparse_categorical_accuracy: 0.9000\n",
      "Epoch 10/10\n",
      "199/200 [============================>.] - ETA: 0s - loss: 0.2616 - sparse_categorical_accuracy: 0.9318\n",
      "Epoch 00010: val_sparse_categorical_accuracy improved from 0.90000 to 0.90250, saving model to Q_aware_chkp_best_cnn_V_a_alpha=0.3\n",
      "INFO:tensorflow:Assets written to: Q_aware_chkp_best_cnn_V_a_alpha=0.3\\assets\n"
     ]
    },
    {
     "name": "stderr",
     "output_type": "stream",
     "text": [
      "INFO:tensorflow:Assets written to: Q_aware_chkp_best_cnn_V_a_alpha=0.3\\assets\n"
     ]
    },
    {
     "name": "stdout",
     "output_type": "stream",
     "text": [
      "200/200 [==============================] - 12s 58ms/step - loss: 0.2618 - sparse_categorical_accuracy: 0.9317 - val_loss: 0.3177 - val_sparse_categorical_accuracy: 0.9025\n",
      "Model: \"sequential_4\"\n",
      "_________________________________________________________________\n",
      "Layer (type)                 Output Shape              Param #   \n",
      "=================================================================\n",
      "Conv2D-1 (Conv2D)            (None, 24, 8, 38)         342       \n",
      "_________________________________________________________________\n",
      "Btch_Norm-1 (BatchNormalizat (None, 24, 8, 38)         152       \n",
      "_________________________________________________________________\n",
      "re_lu_6 (ReLU)               (None, 24, 8, 38)         0         \n",
      "_________________________________________________________________\n",
      "Conv2D-2 (Conv2D)            (None, 22, 6, 38)         12996     \n",
      "_________________________________________________________________\n",
      "Btch_Norm-2 (BatchNormalizat (None, 22, 6, 38)         152       \n",
      "_________________________________________________________________\n",
      "re_lu_7 (ReLU)               (None, 22, 6, 38)         0         \n",
      "_________________________________________________________________\n",
      "Conv2D-3 (Conv2D)            (None, 20, 4, 38)         12996     \n",
      "_________________________________________________________________\n",
      "Btch_Norm-3 (BatchNormalizat (None, 20, 4, 38)         152       \n",
      "_________________________________________________________________\n",
      "re_lu_8 (ReLU)               (None, 20, 4, 38)         0         \n",
      "_________________________________________________________________\n",
      "GlobalAveragePooling-Layer ( (None, 38)                0         \n",
      "_________________________________________________________________\n",
      "Output-Layer (Dense)         (None, 8)                 312       \n",
      "=================================================================\n",
      "Total params: 27,102\n",
      "Trainable params: 26,874\n",
      "Non-trainable params: 228\n",
      "_________________________________________________________________\n",
      "None\n",
      "25/25 [==============================] - 0s 4ms/step - loss: 0.2802 - sparse_categorical_accuracy: 0.9187\n",
      "************************************************** \n",
      "  The accuracy achieved by the best model before convertion = 91.87% \n"
     ]
    }
   ],
   "source": [
    "Quantization_aware_traning(filepath = checkpoint_filepath , checkpoint_callback = Q_aware_model_checkpoint_callback )"
   ]
  },
  {
   "cell_type": "markdown",
   "id": "270fe75f-f891-4da8-a03f-6dc0947ce781",
   "metadata": {},
   "source": [
    "### Quantization Aware model saving"
   ]
  },
  {
   "cell_type": "code",
   "execution_count": 47,
   "id": "3825a937-dc4d-4782-8aa1-9a7cd2e2d430",
   "metadata": {},
   "outputs": [],
   "source": [
    "def Q_Aware_T_Tflite_save(filepath = Q_aware_checkpoint_filepath):\n",
    "    QAT_tflite_model_dir = \"Q_AWARE_Training_\"+TFLITE\n",
    "    converter = tf.lite.TFLiteConverter.from_saved_model(filepath)\n",
    "    converter.optimizations = [tf.lite.Optimize.DEFAULT]\n",
    "    tflite_model = converter.convert()\n",
    "    Compressed = \"compressed_\"+QAT_tflite_model_dir \n",
    "    QAT_tflite_model_dir = './models/'+QAT_tflite_model_dir\n",
    "    # Write the model in binary formate and save it \n",
    "    with open(QAT_tflite_model_dir, 'wb') as fp:\n",
    "        fp.write(tflite_model)\n",
    "    Compressed = './models/'+Compressed\n",
    "    with open(Compressed, 'wb') as fp:\n",
    "        tflite_compressed = zlib.compress(tflite_model)\n",
    "        fp.write(tflite_compressed)\n",
    "    print(\"*\"*50,\"\\n\",f\"the model is saved successfuly to {QAT_tflite_model_dir}\")\n",
    "    return QAT_tflite_model_dir , Compressed"
   ]
  },
  {
   "cell_type": "code",
   "execution_count": 48,
   "id": "5911f465-cea6-4bd4-9514-cd99ca311a8b",
   "metadata": {},
   "outputs": [
    {
     "name": "stdout",
     "output_type": "stream",
     "text": [
      "************************************************** \n",
      " the model is saved successfuly to ./models/Q_AWARE_Training_cnn_V_a_alpha=0.3.tflite\n"
     ]
    }
   ],
   "source": [
    "QAT_tflite_model_dir , Q_Aware_T_Compressed = Q_Aware_T_Tflite_save(filepath = Q_aware_checkpoint_filepath)"
   ]
  },
  {
   "cell_type": "code",
   "execution_count": 49,
   "id": "0f68e574-f976-42de-9aa4-6f81048d652b",
   "metadata": {},
   "outputs": [
    {
     "name": "stdout",
     "output_type": "stream",
     "text": [
      "************************************************** \n",
      " The Size of TF lite model  Before compression is = 35.448 kb\n",
      "************************************************** \n",
      " The Size of TF lite model  After compression is = 27.797 kb\n",
      "************************************************** \n",
      " The accuracy of TF lite model is = 91.75 \n"
     ]
    }
   ],
   "source": [
    "load_and_evaluation(QAT_tflite_model_dir, test_ds , Q_Aware_T_Compressed)"
   ]
  },
  {
   "cell_type": "code",
   "execution_count": null,
   "id": "a0f7907d-61b2-4b5a-822e-14ea91a71bfb",
   "metadata": {},
   "outputs": [],
   "source": []
  }
 ],
 "metadata": {
  "interpreter": {
   "hash": "c8c7d7aad182a88685b13ac429ea2f5f2197e83c90d99e7755a5f19b9321d31f"
  },
  "kernelspec": {
   "display_name": "Python 3.7.5 64-bit ('env_ML4IOt': venv)",
   "language": "python",
   "name": "python3"
  },
  "language_info": {
   "codemirror_mode": {
    "name": "ipython",
    "version": 3
   },
   "file_extension": ".py",
   "mimetype": "text/x-python",
   "name": "python",
   "nbconvert_exporter": "python",
   "pygments_lexer": "ipython3",
   "version": "3.7.5"
  },
  "orig_nbformat": 4
 },
 "nbformat": 4,
 "nbformat_minor": 2
}
