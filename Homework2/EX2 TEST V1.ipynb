{
 "cells": [
  {
   "cell_type": "code",
   "execution_count": 1,
   "id": "7de5f391-271c-4f0a-83fe-3f5e54adf313",
   "metadata": {},
   "outputs": [
    {
     "name": "stdout",
     "output_type": "stream",
     "text": [
      "Python version used to excute the code is 3.7.11\n"
     ]
    }
   ],
   "source": [
    "import argparse\n",
    "import numpy as np\n",
    "import os\n",
    "import pandas as pd\n",
    "import tensorflow as tf\n",
    "import tensorflow.lite as tflite\n",
    "from tensorflow import keras\n",
    "import zlib\n",
    "from platform import python_version\n",
    "import tensorflow_model_optimization as tfmot   \n",
    "import tempfile\n",
    "print(f\"Python version used to excute the code is {python_version()}\")\n",
    "\n"
   ]
  },
  {
   "cell_type": "code",
   "execution_count": 2,
   "id": "953331be-1793-476e-a7e7-2fe647c2b40b",
   "metadata": {
    "tags": []
   },
   "outputs": [],
   "source": [
    "# ######################################################## Input Parameters #########################################################\n",
    "# parser = argparse.ArgumentParser()\n",
    "# parser.add_argument('--model', type=str, required=True, help='model name')\n",
    "# parser.add_argument('--mfcc', action='store_true', help='use MFCCs')\n",
    "# args = parser.parse_args()"
   ]
  },
  {
   "cell_type": "markdown",
   "id": "558050f7-e1c5-464b-9511-d95b13233d74",
   "metadata": {},
   "source": [
    "######################################################## Inputs and model selection  #########################################################"
   ]
  },
  {
   "cell_type": "code",
   "execution_count": 15,
   "id": "54d498d3-8121-4066-b58f-f668c83c95aa",
   "metadata": {},
   "outputs": [],
   "source": [
    "version = \"a\"\n",
    "m = \"ds_cnn\"   # model name [ mlp , cnn , ds_cnn  ]\n",
    "mfcc = True    # True --> excute mfcc , False --> excute STFT\n",
    "alpha = 1\n",
    "sparsity = 0.9\n",
    "Structured = True\n",
    "\n",
    "if Structured == True :\n",
    "    model_version = f\"_V_{version}_alpha={alpha}\"\n",
    "else :\n",
    "    alpha = 1\n",
    "    model_version = f\"_V_{version}_Sparcity ={sparsity}\"\n",
    "mymodel = m + model_version\n",
    "TFLITE = mymodel + \".tflite\"                                    # path for saving the best model after converted to TF.lite model \n",
    "units = 8                                                       # The number of output class [8:without silence , 9 : with silence]"
   ]
  },
  {
   "cell_type": "code",
   "execution_count": 4,
   "id": "f0986c75-d779-43a5-bc27-38e91607ff75",
   "metadata": {},
   "outputs": [
    {
     "name": "stdout",
     "output_type": "stream",
     "text": [
      "['stop' 'up' 'yes' 'right' 'left' 'no' 'down' 'go']\n"
     ]
    }
   ],
   "source": [
    "\n",
    "seed = 42\n",
    "tf.random.set_seed(seed)\n",
    "np.random.seed(seed)\n",
    "\n",
    "\n",
    "# data_dir = os.path.join('.', 'data', 'mini_speech_commands_silence')\n",
    "# # else:\n",
    "zip_path = tf.keras.utils.get_file(\n",
    "    origin=\"http://storage.googleapis.com/download.tensorflow.org/data/mini_speech_commands.zip\",\n",
    "    fname='mini_speech_commands.zip',\n",
    "    extract=True,\n",
    "    cache_dir='.', cache_subdir='data')\n",
    "\n",
    "data_dir = os.path.join('.', 'data', 'mini_speech_commands')\n",
    "\n",
    "filenames = tf.io.gfile.glob(str(data_dir) + '/*/*')\n",
    "filenames = tf.random.shuffle(filenames)\n",
    "num_samples = len(filenames)\n",
    "\n",
    "total = 8000          # NUMBER OF TOTAL Files Including THE Silence records \n",
    "\n",
    "train_files =   filenames[: int(total*0.8)]                                             # filenames[:int(total*0.8)]\n",
    "val_files = filenames[int(total*0.8): int(total*0.9)]\n",
    "test_files = filenames[int(total*0.9):]\n",
    "\n",
    "# with silence ['stop', 'up', 'yes', 'right', 'left', 'no', 'silence', 'down', 'go']\n",
    "LABELS = np.array(['stop', 'up', 'yes', 'right', 'left', 'no',  'down', 'go'] , dtype = str) \n",
    "print (LABELS)\n",
    "# LABELS = LABELS[LABELS != 'README.md']"
   ]
  },
  {
   "cell_type": "code",
   "execution_count": 13,
   "id": "44912d0b-4a05-49a9-aa71-eacf56a356fb",
   "metadata": {},
   "outputs": [
    {
     "data": {
      "text/plain": [
       "<tf.Tensor: shape=(6400,), dtype=string, numpy=\n",
       "array([b'.\\\\data\\\\mini_speech_commands\\\\up\\\\b7a6f709_nohash_0.wav',\n",
       "       b'.\\\\data\\\\mini_speech_commands\\\\go\\\\e7ea8b76_nohash_7.wav',\n",
       "       b'.\\\\data\\\\mini_speech_commands\\\\up\\\\f33660af_nohash_1.wav', ...,\n",
       "       b'.\\\\data\\\\mini_speech_commands\\\\down\\\\6cb6eee7_nohash_0.wav',\n",
       "       b'.\\\\data\\\\mini_speech_commands\\\\left\\\\68effe85_nohash_0.wav',\n",
       "       b'.\\\\data\\\\mini_speech_commands\\\\stop\\\\3a7d8872_nohash_0.wav'],\n",
       "      dtype=object)>"
      ]
     },
     "execution_count": 13,
     "metadata": {},
     "output_type": "execute_result"
    }
   ],
   "source": [
    "train_files"
   ]
  },
  {
   "cell_type": "code",
   "execution_count": 5,
   "id": "4de4e01a-28d7-4927-a881-854805d1ceae",
   "metadata": {},
   "outputs": [
    {
     "name": "stdout",
     "output_type": "stream",
     "text": [
      "&&&&&&&&&&&&&&&&&&&&&&&&&&&&&&&&&&&&&&&&&&&&&&&&&&&&&&&&&&&&&&&&&&&&&&&&&&&&&&&&&&&&&&&&&&&&&&&&&&&& \n",
      " b'.'\n",
      "&&&&&&&&&&&&&&&&&&&&&&&&&&&&&&&&&&&&&&&&&&&&&&&&&&&&&&&&&&&&&&&&&&&&&&&&&&&&&&&&&&&&&&&&&&&&&&&&&&&& \n",
      " b'data'\n",
      "&&&&&&&&&&&&&&&&&&&&&&&&&&&&&&&&&&&&&&&&&&&&&&&&&&&&&&&&&&&&&&&&&&&&&&&&&&&&&&&&&&&&&&&&&&&&&&&&&&&& \n",
      " b'mini_speech_commands'\n",
      "&&&&&&&&&&&&&&&&&&&&&&&&&&&&&&&&&&&&&&&&&&&&&&&&&&&&&&&&&&&&&&&&&&&&&&&&&&&&&&&&&&&&&&&&&&&&&&&&&&&& \n",
      " b'up'\n",
      "&&&&&&&&&&&&&&&&&&&&&&&&&&&&&&&&&&&&&&&&&&&&&&&&&&&&&&&&&&&&&&&&&&&&&&&&&&&&&&&&&&&&&&&&&&&&&&&&&&&& \n",
      " b'b7a6f709_nohash_0.wav'\n",
      "tf.Tensor(b'up', shape=(), dtype=string)\n"
     ]
    }
   ],
   "source": [
    "x = tf.strings.split(train_files[0] , os.path.sep)\n",
    "for path in x :\n",
    "    print(\"&\" * 100 , \"\\n\" , path.numpy())\n",
    "    \n",
    "print(x[-2])"
   ]
  },
  {
   "cell_type": "markdown",
   "id": "b2b68ce9-9b69-4ac6-b20f-73b4165d73e2",
   "metadata": {},
   "source": [
    "######################################################## Create the SignalGenerator #########################################################"
   ]
  },
  {
   "cell_type": "code",
   "execution_count": 6,
   "id": "4e3ba740-f03b-4560-989b-9d12226806ee",
   "metadata": {},
   "outputs": [],
   "source": [
    "\n",
    "class SignalGenerator:\n",
    "    def __init__(self, labels, sampling_rate, frame_length, frame_step,\n",
    "            num_mel_bins=None, lower_frequency=None, upper_frequency=None,\n",
    "            num_coefficients=None, mfcc=False):\n",
    "        self.labels = labels\n",
    "        self.sampling_rate = sampling_rate                                             # 16000  \n",
    "        self.frame_length = frame_length                                               # 640 \n",
    "        self.frame_step = frame_step                                                   # 320 \n",
    "        self.num_mel_bins = num_mel_bins                                               # 40 \n",
    "        self.lower_frequency = lower_frequency                                         # 20 \n",
    "        self.upper_frequency = upper_frequency                                         # 4000\n",
    "        self.num_coefficients = num_coefficients                                       # 10 \n",
    "        num_spectrogram_bins = (frame_length) // 2 + 1                                  # ( frame size // 2 ) + 1 \n",
    "\n",
    "        '''\n",
    "        STFT_OPTIONS = {'frame_length': 256, 'frame_step': 128, 'mfcc': False}\n",
    "        MFCC_OPTIONS = {'frame_length': 640, 'frame_step': 320, 'mfcc': True,\n",
    "        'lower_frequency': 20, 'upper_frequency': 4000, 'num_mel_bins': 40,\n",
    "        'num_coefficients': 10}\n",
    "        '''\n",
    "\n",
    "        if mfcc is True:                                                                # Remember we need to compute this matrix once so it will be a class argument \n",
    "            self.linear_to_mel_weight_matrix = tf.signal.linear_to_mel_weight_matrix(\n",
    "                    self.num_mel_bins, num_spectrogram_bins, self.sampling_rate,\n",
    "                    self.lower_frequency, self.upper_frequency)\n",
    "            self.preprocess = self.preprocess_with_mfcc\n",
    "        else:\n",
    "            self.preprocess = self.preprocess_with_stft\n",
    "\n",
    "    def read(self, file_path):\n",
    "        parts = tf.strings.split(file_path, os.path.sep)\n",
    "        label = parts[-2]                                  # -1 is audio.wav so \n",
    "        label_id = tf.argmax(label == self.labels)\n",
    "        audio_binary = tf.io.read_file(file_path)\n",
    "        audio, _ = tf.audio.decode_wav(audio_binary)\n",
    "        audio = tf.squeeze(audio, axis=1)\n",
    "\n",
    "        return audio, label_id\n",
    "\n",
    "    def pad(self, audio):\n",
    "        # Padding for files with less than 16000 samples\n",
    "        zero_padding = tf.zeros([self.sampling_rate] - tf.shape(audio), dtype=tf.float32)     # if the shape of the audio is already = 16000 (sampling rate) we will add nothing \n",
    "\n",
    "        # Concatenate audio with padding so that all audio clips will be of the  same length\n",
    "        audio = tf.concat([audio, zero_padding], 0)\n",
    "        # Unify the shape to the sampling frequency (16000 , )\n",
    "        audio.set_shape([self.sampling_rate])\n",
    "\n",
    "        return audio\n",
    "\n",
    "    def get_spectrogram(self, audio):\n",
    "        stft = tf.signal.stft(audio, frame_length=self.frame_length,\n",
    "                frame_step=self.frame_step, fft_length=self.frame_length)\n",
    "        spectrogram = tf.abs(stft)\n",
    "\n",
    "        return spectrogram\n",
    "\n",
    "    def get_mfccs(self, spectrogram):\n",
    "        mel_spectrogram = tf.tensordot(spectrogram,\n",
    "                self.linear_to_mel_weight_matrix, 1)\n",
    "        log_mel_spectrogram = tf.math.log(mel_spectrogram + 1.e-6)\n",
    "        mfccs = tf.signal.mfccs_from_log_mel_spectrograms(log_mel_spectrogram)\n",
    "        mfccs = mfccs[..., :self.num_coefficients]\n",
    "\n",
    "        return mfccs\n",
    "\n",
    "    def preprocess_with_stft(self, file_path):\n",
    "        audio, label = self.read(file_path)\n",
    "        audio = self.pad(audio)\n",
    "        spectrogram = self.get_spectrogram(audio)\n",
    "        spectrogram = tf.expand_dims(spectrogram, -1)\n",
    " \n",
    "   # expand_dims will not add or reduce elements in a tensor, it just changes the shape by adding 1 to dimensions. For example, a vector with 10 elements could be treated as a 10x1 matrix.\n",
    "    #The situation I have met to use expand_dims is when I tried to build a ConvNet to classify grayscale images. The grayscale images will be loaded as matrix of size [320, 320]. However,\n",
    "    #tf.nn.conv2d require input to be [batch, in_height, in_width, in_channels], \n",
    "    # where the in_channels dimension is missing in my data which in this case should be 1. So I used expand_dims to add one more dimension.\n",
    "    \n",
    "        spectrogram = tf.image.resize(spectrogram, [32, 32])\n",
    "\n",
    "        return spectrogram, label\n",
    "\n",
    "    def preprocess_with_mfcc(self, file_path):\n",
    "        audio, label = self.read(file_path)\n",
    "        audio = self.pad(audio)\n",
    "        spectrogram = self.get_spectrogram(audio)\n",
    "        mfccs = self.get_mfccs(spectrogram)\n",
    "        mfccs = tf.expand_dims(mfccs, -1)\n",
    "\n",
    "        return mfccs, label\n",
    "\n",
    "    def make_dataset(self, files, train):\n",
    "        ds = tf.data.Dataset.from_tensor_slices(files)\n",
    "        ds = ds.map(self.preprocess, num_parallel_calls = tf.data.experimental.AUTOTUNE) # better than 4 tf.data.experimental.AUTOTUNE\n",
    "        ds = ds.batch(32)\n",
    "        ds = ds.cache()\n",
    "        ds = ds.prefetch(tf.data.experimental.AUTOTUNE)\n",
    "        if train is True:\n",
    "            ds = ds.shuffle(100, reshuffle_each_iteration=True)\n",
    "\n",
    "        return ds\n"
   ]
  },
  {
   "cell_type": "markdown",
   "id": "145319b8-9d5d-4703-848d-286ef9d32308",
   "metadata": {},
   "source": [
    "######################################################## Options for MFCC & STFT #########################################################"
   ]
  },
  {
   "cell_type": "code",
   "execution_count": 7,
   "id": "0eceb5a7-dd9e-4016-8740-8a369cc04c96",
   "metadata": {},
   "outputs": [],
   "source": [
    "STFT_OPTIONS = {'frame_length': 256, 'frame_step': 128, 'mfcc': False}\n",
    "MFCC_OPTIONS = {'frame_length': 640, 'frame_step': 320, 'mfcc': True,\n",
    "        'lower_frequency': 20, 'upper_frequency': 4000, 'num_mel_bins': 40,\n",
    "        'num_coefficients': 10}\n",
    "if mfcc is True:\n",
    "    options = MFCC_OPTIONS\n",
    "    strides = [2, 1]\n",
    "else:\n",
    "    options = STFT_OPTIONS\n",
    "    strides = [2, 2]\n",
    "\n"
   ]
  },
  {
   "cell_type": "markdown",
   "id": "960e663d-1878-4adc-9896-3b14f301c1a3",
   "metadata": {},
   "source": [
    "######################################################## Generate Data set splits #########################################################"
   ]
  },
  {
   "cell_type": "code",
   "execution_count": 8,
   "id": "deee74c8-3473-4dac-a80f-b928ff890e82",
   "metadata": {},
   "outputs": [],
   "source": [
    "## We need the silence file to complete this "
   ]
  },
  {
   "cell_type": "code",
   "execution_count": 9,
   "id": "d60c9552-9801-40fc-912f-68a80e4f7095",
   "metadata": {},
   "outputs": [],
   "source": [
    "generator = SignalGenerator(LABELS, 16000, **options)\n",
    "train_ds = generator.make_dataset(train_files, True)\n",
    "val_ds = generator.make_dataset(val_files, False)\n",
    "test_ds = generator.make_dataset(test_files, False)"
   ]
  },
  {
   "cell_type": "code",
   "execution_count": 10,
   "id": "84c96043-735d-4894-b781-9850efd9a705",
   "metadata": {},
   "outputs": [],
   "source": [
    "it = iter(val_ds)"
   ]
  },
  {
   "cell_type": "code",
   "execution_count": 12,
   "id": "b4d86289-08a7-4575-bca6-c453c64833dd",
   "metadata": {},
   "outputs": [
    {
     "name": "stdout",
     "output_type": "stream",
     "text": [
      "(32, 49, 10, 1)\n",
      "tf.Tensor(0, shape=(), dtype=int64)\n"
     ]
    }
   ],
   "source": [
    "inp , label = next(it)\n",
    "print(inp.shape)\n",
    "print(label[0])"
   ]
  },
  {
   "cell_type": "markdown",
   "id": "61ebef89-bc88-4cec-ab48-fa1c20b6255f",
   "metadata": {},
   "source": [
    "########################################################  building the models ########################################################"
   ]
  },
  {
   "cell_type": "code",
   "execution_count": 16,
   "id": "8b781a4b-06e1-456d-aee0-996e6a540e05",
   "metadata": {},
   "outputs": [
    {
     "name": "stdout",
     "output_type": "stream",
     "text": [
      "dict_keys(['mlp_V_a_alpha=1', 'cnn_V_a_alpha=1', 'ds_cnn_V_a_alpha=1'])\n"
     ]
    }
   ],
   "source": [
    "\n",
    "\n",
    "mlp = tf.keras.Sequential([\n",
    "    tf.keras.layers.Flatten(),\n",
    "    tf.keras.layers.Dense(units = int(256 *alpha), activation='relu' , name =  \"Dense-1\" ),\n",
    "    tf.keras.layers.Dense(units = int(256 *alpha), activation='relu', name =  \"Dense-2\"),\n",
    "    tf.keras.layers.Dense(units = int(256 *alpha), activation='relu', name =   \"Dense-3\" ),\n",
    "    tf.keras.layers.Dense(units = units , name =  \"Output-Layer\")                                   # change to 9 if silence included \n",
    "])\n",
    "\n",
    "cnn = tf.keras.Sequential([\n",
    "    tf.keras.layers.Conv2D(filters=int(128 *alpha), kernel_size=[3,3], strides=strides, use_bias=False , name = \"Conv2D-1\"),\n",
    "    tf.keras.layers.BatchNormalization(momentum=0.1 , name = \"Btch_Norm-1\"),\n",
    "    tf.keras.layers.ReLU(),\n",
    "    tf.keras.layers.Conv2D(filters=int(128 *alpha), kernel_size=[3,3], strides=[1,1], use_bias=False , name = \"Conv2D-2\"),\n",
    "    tf.keras.layers.BatchNormalization(momentum=0.1 , name = \"Btch_Norm-2\"),\n",
    "    tf.keras.layers.ReLU(),\n",
    "    tf.keras.layers.Conv2D(filters=int(128 *alpha), kernel_size=[3,3], strides=[1,1], use_bias=False , name = \"Conv2D-3\"),\n",
    "    tf.keras.layers.BatchNormalization(momentum=0.1 , name = \"Btch_Norm-3\"),\n",
    "    tf.keras.layers.ReLU(),\n",
    "    tf.keras.layers.GlobalAveragePooling2D( name =  \"GlobalAveragePooling-Layer\"),\n",
    "    tf.keras.layers.Dense(units = units, name =  \"Output-Layer\")\n",
    "])\n",
    "\n",
    "ds_cnn = tf.keras.Sequential([\n",
    "    tf.keras.layers.Conv2D(filters=int(256 *alpha), kernel_size=[3,3], strides=strides, use_bias=False, name = \"Conv2D-1\"),\n",
    "    tf.keras.layers.BatchNormalization(momentum=0.1),\n",
    "    tf.keras.layers.ReLU(),\n",
    "    tf.keras.layers.DepthwiseConv2D(kernel_size=[3, 3], strides=[1, 1], use_bias=False, name = \"DepthwiseConv2D-1\"),\n",
    "    tf.keras.layers.Conv2D(filters=int(256 *alpha), kernel_size=[1,1], strides=[1,1], use_bias=False, name = \"Conv2D-2\"),\n",
    "    tf.keras.layers.BatchNormalization(momentum=0.1),\n",
    "    tf.keras.layers.ReLU(),\n",
    "    tf.keras.layers.DepthwiseConv2D(kernel_size=[3, 3], strides=[1, 1], use_bias=False, name = \"DepthwiseConv2D-2\"),\n",
    "    tf.keras.layers.Conv2D(filters=int(256 *alpha), kernel_size=[1,1], strides=[1,1], use_bias=False, name = \"Conv2D-3\"),\n",
    "    tf.keras.layers.BatchNormalization(momentum=0.1),\n",
    "    tf.keras.layers.ReLU(),\n",
    "    tf.keras.layers.GlobalAveragePooling2D( name =  \"GlobalAveragePooling-Layer\"),\n",
    "    tf.keras.layers.Dense(units = units, name =  \"Output-Layer\")\n",
    "])\n",
    "\n",
    "\n",
    "MODELS = {'mlp'+ model_version : mlp, 'cnn'+ model_version: cnn, 'ds_cnn'+ model_version: ds_cnn}\n",
    "print(MODELS.keys())"
   ]
  },
  {
   "cell_type": "markdown",
   "id": "b273a830-946b-4b6f-8a93-9c67b908a50b",
   "metadata": {},
   "source": [
    "######################################################## Define optimizer & Losses & Metrics ########################################################"
   ]
  },
  {
   "cell_type": "code",
   "execution_count": 17,
   "id": "61f4f328-b703-4a2c-952b-360d798f0b94",
   "metadata": {},
   "outputs": [],
   "source": [
    "\n",
    "model = MODELS[mymodel]              # initiate the selected model \n",
    "\n",
    "loss = tf.losses.SparseCategoricalCrossentropy(from_logits=True)\n",
    "optimizer = tf.optimizers.Adam()\n",
    "metrics = [tf.keras.metrics.SparseCategoricalAccuracy()]\n",
    "\n",
    "\n",
    "\n",
    "########################################################################################################################################################################\n",
    "if Structured == False :                                # if False -->  Magnitude Based Pruning is applied \n",
    "    input_shape = (32, 49, 10, 1)\n",
    "    model.build(input_shape)\n",
    "    # Define the sparsity scheduler\n",
    "    pruning_params = {'pruning_schedule':\n",
    "    tfmot.sparsity.keras.PolynomialDecay(\n",
    "    initial_sparsity=0.30,\n",
    "    final_sparsity=sparsity,\n",
    "    begin_step=len(train_ds)*5,\n",
    "    end_step=len(train_ds)*15)}\n",
    "\n",
    "    prune_low_magnitude = tfmot.sparsity.keras.prune_low_magnitude\n",
    "\n",
    "    model = prune_low_magnitude(model, **pruning_params)\n",
    "    \n",
    "    # Define the pruning callback\n",
    "    PruningCallback = [tfmot.sparsity.keras.UpdatePruningStep()]\n",
    "########################################################################################################################################################################    \n",
    "################### Compiling the model :\n",
    "\n",
    "model.compile(loss = loss, optimizer = optimizer, metrics = metrics)\n",
    "\n",
    "######################################################## check points depending on preprocessing STFT , MFCC \n",
    "if mfcc is False:\n",
    "    checkpoint_filepath = f'./checkpoints/stft/chkp_best_{mymodel}'\n",
    "\n",
    "else:\n",
    "    checkpoint_filepath = f'./checkpoints/mfcc/chkp_best_{mymodel}'\n",
    "    \n",
    "model_checkpoint_callback = tf.keras.callbacks.ModelCheckpoint(\n",
    "    filepath=checkpoint_filepath,           \n",
    "    monitor='val_sparse_categorical_accuracy',\n",
    "    verbose=1,\n",
    "    mode='max',\n",
    "    save_best_only=True,\n",
    "    save_freq='epoch')"
   ]
  },
  {
   "cell_type": "markdown",
   "id": "d26ff580-89c6-48a3-96d4-1512f83c51fc",
   "metadata": {},
   "source": [
    "######################################################## Model Training ########################################################"
   ]
  },
  {
   "cell_type": "code",
   "execution_count": 18,
   "id": "0ca7e4bd-a492-46a1-88be-1698e12e1fb1",
   "metadata": {},
   "outputs": [
    {
     "name": "stdout",
     "output_type": "stream",
     "text": [
      "Epoch 1/10\n",
      "200/200 [==============================] - ETA: 0s - loss: 1.2456 - sparse_categorical_accuracy: 0.6036\n",
      "Epoch 00001: val_sparse_categorical_accuracy improved from -inf to 0.81500, saving model to ./checkpoints/mfcc\\chkp_best_ds_cnn_V_a_alpha=1\n",
      "WARNING:tensorflow:From C:\\Users\\musta\\anaconda3\\envs\\tensorflow\\lib\\site-packages\\tensorflow\\python\\training\\tracking\\tracking.py:111: Model.state_updates (from tensorflow.python.keras.engine.training) is deprecated and will be removed in a future version.\n",
      "Instructions for updating:\n",
      "This property should not be used in TensorFlow 2.0, as updates are applied automatically.\n",
      "WARNING:tensorflow:From C:\\Users\\musta\\anaconda3\\envs\\tensorflow\\lib\\site-packages\\tensorflow\\python\\training\\tracking\\tracking.py:111: Layer.updates (from tensorflow.python.keras.engine.base_layer) is deprecated and will be removed in a future version.\n",
      "Instructions for updating:\n",
      "This property should not be used in TensorFlow 2.0, as updates are applied automatically.\n",
      "INFO:tensorflow:Assets written to: ./checkpoints/mfcc\\chkp_best_ds_cnn_V_a_alpha=1\\assets\n",
      "200/200 [==============================] - 15s 76ms/step - loss: 1.2456 - sparse_categorical_accuracy: 0.6036 - val_loss: 0.7019 - val_sparse_categorical_accuracy: 0.8150\n",
      "Epoch 2/10\n",
      "200/200 [==============================] - ETA: 0s - loss: 0.6128 - sparse_categorical_accuracy: 0.8330\n",
      "Epoch 00002: val_sparse_categorical_accuracy improved from 0.81500 to 0.85875, saving model to ./checkpoints/mfcc\\chkp_best_ds_cnn_V_a_alpha=1\n",
      "INFO:tensorflow:Assets written to: ./checkpoints/mfcc\\chkp_best_ds_cnn_V_a_alpha=1\\assets\n",
      "200/200 [==============================] - 11s 54ms/step - loss: 0.6128 - sparse_categorical_accuracy: 0.8330 - val_loss: 0.4879 - val_sparse_categorical_accuracy: 0.8587\n",
      "Epoch 3/10\n",
      "200/200 [==============================] - ETA: 0s - loss: 0.4249 - sparse_categorical_accuracy: 0.8838\n",
      "Epoch 00003: val_sparse_categorical_accuracy improved from 0.85875 to 0.90375, saving model to ./checkpoints/mfcc\\chkp_best_ds_cnn_V_a_alpha=1\n",
      "INFO:tensorflow:Assets written to: ./checkpoints/mfcc\\chkp_best_ds_cnn_V_a_alpha=1\\assets\n",
      "200/200 [==============================] - 11s 54ms/step - loss: 0.4249 - sparse_categorical_accuracy: 0.8838 - val_loss: 0.3744 - val_sparse_categorical_accuracy: 0.9038\n",
      "Epoch 4/10\n",
      "200/200 [==============================] - ETA: 0s - loss: 0.3305 - sparse_categorical_accuracy: 0.9039\n",
      "Epoch 00004: val_sparse_categorical_accuracy did not improve from 0.90375\n",
      "200/200 [==============================] - 9s 45ms/step - loss: 0.3305 - sparse_categorical_accuracy: 0.9039 - val_loss: 0.3538 - val_sparse_categorical_accuracy: 0.8875\n",
      "Epoch 5/10\n",
      "199/200 [============================>.] - ETA: 0s - loss: 0.2847 - sparse_categorical_accuracy: 0.9190\n",
      "Epoch 00005: val_sparse_categorical_accuracy improved from 0.90375 to 0.90875, saving model to ./checkpoints/mfcc\\chkp_best_ds_cnn_V_a_alpha=1\n",
      "INFO:tensorflow:Assets written to: ./checkpoints/mfcc\\chkp_best_ds_cnn_V_a_alpha=1\\assets\n",
      "200/200 [==============================] - 11s 54ms/step - loss: 0.2848 - sparse_categorical_accuracy: 0.9189 - val_loss: 0.3048 - val_sparse_categorical_accuracy: 0.9087\n",
      "Epoch 6/10\n",
      "200/200 [==============================] - ETA: 0s - loss: 0.2323 - sparse_categorical_accuracy: 0.9336\n",
      "Epoch 00006: val_sparse_categorical_accuracy improved from 0.90875 to 0.91375, saving model to ./checkpoints/mfcc\\chkp_best_ds_cnn_V_a_alpha=1\n",
      "INFO:tensorflow:Assets written to: ./checkpoints/mfcc\\chkp_best_ds_cnn_V_a_alpha=1\\assets\n",
      "200/200 [==============================] - 11s 55ms/step - loss: 0.2323 - sparse_categorical_accuracy: 0.9336 - val_loss: 0.2729 - val_sparse_categorical_accuracy: 0.9137\n",
      "Epoch 7/10\n",
      "200/200 [==============================] - ETA: 0s - loss: 0.2067 - sparse_categorical_accuracy: 0.9391\n",
      "Epoch 00007: val_sparse_categorical_accuracy did not improve from 0.91375\n",
      "200/200 [==============================] - 9s 44ms/step - loss: 0.2067 - sparse_categorical_accuracy: 0.9391 - val_loss: 0.2824 - val_sparse_categorical_accuracy: 0.9062\n",
      "Epoch 8/10\n",
      "199/200 [============================>.] - ETA: 0s - loss: 0.1857 - sparse_categorical_accuracy: 0.9468\n",
      "Epoch 00008: val_sparse_categorical_accuracy did not improve from 0.91375\n",
      "200/200 [==============================] - 10s 48ms/step - loss: 0.1855 - sparse_categorical_accuracy: 0.9470 - val_loss: 0.2975 - val_sparse_categorical_accuracy: 0.8988\n",
      "Epoch 9/10\n",
      "200/200 [==============================] - ETA: 0s - loss: 0.1696 - sparse_categorical_accuracy: 0.9517\n",
      "Epoch 00009: val_sparse_categorical_accuracy did not improve from 0.91375\n",
      "200/200 [==============================] - 10s 48ms/step - loss: 0.1696 - sparse_categorical_accuracy: 0.9517 - val_loss: 0.2790 - val_sparse_categorical_accuracy: 0.9137\n",
      "Epoch 10/10\n",
      "200/200 [==============================] - ETA: 0s - loss: 0.1446 - sparse_categorical_accuracy: 0.9578\n",
      "Epoch 00010: val_sparse_categorical_accuracy improved from 0.91375 to 0.92000, saving model to ./checkpoints/mfcc\\chkp_best_ds_cnn_V_a_alpha=1\n",
      "INFO:tensorflow:Assets written to: ./checkpoints/mfcc\\chkp_best_ds_cnn_V_a_alpha=1\\assets\n",
      "200/200 [==============================] - 12s 61ms/step - loss: 0.1446 - sparse_categorical_accuracy: 0.9578 - val_loss: 0.3109 - val_sparse_categorical_accuracy: 0.9200\n"
     ]
    }
   ],
   "source": [
    "if Structured == True :\n",
    "    history = model.fit(train_ds, epochs=10,   validation_data=val_ds,callbacks=[model_checkpoint_callback ])\n",
    "else :\n",
    "    history = model.fit(train_ds, epochs=10,   validation_data=val_ds,callbacks=[model_checkpoint_callback,PruningCallback])\n",
    "    # model = tf.keras.models.load_model(filepath = checkpoint_filepath)\n",
    "    model_to_export = tfmot.sparsity.keras.strip_pruning(model)\n",
    "\n"
   ]
  },
  {
   "cell_type": "code",
   "execution_count": 19,
   "id": "8efecaca-29ea-464a-82fa-07789d1c1fd7",
   "metadata": {},
   "outputs": [
    {
     "name": "stdout",
     "output_type": "stream",
     "text": [
      "Model: \"sequential_5\"\n",
      "_________________________________________________________________\n",
      "Layer (type)                 Output Shape              Param #   \n",
      "=================================================================\n",
      "Conv2D-1 (Conv2D)            (None, 24, 8, 256)        2304      \n",
      "_________________________________________________________________\n",
      "batch_normalization_3 (Batch (None, 24, 8, 256)        1024      \n",
      "_________________________________________________________________\n",
      "re_lu_9 (ReLU)               (None, 24, 8, 256)        0         \n",
      "_________________________________________________________________\n",
      "DepthwiseConv2D-1 (Depthwise (None, 22, 6, 256)        2304      \n",
      "_________________________________________________________________\n",
      "Conv2D-2 (Conv2D)            (None, 22, 6, 256)        65536     \n",
      "_________________________________________________________________\n",
      "batch_normalization_4 (Batch (None, 22, 6, 256)        1024      \n",
      "_________________________________________________________________\n",
      "re_lu_10 (ReLU)              (None, 22, 6, 256)        0         \n",
      "_________________________________________________________________\n",
      "DepthwiseConv2D-2 (Depthwise (None, 20, 4, 256)        2304      \n",
      "_________________________________________________________________\n",
      "Conv2D-3 (Conv2D)            (None, 20, 4, 256)        65536     \n",
      "_________________________________________________________________\n",
      "batch_normalization_5 (Batch (None, 20, 4, 256)        1024      \n",
      "_________________________________________________________________\n",
      "re_lu_11 (ReLU)              (None, 20, 4, 256)        0         \n",
      "_________________________________________________________________\n",
      "GlobalAveragePooling-Layer ( (None, 256)               0         \n",
      "_________________________________________________________________\n",
      "Output-Layer (Dense)         (None, 8)                 2056      \n",
      "=================================================================\n",
      "Total params: 143,112\n",
      "Trainable params: 141,576\n",
      "Non-trainable params: 1,536\n",
      "_________________________________________________________________\n",
      "None\n"
     ]
    }
   ],
   "source": [
    "############################## Print Model Summary ####################\n",
    "print(model.summary())"
   ]
  },
  {
   "cell_type": "code",
   "execution_count": 20,
   "id": "90893b43-bb59-4d46-b1ca-dda5dfa404f8",
   "metadata": {},
   "outputs": [
    {
     "data": {
      "image/png": "[encoded data removed]",
      "text/plain": [
       "<Figure size 432x288 with 1 Axes>"
      ]
     },
     "metadata": {
      "needs_background": "light"
     },
     "output_type": "display_data"
    }
   ],
   "source": [
    "import matplotlib.pyplot as plt\n",
    "def plot_loss(history):\n",
    "    plt.plot(history.history['sparse_categorical_accuracy'], label='Accuracy')\n",
    "    plt.plot(history.history['val_sparse_categorical_accuracy'], label='val_Accuracy')\n",
    "    plt.xlabel('Epoch')\n",
    "    plt.ylabel('Accuracy')\n",
    "    plt.legend()\n",
    "    plt.grid(True)\n",
    "    plt.savefig(mymodel+\".png\")\n",
    "\n",
    "plot_loss(history)"
   ]
  },
  {
   "cell_type": "code",
   "execution_count": 29,
   "id": "4a178b51-62a3-4631-b876-5e60ec452ea7",
   "metadata": {},
   "outputs": [
    {
     "name": "stdout",
     "output_type": "stream",
     "text": [
      "INFO:tensorflow:Assets written to: best_wo_opt\\assets\n"
     ]
    },
    {
     "name": "stderr",
     "output_type": "stream",
     "text": [
      "INFO:tensorflow:Assets written to: best_wo_opt\\assets\n"
     ]
    }
   ],
   "source": [
    "best_model = tf.keras.models.load_model(filepath = checkpoint_filepath )\n",
    "best_model.evaluate(test_ds)"
   ]
  },
  {
   "cell_type": "code",
   "execution_count": 36,
   "id": "5b6a271b-ebb5-4eba-9647-f22415f65bc4",
   "metadata": {},
   "outputs": [
    {
     "name": "stdout",
     "output_type": "stream",
     "text": [
      "25/25 [==============================] - 1s 41ms/step - loss: 0.2442 - sparse_categorical_accuracy: 0.9162\n"
     ]
    },
    {
     "data": {
      "text/plain": [
       "[0.24423746764659882, 0.9162499904632568]"
      ]
     },
     "execution_count": 36,
     "metadata": {},
     "output_type": "execute_result"
    }
   ],
   "source": [
    "best_model.evaluate(test_ds)"
   ]
  },
  {
   "cell_type": "code",
   "execution_count": 31,
   "id": "c8ec4951-9671-4e30-a5c3-5e873bd6a3e7",
   "metadata": {},
   "outputs": [],
   "source": [
    "converter_best = tf.lite.TFLiteConverter.from_saved_model(checkpoint_filepath)\n",
    "tflite_model_best = converter_best.convert() \n",
    "with open(\"./models/best.tflite\", 'wb') as fp:\n",
    "    fp.write(tflite_model_best)"
   ]
  },
  {
   "cell_type": "code",
   "execution_count": null,
   "id": "7e484f3f-3be2-4bb9-9600-c03ddf382baf",
   "metadata": {},
   "outputs": [],
   "source": [
    "# converter = tf.lite.TFLiteConverter.from_saved_model(\"best_wo_opt\")\n",
    "# tflite_model = converter.convert() \n",
    "# with open(\"./models/best_wo_opt.tflite\", 'wb') as fp:\n",
    "#     fp.write(tflite_model)"
   ]
  },
  {
   "cell_type": "code",
   "execution_count": 34,
   "id": "63a9b5e5-144e-40e2-8837-3ce830e738bf",
   "metadata": {},
   "outputs": [],
   "source": [
    "# Compressed = \"compressed_\"+tflite_model_dir \n",
    "with open(\"./models/compressed_best.tflite\", 'wb') as fp:\n",
    "    tflite_compressed = zlib.compress(tflite_model_best)\n",
    "    fp.write(tflite_model_best)"
   ]
  },
  {
   "cell_type": "code",
   "execution_count": null,
   "id": "9bcf9e9b-4d76-4ef7-aa9c-3dfa5eb8314a",
   "metadata": {},
   "outputs": [],
   "source": [
    "\n",
    "interpreter = tf.lite.Interpreter(model_path=\"./models/best.tflite\")\n",
    "interpreter.allocate_tensors()\n",
    "input_details = interpreter.get_input_details()\n",
    "output_details = interpreter.get_output_details()\n",
    "\n",
    "chunk = 4800\n",
    "resolution = pyaudio.paInt16\n",
    "samp_rate = 48000\n",
    "record_secs = 1 # seconds to record\n",
    "dev_index = 0 # device index found by p.get_device_info_by_index(ii)\n",
    "chunks = int((samp_rate / chunk) * record_secs)\n",
    "\n",
    "length = int(0.040*16000)\n",
    "stride = int(0.020*16000)\n",
    "num_mel_bins = 40\n",
    "spectrogram_width = (16000 - length) // stride + 1\n",
    "num_spectrogram_bins = length // 2 + 1\n",
    "num_coefficients = 10\n",
    "linear_to_mel_weight_matrix = tf.signal.linear_to_mel_weight_matrix(\n",
    "        num_mel_bins, num_spectrogram_bins, 16000, 20, 4000)\n",
    "\n",
    "buf = BytesIO()\n",
    "\n",
    "audio = pyaudio.PyAudio() # create pyaudio instantiation\n",
    "stream = audio.open(format=resolution, rate=samp_rate, channels=1,\n",
    "                    input_device_index=dev_index, input=True,\n",
    "                    frames_per_buffer=chunk)\n",
    "stream.stop_stream()\n",
    "\n",
    "COMMANDS = ['stop', 'up', 'yes', 'right', 'left', 'no',  'down', 'go']\n",
    "\n",
    "\n",
    "while True:\n",
    "    frames = []\n",
    "    buf.seek(0)\n",
    "\n",
    "    print('record')\n",
    "    time.sleep(0.1)\n",
    "\n",
    "    stream.start_stream()\n",
    "    for ii in range(chunks):\n",
    "        data = stream.read(chunk)\n",
    "        frames.append(data)\n",
    "    stream.stop_stream()\n",
    "\n",
    "    wavefile = wave.open(buf ,'wb')\n",
    "    wavefile.setnchannels(1)\n",
    "    wavefile.setsampwidth(audio.get_sample_size(resolution))\n",
    "    wavefile.setframerate(samp_rate)\n",
    "    wavefile.writeframes(b''.join(frames))\n",
    "    wavefile.close()\n",
    "    buf.seek(0)\n",
    "\n",
    "    \n",
    "    sample, _ = tf.audio.decode_wav(buf.read())\n",
    "    sample = tf.squeeze(sample, 1)\n",
    "    start = time.time()\n",
    "    sample = signal.resample_poly(sample, 1, 3)\n",
    "    sample = tf.convert_to_tensor(sample, dtype=tf.float32)\n",
    "    stft = tf.signal.stft(sample, length, stride,\n",
    "            fft_length=length)\n",
    "    spectrogram = tf.abs(stft)\n",
    "    mel_spectrogram = tf.tensordot(spectrogram, linear_to_mel_weight_matrix, 1)\n",
    "    log_mel_spectrogram = tf.math.log(mel_spectrogram + 1.e-6)\n",
    "    mfccs = tf.signal.mfccs_from_log_mel_spectrograms(log_mel_spectrogram)\n",
    "    mfccs = mfccs[..., :num_coefficients]\n",
    "    mfccs = tf.reshape(mfccs, [1, spectrogram_width, num_coefficients, 1])\n",
    "    end = time.time()\n",
    "    preprocessing = (end-start)*1e3\n",
    "    print('Preprocessing {:.3f}ms'.format(preprocessing))\n",
    "\n",
    "    start = time.time()\n",
    "    interpreter.set_tensor(input_details[0]['index'], mfccs)\n",
    "    interpreter.invoke()\n",
    "    predicted = interpreter.get_tensor(output_details[0]['index'])\n",
    "    end = time.time()\n",
    "    inference = (end-start)*1e3\n",
    "    print('Inference {:.3f}ms'.format(inference))\n",
    "    print('Total {:.3f}ms'.format(preprocessing+inference))\n",
    "    index = np.argmax(predicted[0])\n",
    "    print('Command:', COMMANDS[index])\n",
    "    print()\n",
    "    time.sleep(0.5)"
   ]
  },
  {
   "cell_type": "code",
   "execution_count": null,
   "id": "c2a0e8bd-8654-48bb-b1c6-ca4261753667",
   "metadata": {},
   "outputs": [
    {
     "ename": "NameError",
     "evalue": "name 'model_to_export' is not defined",
     "output_type": "error",
     "traceback": [
      "\u001b[1;31m---------------------------------------------------------------------------\u001b[0m",
      "\u001b[1;31mNameError\u001b[0m                                 Traceback (most recent call last)",
      "\u001b[1;32m~\\AppData\\Local\\Temp/ipykernel_15468/3324941695.py\u001b[0m in \u001b[0;36m<module>\u001b[1;34m\u001b[0m\n\u001b[0;32m      1\u001b[0m \u001b[0m_\u001b[0m\u001b[1;33m,\u001b[0m \u001b[0mpruned_keras_file\u001b[0m \u001b[1;33m=\u001b[0m \u001b[0mtempfile\u001b[0m\u001b[1;33m.\u001b[0m\u001b[0mmkstemp\u001b[0m\u001b[1;33m(\u001b[0m\u001b[1;34m'.h5'\u001b[0m\u001b[1;33m)\u001b[0m\u001b[1;33m\u001b[0m\u001b[1;33m\u001b[0m\u001b[0m\n\u001b[1;32m----> 2\u001b[1;33m \u001b[0mtf\u001b[0m\u001b[1;33m.\u001b[0m\u001b[0mkeras\u001b[0m\u001b[1;33m.\u001b[0m\u001b[0mmodels\u001b[0m\u001b[1;33m.\u001b[0m\u001b[0msave_model\u001b[0m\u001b[1;33m(\u001b[0m\u001b[0mmodel_to_export\u001b[0m\u001b[1;33m,\u001b[0m \u001b[0mpruned_keras_file\u001b[0m\u001b[1;33m,\u001b[0m \u001b[0minclude_optimizer\u001b[0m\u001b[1;33m=\u001b[0m\u001b[1;32mFalse\u001b[0m\u001b[1;33m)\u001b[0m\u001b[1;33m\u001b[0m\u001b[1;33m\u001b[0m\u001b[0m\n\u001b[0m\u001b[0;32m      3\u001b[0m \u001b[0mprint\u001b[0m\u001b[1;33m(\u001b[0m\u001b[1;34m'Saved pruned Keras model to:'\u001b[0m\u001b[1;33m,\u001b[0m \u001b[0mpruned_keras_file\u001b[0m\u001b[1;33m)\u001b[0m\u001b[1;33m\u001b[0m\u001b[1;33m\u001b[0m\u001b[0m\n",
      "\u001b[1;31mNameError\u001b[0m: name 'model_to_export' is not defined"
     ]
    }
   ],
   "source": [
    "# _, pruned_keras_file = tempfile.mkstemp('.h5')\n",
    "# tf.keras.models.save_model(model_to_export, pruned_keras_file, include_optimizer=False)\n",
    "# print('Saved pruned Keras model to:', pruned_keras_file)"
   ]
  },
  {
   "cell_type": "code",
   "execution_count": null,
   "id": "72a671d9-3bda-42ab-ad63-9e22a881e96d",
   "metadata": {},
   "outputs": [],
   "source": [
    "\n",
    "# _, model_for_pruning_accuracy = model.evaluate(test_ds , verbose=0)\n",
    "\n",
    "# # print('Baseline test accuracy:', baseline_model_accuracy) \n",
    "# print('Pruned test accuracy:', model_for_pruning_accuracy)\n",
    "\n",
    "# # print(model_to_export)"
   ]
  },
  {
   "cell_type": "code",
   "execution_count": null,
   "id": "855db6f9-50f3-4b59-bd93-caf8b674155b",
   "metadata": {},
   "outputs": [],
   "source": [
    "# converter = tf.lite.TFLiteConverter.from_keras_model(model_to_export)\n",
    "# pruned_tflite_model = converter.convert()\n",
    "\n",
    "# _, pruned_tflite_file = tempfile.mkstemp('.tflite')\n",
    "\n",
    "# with open(pruned_tflite_file, 'wb') as f:\n",
    "#       f.write(pruned_tflite_model)\n",
    "\n",
    "# print('Saved pruned TFLite model to:', pruned_tflite_file)"
   ]
  },
  {
   "cell_type": "code",
   "execution_count": 47,
   "id": "08c3ab7e-e845-4990-87d0-7a2ce1351ba2",
   "metadata": {},
   "outputs": [
    {
     "name": "stdout",
     "output_type": "stream",
     "text": [
      "(1, 49, 10, 1)\n",
      "**************************************************************************************************** tf.Tensor([0 2 4 7 2 3 0 6 0 6 4 3 1 2 5 3 0 3 6 1 5 1 7 4 1 0 7 1 3 4 0 6], shape=(32,), dtype=int64)\n"
     ]
    }
   ],
   "source": [
    "dataset = test_ds.unbatch().batch(1)\n",
    "i = 0\n",
    "for inp ,labels in dataset :\n",
    "    print(inp.shape)\n",
    "    print(\"*\"*100,label)\n",
    "    i+=1\n",
    "    if i == 1:\n",
    "        break"
   ]
  },
  {
   "cell_type": "code",
   "execution_count": 66,
   "id": "6c492b8c-cad1-456a-90aa-f74063e2d17f",
   "metadata": {},
   "outputs": [],
   "source": [
    "def load_and_evaluation(path, dataset):\n",
    "    interpreter = tf.lite.Interpreter(model_path = path) \n",
    "    interpreter.allocate_tensors()\n",
    "    input_details = interpreter.get_input_details()\n",
    "    output_details = interpreter.get_output_details()\n",
    "\n",
    "    dataset = test_ds.unbatch().batch(1)\n",
    "    COMMANDS = ['stop', 'up', 'yes', 'right', 'left', 'no',  'down', 'go']\n",
    "    outputs = []\n",
    "    labels = []\n",
    "    count = 0\n",
    "    total = 0\n",
    "\n",
    "    for inp , label in dataset:\n",
    "        my_input = np.array(inp, dtype = np.float32)\n",
    "        label = np.array(label, dtype = np.float32)\n",
    "    \n",
    "         \n",
    "        labels.append(label)\n",
    "\n",
    "        interpreter.set_tensor(input_details[0]['index'], my_input)\n",
    "        interpreter.invoke()\n",
    "        my_output = interpreter.get_tensor(output_details[0]['index'])\n",
    "        predict = np.argmax(my_output)\n",
    "        outputs.append(predict)\n",
    "        total += 1   \n",
    "        if (predict == label):\n",
    "            count += 1\n",
    "    # Compute the Accuracy         \n",
    "    accuracy = count/total \n",
    "    print (\"*\"*50,\"\\n\",f\"The accuracy of TF lite model is = {accuracy *100 :0.2f} \" )\n",
    "\n",
    "\n",
    "    return accuracy \n",
    "\n"
   ]
  },
  {
   "cell_type": "code",
   "execution_count": 67,
   "id": "4d2b9251-b71c-4bdf-bb13-38c1ea5f0d03",
   "metadata": {},
   "outputs": [
    {
     "name": "stdout",
     "output_type": "stream",
     "text": [
      "************************************************** \n",
      " The accuracy is = 91.62 \n"
     ]
    },
    {
     "data": {
      "text/plain": [
       "0.91625"
      ]
     },
     "execution_count": 67,
     "metadata": {},
     "output_type": "execute_result"
    }
   ],
   "source": [
    "load_and_evaluation(\"./models/best.tflite\" , test_ds)"
   ]
  },
  {
   "cell_type": "code",
   "execution_count": null,
   "id": "885f72c4-7c54-4342-8133-b278f685eed1",
   "metadata": {},
   "outputs": [],
   "source": []
  }
 ],
 "metadata": {
  "kernelspec": {
   "display_name": "Python 3",
   "language": "python",
   "name": "python3"
  },
  "language_info": {
   "codemirror_mode": {
    "name": "ipython",
    "version": 3
   },
   "file_extension": ".py",
   "mimetype": "text/x-python",
   "name": "python",
   "nbconvert_exporter": "python",
   "pygments_lexer": "ipython3",
   "version": "3.7.11"
  }
 },
 "nbformat": 4,
 "nbformat_minor": 5
}
