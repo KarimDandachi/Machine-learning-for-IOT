{
 "cells": [
  {
   "cell_type": "code",
   "execution_count": 10,
   "metadata": {},
   "outputs": [],
   "source": [
    "import argparse\n",
    "import numpy as np\n",
    "import os\n",
    "import pandas as pd\n",
    "import tensorflow as tf\n",
    "import tensorflow.lite as tflite\n",
    "from tensorflow import keras\n",
    "import zlib\n",
    "\n",
    "import tensorflow_model_optimization as tfmot   \n",
    "\n",
    "# parser = argparse.ArgumentParser()\n",
    "# parser.add_argument('--version', type=str, required=True, help='version')\n",
    "# args = parser.parse_args()\n",
    "\n"
   ]
  },
  {
   "cell_type": "code",
   "execution_count": 11,
   "metadata": {},
   "outputs": [
    {
     "name": "stdout",
     "output_type": "stream",
     "text": [
      "3.7.9\n"
     ]
    }
   ],
   "source": [
    "from platform import python_version\n",
    "\n",
    "print(python_version())"
   ]
  },
  {
   "cell_type": "code",
   "execution_count": 12,
   "metadata": {},
   "outputs": [
    {
     "name": "stdout",
     "output_type": "stream",
     "text": [
      "(2,)\n"
     ]
    }
   ],
   "source": [
    "seed = 42\n",
    "tf.random.set_seed(seed)\n",
    "np.random.seed(seed)\n",
    "\n",
    "zip_path = tf.keras.utils.get_file(\n",
    "    origin='https://storage.googleapis.com/tensorflow/tf-keras-datasets/jena_climate_2009_2016.csv.zip',\n",
    "    fname='jena_climate_2009_2016.csv.zip',\n",
    "    extract=True,\n",
    "    cache_dir='.', cache_subdir='data')\n",
    "csv_path, _ = os.path.splitext(zip_path)\n",
    "df = pd.read_csv(csv_path)\n",
    "\n",
    "column_indices = [2, 5]\n",
    "columns = df.columns[column_indices]\n",
    "data = df[columns].values.astype(np.float32)\n",
    "\n",
    "n = len(data)\n",
    "train_data = data[0:int(n*0.7)]\n",
    "val_data = data[int(n*0.7):int(n*0.9)]\n",
    "test_data = data[int(n*0.9):]\n",
    "\n",
    "mean = train_data.mean(axis=0)\n",
    "std = train_data.std(axis=0)\n",
    "\n",
    "print (mean.shape)"
   ]
  },
  {
   "cell_type": "markdown",
   "metadata": {},
   "source": [
    "# WindowGenerator"
   ]
  },
  {
   "cell_type": "code",
   "execution_count": 45,
   "metadata": {},
   "outputs": [],
   "source": [
    "input_width = 6\n",
    "# version = args.version\n",
    "# if args.version == \"a\" :                \n",
    "#     output_steps = 3\n",
    "# if args.version == \"b\" :\n",
    "#     output_steps = 9\n",
    "\n",
    "output_steps = 1\n",
    "\n",
    "\n",
    "class WindowGenerator:\n",
    "    def __init__(self, input_width, output_steps, mean, std):\n",
    "        self.input_width = input_width\n",
    "        self.output_steps = output_steps\n",
    "        self.mean = tf.reshape(tf.convert_to_tensor(mean), [1, 1, 2])\n",
    "        self.std = tf.reshape(tf.convert_to_tensor(std), [1, 1, 2])\n",
    "\n",
    "\n",
    "    def split_window(self, features):\n",
    "        inputs = features[:, :self.input_width, :]        # for example if total window size = 9 input =  [:,:6 ,:] --> output [:,-3: , ] outpu_tstep = 3 \n",
    "        labels = features[:, -self.output_steps :, :]\n",
    "\n",
    "        inputs.set_shape([None, self.input_width, 2])\n",
    "        labels.set_shape([None, self.output_steps,2])\n",
    "\n",
    "        return inputs, labels\n",
    "\n",
    "    def normalize(self, features):\n",
    "        features = (features - self.mean) / (self.std + 1.e-6)\n",
    "\n",
    "        return features\n",
    "\n",
    "    def preprocess(self, features):\n",
    "        inputs, labels = self.split_window(features)\n",
    "        inputs = self.normalize(inputs)\n",
    "\n",
    "        return inputs, labels\n",
    "\n",
    "    def make_dataset(self, data, train):\n",
    "        ds = tf.keras.preprocessing.timeseries_dataset_from_array(\n",
    "                data=data,\n",
    "                targets=None,\n",
    "                sequence_length = input_width + self.output_steps,                       #### this change because now the total depends on the output widht\n",
    "                sequence_stride = 1,\n",
    "                batch_size = 32)\n",
    "        ds = ds.map(self.preprocess)\n",
    "        ds = ds.cache()\n",
    "        if train is True:\n",
    "            ds = ds.shuffle(100, reshuffle_each_iteration=True)\n",
    "\n",
    "        return ds\n",
    "\n"
   ]
  },
  {
   "cell_type": "code",
   "execution_count": 46,
   "metadata": {},
   "outputs": [],
   "source": [
    "# window = np.arange(18)\n",
    "# window = window.reshape(9,2)\n",
    "# print(len(window))\n",
    "# print(window)\n",
    "# print(window[:6].shape)\n",
    "# print(window[-3:].shape)"
   ]
  },
  {
   "cell_type": "code",
   "execution_count": 47,
   "metadata": {},
   "outputs": [],
   "source": [
    "generator = WindowGenerator(input_width, output_steps, mean, std)\n",
    "train_ds = generator.make_dataset(train_data, True)\n",
    "val_ds = generator.make_dataset(val_data, False)\n",
    "test_ds = generator.make_dataset(test_data, False)"
   ]
  },
  {
   "cell_type": "markdown",
   "metadata": {},
   "source": [
    "# checking the shapes "
   ]
  },
  {
   "cell_type": "code",
   "execution_count": 48,
   "metadata": {},
   "outputs": [
    {
     "name": "stdout",
     "output_type": "stream",
     "text": [
      "data shape before split (420551, 2)\n",
      "train_data (294385, 2)\n",
      "val_data (84110, 2)\n",
      "test_data (42056, 2)\n"
     ]
    }
   ],
   "source": [
    "print(f\"data shape before split {data.shape}\")\n",
    "\n",
    "print(f\"train_data {train_data.shape}\")\n",
    "\n",
    "print(f\"val_data {val_data.shape}\")\n",
    "\n",
    "print(f\"test_data {test_data.shape}\")\n",
    "\n"
   ]
  },
  {
   "cell_type": "code",
   "execution_count": 49,
   "metadata": {},
   "outputs": [],
   "source": [
    "# it = iter(test_ds)"
   ]
  },
  {
   "cell_type": "code",
   "execution_count": 50,
   "metadata": {},
   "outputs": [
    {
     "data": {
      "text/plain": [
       "'\\ninp , label = next(it)\\nprint(inp[0,0,:])\\nprint(label[0,0,:])\\n'"
      ]
     },
     "execution_count": 50,
     "metadata": {},
     "output_type": "execute_result"
    }
   ],
   "source": [
    "\"\"\"\n",
    "inp , label = next(it)\n",
    "print(inp[0,0,:])\n",
    "print(label[0,0,:])\n",
    "\"\"\""
   ]
  },
  {
   "cell_type": "markdown",
   "metadata": {},
   "source": [
    "# MultiOutputMAE"
   ]
  },
  {
   "cell_type": "code",
   "execution_count": 51,
   "metadata": {},
   "outputs": [],
   "source": [
    "# # Exercise 1.7\n",
    "class MultiOutputMAE(tf.keras.metrics.Metric):\n",
    "    def __init__(self, name='mean_absolute_error', **kwargs):\n",
    "        super().__init__(name=name, **kwargs)\n",
    "        self.total = self.add_weight('total', initializer='zeros', shape=(2,))\n",
    "        self.count = self.add_weight('count', initializer='zeros')\n",
    "\n",
    "    def update_state(self, y_true, y_pred, sample_weight=None):\n",
    "        error = tf.abs(y_pred- y_true)     \n",
    "        error = tf.reduce_mean(error, axis=[0,1])  # compute the mean for all samples in the batch for each feature (temp , hum) ==> output shape = (2,)\n",
    "        self.total.assign_add(error)\n",
    "        self.count.assign_add(1.)\n",
    "\n",
    "        return\n",
    "\n",
    "    def reset_states(self):\n",
    "        self.count.assign(tf.zeros_like(self.count))\n",
    "        self.total.assign(tf.zeros_like(self.total))\n",
    "\n",
    "    def result(self):\n",
    "        result = tf.math.divide_no_nan(self.total, self.count)\n",
    "\n",
    "        return result"
   ]
  },
  {
   "cell_type": "markdown",
   "metadata": {},
   "source": [
    "# building the models"
   ]
  },
  {
   "cell_type": "code",
   "execution_count": 52,
   "metadata": {},
   "outputs": [
    {
     "name": "stdout",
     "output_type": "stream",
     "text": [
      "mlp_V( b_alpha=0.03 )\n"
     ]
    }
   ],
   "source": [
    "alpha = 0.03\n",
    "# alpha = 1\n",
    "sparsity = 0.9\n",
    "Structured = True\n",
    "if Structured == True :\n",
    "    model_version = f\"_V( {version}_alpha={alpha} )\"\n",
    "else :\n",
    "    model_version = f\"_V( {version}_Sparcity ={sparsity} )\"\n",
    "mymodel = 'mlp'+ model_version\n",
    "chk_path = f'./callback_{mymodel}_chkp/{mymodel}_chkp_best'     # path for saving the best model \n",
    "TFLITE = mymodel + \".tflite\"                                    # path for saving the best model after converted to TF.lite model \n",
    "\n",
    "print(mymodel)"
   ]
  },
  {
   "cell_type": "code",
   "execution_count": 53,
   "metadata": {},
   "outputs": [],
   "source": [
    "#################################### Build models with Structured Pruning via width Multiplier #####################################################\n",
    "def bulid_models_Structured (alpha = alpha , version = version , input_width = input_width ,output_steps = output_steps ,model_version = model_version  ) :\n",
    "    mlp = tf.keras.Sequential([\n",
    "            tf.keras.layers.Flatten(input_shape = (input_width,2) , name='Flatten'),\n",
    "            tf.keras.layers.Dense(int(128 *alpha), activation='relu' , name='Dense1'),\n",
    "            tf.keras.layers.Dense(int(128 *alpha), activation='relu' , name='Dense2'),\n",
    "            tf.keras.layers.Dense(units = 2*output_steps , name='Output_layes'), \n",
    "            tf.keras.layers.Reshape([output_steps, 2])\n",
    "        ])\n",
    "\n",
    "    ############################################################################\n",
    "    cnn = tf.keras.Sequential([\n",
    "            tf.keras.layers.Conv1D(input_shape = (input_width,2) , filters=int(64 *alpha), kernel_size=3, activation='relu'),\n",
    "            tf.keras.layers.Flatten(),\n",
    "            tf.keras.layers.Dense(units=int(64 *alpha), activation='relu'),\n",
    "            tf.keras.layers.Dense(units=2*output_steps), \n",
    "            tf.keras.layers.Reshape([output_steps, 2])\n",
    "        ])\n",
    "\n",
    "  \n",
    "\n",
    "    MODELS = {'mlp'+ model_version: mlp, 'cnn'+ model_version: cnn }\n",
    "    return MODELS \n",
    "\n",
    "####################################       Build models with UnStructured Pruning         #####################################################\n",
    "\n",
    "def bulid_models_UnStructured ( version = version , input_width = input_width ,output_steps = output_steps ,model_version = model_version  ) :\n",
    "    mlp = tf.keras.Sequential([\n",
    "            tf.keras.layers.Flatten(input_shape = (input_width,2) , name='Flatten'),\n",
    "            tf.keras.layers.Dense(128, activation='relu' , name='Dense1'),\n",
    "            tf.keras.layers.Dense(128, activation='relu' , name='Dense2'),\n",
    "            tf.keras.layers.Dense(units = 2*output_steps , name='Output_layes'), \n",
    "            tf.keras.layers.Reshape([output_steps, 2])\n",
    "        ])\n",
    "\n",
    "    ############################################################################\n",
    "    cnn = tf.keras.Sequential([\n",
    "            tf.keras.layers.Conv1D(input_shape = (input_width,2) , filters=64, kernel_size=3, activation='relu' , name= \"Conv1D-1\"),\n",
    "            tf.keras.layers.Flatten(name='Flatten'),\n",
    "            tf.keras.layers.Dense(units=64, activation='relu', name='Dense-1'),\n",
    "            tf.keras.layers.Dense(units=2*output_steps), \n",
    "            tf.keras.layers.Reshape([output_steps, 2])\n",
    "        ])\n",
    "\n",
    " \n",
    "\n",
    "    MODELS = {'mlp'+ model_version: mlp, 'cnn'+ model_version: cnn }\n",
    "    return MODELS \n",
    "\n",
    "if Structured == True :\n",
    "    MODELS = bulid_models_Structured()\n",
    "else :\n",
    "    MODELS = bulid_models_UnStructured()"
   ]
  },
  {
   "cell_type": "code",
   "execution_count": 54,
   "metadata": {},
   "outputs": [],
   "source": [
    "# ! pip install pydot\n",
    "# ! pip install pydotplus\n",
    "# ! pip install graphviz\n",
    "# print(model.summary())"
   ]
  },
  {
   "cell_type": "code",
   "execution_count": 55,
   "metadata": {},
   "outputs": [
    {
     "name": "stdout",
     "output_type": "stream",
     "text": [
      "dict_keys(['mlp_V( b_alpha=0.03 )', 'cnn_V( b_alpha=0.03 )'])\n"
     ]
    }
   ],
   "source": [
    "print(MODELS.keys())"
   ]
  },
  {
   "cell_type": "markdown",
   "metadata": {},
   "source": [
    "# Define losses & Optimizer & metrics"
   ]
  },
  {
   "cell_type": "code",
   "execution_count": 56,
   "metadata": {},
   "outputs": [],
   "source": [
    "def get_model(model = mymodel ):\n",
    "    model = MODELS[model]\n",
    "    loss =   tf.keras.losses.MeanSquaredError()                       #tf.keras.losses.MeanSquaredError()\n",
    "    optimizer = tf.keras.optimizers.Adam()\n",
    "    metrics = [MultiOutputMAE()]\n",
    "\n",
    "    # Training and optimizing\n",
    "\n",
    "    model.compile(loss = loss, optimizer = optimizer, metrics = metrics)\n",
    "    \n",
    "    return model\n"
   ]
  },
  {
   "cell_type": "markdown",
   "metadata": {},
   "source": [
    "# define call backs "
   ]
  },
  {
   "cell_type": "code",
   "execution_count": 57,
   "metadata": {},
   "outputs": [],
   "source": [
    "# Create TEMP_HUM_VAL  callback to print the MAE for Temperature and humidity in more interpetable format \n",
    "class TEMP_HUM_VAL(tf.keras.callbacks.Callback):\n",
    "    def on_epoch_end(self, epoch, logs):\n",
    "        hum = logs[\"val_mean_absolute_error\"][1]\n",
    "        temp = logs[\"val_mean_absolute_error\"][0]\n",
    "        MAE = logs[\"val_mean_absolute_error\"]\n",
    "        print(f\"\\n Temp MAE = {temp:.3f}, Hum MAE = {hum:.3f}    \")\n",
    "        # return temp , hum\n",
    "\n",
    "\n",
    "mycallback = TEMP_HUM_VAL()"
   ]
  },
  {
   "cell_type": "code",
   "execution_count": 58,
   "metadata": {},
   "outputs": [],
   "source": [
    "# Create checkpoint callback to save the best model \n",
    "cp_callback = keras.callbacks.ModelCheckpoint(\n",
    "    f'./callback_{mymodel}_chkp/{mymodel}_chkp_best',\n",
    "    # './callback_test_chkp/chkp_best',\n",
    "    monitor='val_loss',\n",
    "    verbose=0, \n",
    "    save_best_only=True,\n",
    "    save_weights_only=False,\n",
    "    mode='auto',\n",
    "    save_freq='epoch')"
   ]
  },
  {
   "cell_type": "code",
   "execution_count": 59,
   "metadata": {},
   "outputs": [
    {
     "name": "stdout",
     "output_type": "stream",
     "text": [
      "Epoch 1/20\n",
      "9194/9200 [============================>.] - ETA: 0s - loss: 405.8737 - mean_absolute_error: 11.1127"
     ]
    },
    {
     "name": "stderr",
     "output_type": "stream",
     "text": [
      "/home/students/s289265/.local/lib/python3.7/site-packages/keras/engine/training.py:1841: UserWarning: Metric MultiOutputMAE implements a `reset_states()` method; rename it to `reset_state()` (without the final \"s\"). The name `reset_states()` has been deprecated to improve API consistency.\n",
      "  m.reset_state()\n",
      "WARNING:absl:Function `_wrapped_model` contains input name(s) Flatten_input with unsupported characters which will be renamed to flatten_input in the SavedModel.\n"
     ]
    },
    {
     "name": "stdout",
     "output_type": "stream",
     "text": [
      "\n",
      " Temp MAE = 7.396, Hum MAE = 3.788    \n",
      "INFO:tensorflow:Assets written to: ./callback_mlp_V( b_alpha=0.03 )_chkp/mlp_V( b_alpha=0.03 )_chkp_best/assets\n"
     ]
    },
    {
     "name": "stderr",
     "output_type": "stream",
     "text": [
      "INFO:tensorflow:Assets written to: ./callback_mlp_V( b_alpha=0.03 )_chkp/mlp_V( b_alpha=0.03 )_chkp_best/assets\n"
     ]
    },
    {
     "name": "stdout",
     "output_type": "stream",
     "text": [
      "9200/9200 [==============================] - 14s 1ms/step - loss: 405.6388 - mean_absolute_error: 11.1090 - val_loss: 50.5982 - val_mean_absolute_error: 5.5921\n",
      "Epoch 2/20\n",
      "  92/9200 [..............................] - ETA: 10s - loss: 105.4195 - mean_absolute_error: 8.1149 "
     ]
    },
    {
     "name": "stderr",
     "output_type": "stream",
     "text": [
      "/home/students/s289265/.local/lib/python3.7/site-packages/keras/engine/training.py:1841: UserWarning: Metric MultiOutputMAE implements a `reset_states()` method; rename it to `reset_state()` (without the final \"s\"). The name `reset_states()` has been deprecated to improve API consistency.\n",
      "  m.reset_state()\n"
     ]
    },
    {
     "name": "stdout",
     "output_type": "stream",
     "text": [
      "9185/9200 [============================>.] - ETA: 0s - loss: 14.0779 - mean_absolute_error: 2.3786"
     ]
    },
    {
     "name": "stderr",
     "output_type": "stream",
     "text": [
      "WARNING:absl:Function `_wrapped_model` contains input name(s) Flatten_input with unsupported characters which will be renamed to flatten_input in the SavedModel.\n"
     ]
    },
    {
     "name": "stdout",
     "output_type": "stream",
     "text": [
      "\n",
      " Temp MAE = 1.017, Hum MAE = 2.745    \n",
      "INFO:tensorflow:Assets written to: ./callback_mlp_V( b_alpha=0.03 )_chkp/mlp_V( b_alpha=0.03 )_chkp_best/assets\n"
     ]
    },
    {
     "name": "stderr",
     "output_type": "stream",
     "text": [
      "INFO:tensorflow:Assets written to: ./callback_mlp_V( b_alpha=0.03 )_chkp/mlp_V( b_alpha=0.03 )_chkp_best/assets\n"
     ]
    },
    {
     "name": "stdout",
     "output_type": "stream",
     "text": [
      "9200/9200 [==============================] - 12s 1ms/step - loss: 14.0746 - mean_absolute_error: 2.3778 - val_loss: 9.2073 - val_mean_absolute_error: 1.8807\n",
      "Epoch 3/20\n",
      "  93/9200 [..............................] - ETA: 9s - loss: 6.6028 - mean_absolute_error: 1.6144 "
     ]
    },
    {
     "name": "stderr",
     "output_type": "stream",
     "text": [
      "/home/students/s289265/.local/lib/python3.7/site-packages/keras/engine/training.py:1841: UserWarning: Metric MultiOutputMAE implements a `reset_states()` method; rename it to `reset_state()` (without the final \"s\"). The name `reset_states()` has been deprecated to improve API consistency.\n",
      "  m.reset_state()\n"
     ]
    },
    {
     "name": "stdout",
     "output_type": "stream",
     "text": [
      "9183/9200 [============================>.] - ETA: 0s - loss: 8.3187 - mean_absolute_error: 1.6516"
     ]
    },
    {
     "name": "stderr",
     "output_type": "stream",
     "text": [
      "WARNING:absl:Function `_wrapped_model` contains input name(s) Flatten_input with unsupported characters which will be renamed to flatten_input in the SavedModel.\n"
     ]
    },
    {
     "name": "stdout",
     "output_type": "stream",
     "text": [
      "\n",
      " Temp MAE = 0.974, Hum MAE = 2.458    \n",
      "INFO:tensorflow:Assets written to: ./callback_mlp_V( b_alpha=0.03 )_chkp/mlp_V( b_alpha=0.03 )_chkp_best/assets\n"
     ]
    },
    {
     "name": "stderr",
     "output_type": "stream",
     "text": [
      "INFO:tensorflow:Assets written to: ./callback_mlp_V( b_alpha=0.03 )_chkp/mlp_V( b_alpha=0.03 )_chkp_best/assets\n"
     ]
    },
    {
     "name": "stdout",
     "output_type": "stream",
     "text": [
      "9200/9200 [==============================] - 12s 1ms/step - loss: 8.3195 - mean_absolute_error: 1.6521 - val_loss: 8.1729 - val_mean_absolute_error: 1.7160\n",
      "Epoch 4/20\n",
      "  84/9200 [..............................] - ETA: 11s - loss: 4.9039 - mean_absolute_error: 1.2421"
     ]
    },
    {
     "name": "stderr",
     "output_type": "stream",
     "text": [
      "/home/students/s289265/.local/lib/python3.7/site-packages/keras/engine/training.py:1841: UserWarning: Metric MultiOutputMAE implements a `reset_states()` method; rename it to `reset_state()` (without the final \"s\"). The name `reset_states()` has been deprecated to improve API consistency.\n",
      "  m.reset_state()\n"
     ]
    },
    {
     "name": "stdout",
     "output_type": "stream",
     "text": [
      "9199/9200 [============================>.] - ETA: 0s - loss: 7.8577 - mean_absolute_error: 1.5927"
     ]
    },
    {
     "name": "stderr",
     "output_type": "stream",
     "text": [
      "WARNING:absl:Function `_wrapped_model` contains input name(s) Flatten_input with unsupported characters which will be renamed to flatten_input in the SavedModel.\n"
     ]
    },
    {
     "name": "stdout",
     "output_type": "stream",
     "text": [
      "\n",
      " Temp MAE = 0.712, Hum MAE = 2.481    \n",
      "INFO:tensorflow:Assets written to: ./callback_mlp_V( b_alpha=0.03 )_chkp/mlp_V( b_alpha=0.03 )_chkp_best/assets\n"
     ]
    },
    {
     "name": "stderr",
     "output_type": "stream",
     "text": [
      "INFO:tensorflow:Assets written to: ./callback_mlp_V( b_alpha=0.03 )_chkp/mlp_V( b_alpha=0.03 )_chkp_best/assets\n"
     ]
    },
    {
     "name": "stdout",
     "output_type": "stream",
     "text": [
      "9200/9200 [==============================] - 13s 1ms/step - loss: 7.8577 - mean_absolute_error: 1.5928 - val_loss: 7.6889 - val_mean_absolute_error: 1.5964\n",
      "Epoch 5/20\n",
      "  85/9200 [..............................] - ETA: 11s - loss: 4.4825 - mean_absolute_error: 1.2836"
     ]
    },
    {
     "name": "stderr",
     "output_type": "stream",
     "text": [
      "/home/students/s289265/.local/lib/python3.7/site-packages/keras/engine/training.py:1841: UserWarning: Metric MultiOutputMAE implements a `reset_states()` method; rename it to `reset_state()` (without the final \"s\"). The name `reset_states()` has been deprecated to improve API consistency.\n",
      "  m.reset_state()\n"
     ]
    },
    {
     "name": "stdout",
     "output_type": "stream",
     "text": [
      "9192/9200 [============================>.] - ETA: 0s - loss: 7.6449 - mean_absolute_error: 1.5636"
     ]
    },
    {
     "name": "stderr",
     "output_type": "stream",
     "text": [
      "WARNING:absl:Function `_wrapped_model` contains input name(s) Flatten_input with unsupported characters which will be renamed to flatten_input in the SavedModel.\n"
     ]
    },
    {
     "name": "stdout",
     "output_type": "stream",
     "text": [
      "\n",
      " Temp MAE = 0.727, Hum MAE = 2.417    \n",
      "INFO:tensorflow:Assets written to: ./callback_mlp_V( b_alpha=0.03 )_chkp/mlp_V( b_alpha=0.03 )_chkp_best/assets\n"
     ]
    },
    {
     "name": "stderr",
     "output_type": "stream",
     "text": [
      "INFO:tensorflow:Assets written to: ./callback_mlp_V( b_alpha=0.03 )_chkp/mlp_V( b_alpha=0.03 )_chkp_best/assets\n"
     ]
    },
    {
     "name": "stdout",
     "output_type": "stream",
     "text": [
      "9200/9200 [==============================] - 12s 1ms/step - loss: 7.6473 - mean_absolute_error: 1.5640 - val_loss: 7.4485 - val_mean_absolute_error: 1.5715\n",
      "Epoch 6/20\n",
      "  94/9200 [..............................] - ETA: 9s - loss: 5.1471 - mean_absolute_error: 1.2545 "
     ]
    },
    {
     "name": "stderr",
     "output_type": "stream",
     "text": [
      "/home/students/s289265/.local/lib/python3.7/site-packages/keras/engine/training.py:1841: UserWarning: Metric MultiOutputMAE implements a `reset_states()` method; rename it to `reset_state()` (without the final \"s\"). The name `reset_states()` has been deprecated to improve API consistency.\n",
      "  m.reset_state()\n"
     ]
    },
    {
     "name": "stdout",
     "output_type": "stream",
     "text": [
      "9162/9200 [============================>.] - ETA: 0s - loss: 7.5198 - mean_absolute_error: 1.5420"
     ]
    },
    {
     "name": "stderr",
     "output_type": "stream",
     "text": [
      "WARNING:absl:Function `_wrapped_model` contains input name(s) Flatten_input with unsupported characters which will be renamed to flatten_input in the SavedModel.\n"
     ]
    },
    {
     "name": "stdout",
     "output_type": "stream",
     "text": [
      "\n",
      " Temp MAE = 0.644, Hum MAE = 2.350    \n",
      "INFO:tensorflow:Assets written to: ./callback_mlp_V( b_alpha=0.03 )_chkp/mlp_V( b_alpha=0.03 )_chkp_best/assets\n"
     ]
    },
    {
     "name": "stderr",
     "output_type": "stream",
     "text": [
      "INFO:tensorflow:Assets written to: ./callback_mlp_V( b_alpha=0.03 )_chkp/mlp_V( b_alpha=0.03 )_chkp_best/assets\n"
     ]
    },
    {
     "name": "stdout",
     "output_type": "stream",
     "text": [
      "9200/9200 [==============================] - 13s 1ms/step - loss: 7.5375 - mean_absolute_error: 1.5438 - val_loss: 7.2554 - val_mean_absolute_error: 1.4971\n",
      "Epoch 7/20\n",
      "  90/9200 [..............................] - ETA: 10s - loss: 4.4845 - mean_absolute_error: 1.2082"
     ]
    },
    {
     "name": "stderr",
     "output_type": "stream",
     "text": [
      "/home/students/s289265/.local/lib/python3.7/site-packages/keras/engine/training.py:1841: UserWarning: Metric MultiOutputMAE implements a `reset_states()` method; rename it to `reset_state()` (without the final \"s\"). The name `reset_states()` has been deprecated to improve API consistency.\n",
      "  m.reset_state()\n"
     ]
    },
    {
     "name": "stdout",
     "output_type": "stream",
     "text": [
      "9168/9200 [============================>.] - ETA: 0s - loss: 7.4374 - mean_absolute_error: 1.5265\n",
      " Temp MAE = 0.694, Hum MAE = 2.552    \n",
      "9200/9200 [==============================] - 12s 1ms/step - loss: 7.4469 - mean_absolute_error: 1.5276 - val_loss: 7.5712 - val_mean_absolute_error: 1.6234\n",
      "Epoch 8/20\n",
      "9183/9200 [============================>.] - ETA: 0s - loss: 7.3865 - mean_absolute_error: 1.5149\n",
      " Temp MAE = 0.636, Hum MAE = 2.440    \n",
      "9200/9200 [==============================] - 12s 1ms/step - loss: 7.3932 - mean_absolute_error: 1.5156 - val_loss: 7.2854 - val_mean_absolute_error: 1.5380\n",
      "Epoch 9/20\n",
      "9200/9200 [==============================] - ETA: 0s - loss: 7.3660 - mean_absolute_error: 1.5099"
     ]
    },
    {
     "name": "stderr",
     "output_type": "stream",
     "text": [
      "WARNING:absl:Function `_wrapped_model` contains input name(s) Flatten_input with unsupported characters which will be renamed to flatten_input in the SavedModel.\n"
     ]
    },
    {
     "name": "stdout",
     "output_type": "stream",
     "text": [
      "\n",
      " Temp MAE = 0.616, Hum MAE = 2.352    \n",
      "INFO:tensorflow:Assets written to: ./callback_mlp_V( b_alpha=0.03 )_chkp/mlp_V( b_alpha=0.03 )_chkp_best/assets\n"
     ]
    },
    {
     "name": "stderr",
     "output_type": "stream",
     "text": [
      "INFO:tensorflow:Assets written to: ./callback_mlp_V( b_alpha=0.03 )_chkp/mlp_V( b_alpha=0.03 )_chkp_best/assets\n"
     ]
    },
    {
     "name": "stdout",
     "output_type": "stream",
     "text": [
      "9200/9200 [==============================] - 12s 1ms/step - loss: 7.3660 - mean_absolute_error: 1.5099 - val_loss: 7.1715 - val_mean_absolute_error: 1.4843\n",
      "Epoch 10/20\n",
      "   1/9200 [..............................] - ETA: 1:50 - loss: 11.5580 - mean_absolute_error: 2.3319"
     ]
    },
    {
     "name": "stderr",
     "output_type": "stream",
     "text": [
      "/home/students/s289265/.local/lib/python3.7/site-packages/keras/engine/training.py:1841: UserWarning: Metric MultiOutputMAE implements a `reset_states()` method; rename it to `reset_state()` (without the final \"s\"). The name `reset_states()` has been deprecated to improve API consistency.\n",
      "  m.reset_state()\n"
     ]
    },
    {
     "name": "stdout",
     "output_type": "stream",
     "text": [
      "9178/9200 [============================>.] - ETA: 0s - loss: 7.3239 - mean_absolute_error: 1.5016\n",
      " Temp MAE = 0.635, Hum MAE = 2.477    \n",
      "9200/9200 [==============================] - 12s 1ms/step - loss: 7.3323 - mean_absolute_error: 1.5026 - val_loss: 7.3675 - val_mean_absolute_error: 1.5560\n",
      "Epoch 11/20\n",
      "9200/9200 [==============================] - ETA: 0s - loss: 7.3207 - mean_absolute_error: 1.4977"
     ]
    },
    {
     "name": "stderr",
     "output_type": "stream",
     "text": [
      "WARNING:absl:Function `_wrapped_model` contains input name(s) Flatten_input with unsupported characters which will be renamed to flatten_input in the SavedModel.\n"
     ]
    },
    {
     "name": "stdout",
     "output_type": "stream",
     "text": [
      "\n",
      " Temp MAE = 0.591, Hum MAE = 2.332    \n",
      "INFO:tensorflow:Assets written to: ./callback_mlp_V( b_alpha=0.03 )_chkp/mlp_V( b_alpha=0.03 )_chkp_best/assets\n"
     ]
    },
    {
     "name": "stderr",
     "output_type": "stream",
     "text": [
      "INFO:tensorflow:Assets written to: ./callback_mlp_V( b_alpha=0.03 )_chkp/mlp_V( b_alpha=0.03 )_chkp_best/assets\n"
     ]
    },
    {
     "name": "stdout",
     "output_type": "stream",
     "text": [
      "9200/9200 [==============================] - 12s 1ms/step - loss: 7.3207 - mean_absolute_error: 1.4977 - val_loss: 7.0951 - val_mean_absolute_error: 1.4616\n",
      "Epoch 12/20\n",
      "  44/9200 [..............................] - ETA: 10s - loss: 5.0770 - mean_absolute_error: 1.2909 "
     ]
    },
    {
     "name": "stderr",
     "output_type": "stream",
     "text": [
      "/home/students/s289265/.local/lib/python3.7/site-packages/keras/engine/training.py:1841: UserWarning: Metric MultiOutputMAE implements a `reset_states()` method; rename it to `reset_state()` (without the final \"s\"). The name `reset_states()` has been deprecated to improve API consistency.\n",
      "  m.reset_state()\n"
     ]
    },
    {
     "name": "stdout",
     "output_type": "stream",
     "text": [
      "9199/9200 [============================>.] - ETA: 0s - loss: 7.3093 - mean_absolute_error: 1.4975"
     ]
    },
    {
     "name": "stderr",
     "output_type": "stream",
     "text": [
      "WARNING:absl:Function `_wrapped_model` contains input name(s) Flatten_input with unsupported characters which will be renamed to flatten_input in the SavedModel.\n"
     ]
    },
    {
     "name": "stdout",
     "output_type": "stream",
     "text": [
      "\n",
      " Temp MAE = 0.547, Hum MAE = 2.303    \n",
      "INFO:tensorflow:Assets written to: ./callback_mlp_V( b_alpha=0.03 )_chkp/mlp_V( b_alpha=0.03 )_chkp_best/assets\n"
     ]
    },
    {
     "name": "stderr",
     "output_type": "stream",
     "text": [
      "INFO:tensorflow:Assets written to: ./callback_mlp_V( b_alpha=0.03 )_chkp/mlp_V( b_alpha=0.03 )_chkp_best/assets\n"
     ]
    },
    {
     "name": "stdout",
     "output_type": "stream",
     "text": [
      "9200/9200 [==============================] - 12s 1ms/step - loss: 7.3093 - mean_absolute_error: 1.4976 - val_loss: 6.9979 - val_mean_absolute_error: 1.4250\n",
      "Epoch 13/20\n",
      "  89/9200 [..............................] - ETA: 10s - loss: 3.5382 - mean_absolute_error: 1.0840"
     ]
    },
    {
     "name": "stderr",
     "output_type": "stream",
     "text": [
      "/home/students/s289265/.local/lib/python3.7/site-packages/keras/engine/training.py:1841: UserWarning: Metric MultiOutputMAE implements a `reset_states()` method; rename it to `reset_state()` (without the final \"s\"). The name `reset_states()` has been deprecated to improve API consistency.\n",
      "  m.reset_state()\n"
     ]
    },
    {
     "name": "stdout",
     "output_type": "stream",
     "text": [
      "9173/9200 [============================>.] - ETA: 0s - loss: 7.2922 - mean_absolute_error: 1.4912\n",
      " Temp MAE = 0.614, Hum MAE = 2.369    \n",
      "9200/9200 [==============================] - 12s 1ms/step - loss: 7.2947 - mean_absolute_error: 1.4920 - val_loss: 7.3187 - val_mean_absolute_error: 1.4916\n",
      "Epoch 14/20\n",
      "9160/9200 [============================>.] - ETA: 0s - loss: 7.2754 - mean_absolute_error: 1.4898\n",
      " Temp MAE = 0.679, Hum MAE = 2.603    \n",
      "9200/9200 [==============================] - 12s 1ms/step - loss: 7.2901 - mean_absolute_error: 1.4913 - val_loss: 7.5536 - val_mean_absolute_error: 1.6408\n",
      "Epoch 15/20\n",
      "9195/9200 [============================>.] - ETA: 0s - loss: 7.2815 - mean_absolute_error: 1.4893\n",
      " Temp MAE = 0.688, Hum MAE = 2.505    \n",
      "9200/9200 [==============================] - 12s 1ms/step - loss: 7.2827 - mean_absolute_error: 1.4893 - val_loss: 7.4622 - val_mean_absolute_error: 1.5963\n",
      "Epoch 16/20\n",
      "9167/9200 [============================>.] - ETA: 0s - loss: 7.2693 - mean_absolute_error: 1.4883\n",
      " Temp MAE = 0.586, Hum MAE = 2.360    \n",
      "9200/9200 [==============================] - 12s 1ms/step - loss: 7.2729 - mean_absolute_error: 1.4889 - val_loss: 7.2553 - val_mean_absolute_error: 1.4726\n",
      "Epoch 17/20\n",
      "9155/9200 [============================>.] - ETA: 0s - loss: 7.2456 - mean_absolute_error: 1.4839\n",
      " Temp MAE = 0.579, Hum MAE = 2.513    \n",
      "9200/9200 [==============================] - 12s 1ms/step - loss: 7.2601 - mean_absolute_error: 1.4856 - val_loss: 7.2936 - val_mean_absolute_error: 1.5461\n",
      "Epoch 18/20\n",
      "9173/9200 [============================>.] - ETA: 0s - loss: 7.2436 - mean_absolute_error: 1.4849\n",
      " Temp MAE = 0.622, Hum MAE = 2.528    \n",
      "9200/9200 [==============================] - 12s 1ms/step - loss: 7.2592 - mean_absolute_error: 1.4862 - val_loss: 7.3011 - val_mean_absolute_error: 1.5750\n",
      "Epoch 19/20\n",
      "9162/9200 [============================>.] - ETA: 0s - loss: 7.2475 - mean_absolute_error: 1.4844\n",
      " Temp MAE = 0.571, Hum MAE = 2.333    \n",
      "9200/9200 [==============================] - 11s 1ms/step - loss: 7.2518 - mean_absolute_error: 1.4853 - val_loss: 7.0515 - val_mean_absolute_error: 1.4519\n",
      "Epoch 20/20\n",
      "9179/9200 [============================>.] - ETA: 0s - loss: 7.2577 - mean_absolute_error: 1.4842\n",
      " Temp MAE = 0.623, Hum MAE = 2.538    \n",
      "9200/9200 [==============================] - 11s 1ms/step - loss: 7.2655 - mean_absolute_error: 1.4853 - val_loss: 7.3888 - val_mean_absolute_error: 1.5803\n"
     ]
    }
   ],
   "source": [
    "if Structured == True :\n",
    "    model = get_model(mymodel)\n",
    "    history = model.fit(train_ds, epochs=20,   validation_data=val_ds,callbacks=[mycallback ,cp_callback ])\n",
    "if Structured == False :\n",
    "# Create  Unstructiured Pruning Callback  to to apply pruning during Training and fitting the model\n",
    "    model = MODELS[mymodel]\n",
    "    # Define the sparsity scheduler\n",
    "    pruning_params = {'pruning_schedule':\n",
    "    tfmot.sparsity.keras.PolynomialDecay(\n",
    "    initial_sparsity=0.30,\n",
    "    final_sparsity=sparsity,\n",
    "    begin_step=len(train_ds)*5,\n",
    "    end_step=len(train_ds)*15)\n",
    "    }\n",
    "\n",
    "    prune_low_magnitude = tfmot.sparsity.keras.prune_low_magnitude\n",
    "\n",
    "    model = prune_low_magnitude(model, **pruning_params)\n",
    "    # Define the pruning callback\n",
    "    PruningCallback = [tfmot.sparsity.keras.UpdatePruningStep()]"
   ]
  },
  {
   "cell_type": "markdown",
   "metadata": {
    "tags": []
   },
   "source": [
    "# Model Trianing"
   ]
  },
  {
   "cell_type": "code",
   "execution_count": 60,
   "metadata": {},
   "outputs": [
    {
     "name": "stdout",
     "output_type": "stream",
     "text": [
      "Model: \"sequential_2\"\n",
      "_________________________________________________________________\n",
      " Layer (type)                Output Shape              Param #   \n",
      "=================================================================\n",
      " Flatten (Flatten)           (None, 12)                0         \n",
      "                                                                 \n",
      " Dense1 (Dense)              (None, 3)                 39        \n",
      "                                                                 \n",
      " Dense2 (Dense)              (None, 3)                 12        \n",
      "                                                                 \n",
      " Output_layes (Dense)        (None, 18)                72        \n",
      "                                                                 \n",
      " reshape_2 (Reshape)         (None, 9, 2)              0         \n",
      "                                                                 \n",
      "=================================================================\n",
      "Total params: 123\n",
      "Trainable params: 123\n",
      "Non-trainable params: 0\n",
      "_________________________________________________________________\n",
      "None\n"
     ]
    }
   ],
   "source": [
    "if Structured == False :\n",
    "    loss =   tf.keras.losses.MeanSquaredError()                       \n",
    "    optimizer = tf.keras.optimizers.Adam()\n",
    "    metrics = [MultiOutputMAE()]\n",
    "    input_shape = [32, 6, 2]\n",
    "    model.build(input_shape)\n",
    "    model.compile(loss = loss, optimizer = optimizer, metrics = metrics)\n",
    "    history = model.fit(train_ds, epochs=50,   validation_data=val_ds,callbacks=[ PruningCallback])\n",
    "\n",
    "    model_to_export = tfmot.sparsity.keras.strip_pruning(model)\n",
    "\n",
    "    \n",
    "############################## Print Model Summary ####################\n",
    "print(model.summary())"
   ]
  },
  {
   "cell_type": "markdown",
   "metadata": {},
   "source": [
    "# print the training results "
   ]
  },
  {
   "cell_type": "code",
   "execution_count": 61,
   "metadata": {},
   "outputs": [
    {
     "data": {
      "image/png": "[encoded data removed]",
      "text/plain": [
       "<Figure size 432x288 with 1 Axes>"
      ]
     },
     "metadata": {
      "needs_background": "light"
     },
     "output_type": "display_data"
    }
   ],
   "source": [
    "\n",
    "import matplotlib.pyplot as plt\n",
    "def plot_loss(history):\n",
    "    plt.plot(history.history['loss'], label='loss')\n",
    "    plt.plot(history.history['val_loss'], label='val_loss')\n",
    "    plt.xlabel('Epoch')\n",
    "    plt.ylabel('MSE')\n",
    "    plt.legend()\n",
    "    plt.grid(True)\n",
    "    plt.savefig(mymodel+\".png\")\n",
    "\n",
    "plot_loss(history)"
   ]
  },
  {
   "cell_type": "markdown",
   "metadata": {},
   "source": [
    "# Evaluation Model "
   ]
  },
  {
   "cell_type": "code",
   "execution_count": 62,
   "metadata": {},
   "outputs": [],
   "source": [
    "def Pruned_Model_evaluate_and_compress_to_TFlite(model = model , model_to_export=None,tflite_model_dir =  TFLITE , model_name = mymodel  ):\n",
    "    \n",
    "    if not os.path.exists('./Pruned_models'):\n",
    "        os.makedirs('./Pruned_models')\n",
    "    # Model Evaluation\n",
    "    loss, error = model.evaluate(test_ds)\n",
    "    print(f'Temp mae = {error[0]:.3f}: , HUM mae = {error[1]:.3f} ')  \n",
    "    # Convert to TF lite without Quantization \n",
    "    converter = tf.lite.TFLiteConverter.from_keras_model(model)\n",
    "    tflite_model = converter.convert()  \n",
    "    # Write the model in binary formate and save it \n",
    "    with open(tflite_model_dir, 'wb') as fp:\n",
    "        fp.write(tflite_model)\n",
    "    Compressed =  f\"compressed_{TFLITE}\"\n",
    "    with open(Compressed, 'wb') as fp:\n",
    "        tflite_compressed = zlib.compress(tflite_model)\n",
    "        fp.write(tflite_compressed)\n",
    "    print(f\"the model is saved successfuly to {tflite_model_dir}\")\n",
    "    return Compressed , tflite_model_dir "
   ]
  },
  {
   "cell_type": "code",
   "execution_count": 63,
   "metadata": {},
   "outputs": [],
   "source": [
    "def apply_Quantization(tflite_model_dir =  TFLITE ,  PQT = False , WAPQT = False , Structured = Structured , saving_path = None ): \n",
    "    if Structured == False :\n",
    "        converter = tf.lite.TFLiteConverter.from_keras_model(model)\n",
    "    if Structured == True :\n",
    "        converter = tf.lite.TFLiteConverter.from_saved_model(saving_path)\n",
    "    # Apply weight only quantization \n",
    "    if PQT == True :\n",
    "        tflite_model_dir = f\"PQT_{tflite_model_dir}\"\n",
    "        converter.optimizations = [tf.lite.Optimize.OPTIMIZE_FOR_SIZE]\n",
    "        tflite_model = converter.convert()\n",
    "    # Apply weight + Activation  quantization \n",
    "    if WAPQT == True :\n",
    "        converter.optimizations = [tf.lite.Optimize.OPTIMIZE_FOR_SIZE]\n",
    "        converter.representative_dataset = representative_dataset_gen\n",
    "        tflite_model = converter.convert()\n",
    "        \n",
    "        tflite_model_dir = f\"WAPQT_{tflite_model_dir}\"\n",
    "      \n",
    "    # Write the model in binary formate and save it \n",
    "    with open(tflite_model_dir, 'wb') as fp:\n",
    "        fp.write(tflite_model)\n",
    "    Compressed =  f\"compressed_{tflite_model_dir}\"\n",
    "    with open(Compressed, 'wb') as fp:\n",
    "        tflite_compressed = zlib.compress(tflite_model)\n",
    "        fp.write(tflite_compressed)\n",
    "    print(f\"the model is saved successfuly to {tflite_model_dir}\")\n",
    "    return Compressed , tflite_model_dir "
   ]
  },
  {
   "cell_type": "code",
   "execution_count": 64,
   "metadata": {},
   "outputs": [],
   "source": [
    "# Function for weight and activations quantization \n",
    "def representative_dataset_gen():\n",
    "    for x, _ in train_ds.take(1000):\n",
    "        yield [x]"
   ]
  },
  {
   "cell_type": "code",
   "execution_count": 65,
   "metadata": {},
   "outputs": [],
   "source": [
    "def S_pruning_Model_evaluate_and_compress_to_TFlite( tflite_model_dir =  TFLITE , chk_path = chk_path , model_name = mymodel , PQT = False , WAPQT = False , Structured = Structured):\n",
    "    if not os.path.exists('./models'):\n",
    "        os.makedirs('./models')\n",
    "    model = tf.keras.models.load_model(filepath = chk_path , custom_objects={'MultiOutputMAE':MultiOutputMAE})\n",
    "\n",
    "    run_model = tf.function(lambda x: model(x))\n",
    "    # input_shape = model.inputs[0].shape.as_list()\n",
    "    # input_shape[0] = batch_size\n",
    "    # func = tf.function(model).get_concrete_function(\n",
    "    # tf.TensorSpec(input_shape, model.inputs[0].dtype))\n",
    "    concrete_func = run_model.get_concrete_function(tf.TensorSpec([1, 6, 2], tf.float32))\n",
    "    saving_path = os.path.join('.','models', model_name)\n",
    "    model.save(saving_path ,signatures=concrete_func )\n",
    "\n",
    "    best_model = tf.keras.models.load_model(filepath = saving_path , custom_objects={'MultiOutputMAE':MultiOutputMAE})\n",
    "    loss, error = best_model.evaluate(test_ds)\n",
    "    print(f'Temp mae = {error[0]:.3f}: , HUM mae = {error[1]:.3f} ')\n",
    "    # Convert to TF lite without Quantization \n",
    "    converter = tf.lite.TFLiteConverter.from_keras_model(model)\n",
    "    tflite_model = converter.convert()  \n",
    "\n",
    "    # Write the model in binary formate and save it \n",
    "    with open(tflite_model_dir, 'wb') as fp:\n",
    "        fp.write(tflite_model)\n",
    "    Compressed = \"compressed_\"+tflite_model_dir \n",
    "    with open(Compressed, 'wb') as fp:\n",
    "        tflite_compressed = zlib.compress(tflite_model)\n",
    "        fp.write(tflite_compressed)\n",
    "    print(f\"the model is saved successfuly to {tflite_model_dir}\")\n",
    "    return Compressed , tflite_model_dir , saving_path"
   ]
  },
  {
   "cell_type": "markdown",
   "metadata": {},
   "source": [
    "# load_and_evaluation of TF lite model "
   ]
  },
  {
   "cell_type": "code",
   "execution_count": 66,
   "metadata": {},
   "outputs": [],
   "source": [
    "def load_and_evaluation(path, dataset):\n",
    "    interpreter = tf.lite.Interpreter(model_path = path) \n",
    "    interpreter.allocate_tensors()\n",
    "    input_details = interpreter.get_input_details()\n",
    "    output_details = interpreter.get_output_details()\n",
    "\n",
    "    dataset = test_ds.unbatch().batch(1)\n",
    "\n",
    "    outputs = []\n",
    "    labels = []\n",
    "    print(dataset)\n",
    "\n",
    "    for data in dataset:\n",
    "        my_input = np.array(data[0], dtype = np.float32)\n",
    "        label = np.array(data[1], dtype = np.float32)\n",
    "        # print (f\"my_input = {my_input}\")\n",
    "        # print(f\"label = {label}\")\n",
    "\n",
    "    \n",
    "            \n",
    "        labels.append(label)\n",
    "\n",
    "        interpreter.set_tensor(input_details[0]['index'], my_input)\n",
    "        interpreter.invoke()\n",
    "        my_output = interpreter.get_tensor(output_details[0]['index'])\n",
    "        \n",
    "        outputs.append(my_output[0])\n",
    "\n",
    "    outputs = np.squeeze( np.array(outputs))\n",
    "    labels = np.squeeze(np.array(labels))\n",
    "\n",
    "    \n",
    "    error = np.absolute(outputs - labels)\n",
    "  \n",
    "    mean_axis_1 = np.mean(error , axis = 1)     #  ==>  np.sum(error, axis = 1)/labels.shape[1]\n",
    "    \n",
    "    mae = np.mean(mean_axis_1 , axis = 0)  #  ==> np.sum(mean_axis_1, axis = 0) /mean_axis_1.shape[0]\n",
    "    temp_MAE = mae[0] \n",
    "    hum_MAE = mae[1]\n",
    "    print(\"*\"*50,\"\\n\",f\" Excuting the model {path} \")\n",
    "    print(\"*\"*50,\"\\n\",f\" mae is {mae} of shape {mae.shape} \")\n",
    "    print(\"*\"*50,\"\\n\",f'Temp mae = {mae[0]:.3f}: , HUM mae = {mae[1]:.3f} ')\n",
    "    \n",
    "    # check version \"a\" requirment\n",
    "    if version == \"a\" :\n",
    "        if temp_MAE <= 0.3 and hum_MAE <= 1.2 :\n",
    "            print (\"*\"*50,\"\\n\",\"achieved the requirments \" )\n",
    "        else :\n",
    "            print (\"*\"*50,\"\\n\",\"Not achieved the requirments\" )\n",
    "    # check version \"b\" requirment        \n",
    "    if version == \"b\" :\n",
    "        if temp_MAE <= 0.7 and hum_MAE <= 2.5 :\n",
    "            print (\"*\"*50,\"\\n\",\"achieved the requirments \" )\n",
    "        else :\n",
    "            print (\"*\"*50,\"\\n\",\"Not achieved the requirments\" ) \n",
    "\n",
    "#     return mae \n",
    "\n"
   ]
  },
  {
   "cell_type": "markdown",
   "metadata": {},
   "source": [
    "# get the size of tf_lite model "
   ]
  },
  {
   "cell_type": "code",
   "execution_count": 67,
   "metadata": {},
   "outputs": [],
   "source": [
    "def getsize(file):\n",
    "    st = os.stat(file)\n",
    "    size = st.st_size\n",
    "    return size"
   ]
  },
  {
   "cell_type": "markdown",
   "metadata": {},
   "source": [
    "### Without Quantization"
   ]
  },
  {
   "cell_type": "code",
   "execution_count": 68,
   "metadata": {},
   "outputs": [
    {
     "name": "stdout",
     "output_type": "stream",
     "text": [
      "INFO:tensorflow:Assets written to: ./models/mlp_V( b_alpha=0.03 )/assets\n"
     ]
    },
    {
     "name": "stderr",
     "output_type": "stream",
     "text": [
      "INFO:tensorflow:Assets written to: ./models/mlp_V( b_alpha=0.03 )/assets\n"
     ]
    },
    {
     "name": "stdout",
     "output_type": "stream",
     "text": [
      "  56/1314 [>.............................] - ETA: 2s - loss: 4.7850 - mean_absolute_error: 1.1648 "
     ]
    },
    {
     "name": "stderr",
     "output_type": "stream",
     "text": [
      "/home/students/s289265/.local/lib/python3.7/site-packages/keras/engine/training.py:1841: UserWarning: Metric MultiOutputMAE implements a `reset_states()` method; rename it to `reset_state()` (without the final \"s\"). The name `reset_states()` has been deprecated to improve API consistency.\n",
      "  m.reset_state()\n"
     ]
    },
    {
     "name": "stdout",
     "output_type": "stream",
     "text": [
      "1314/1314 [==============================] - 2s 1ms/step - loss: 7.4013 - mean_absolute_error: 1.5083\n",
      "Temp mae = 0.578: , HUM mae = 2.439 \n"
     ]
    },
    {
     "name": "stderr",
     "output_type": "stream",
     "text": [
      "WARNING:absl:Function `_wrapped_model` contains input name(s) Flatten_input with unsupported characters which will be renamed to flatten_input in the SavedModel.\n"
     ]
    },
    {
     "name": "stdout",
     "output_type": "stream",
     "text": [
      "INFO:tensorflow:Assets written to: /tmp/tmpm2wnjfue/assets\n"
     ]
    },
    {
     "name": "stderr",
     "output_type": "stream",
     "text": [
      "INFO:tensorflow:Assets written to: /tmp/tmpm2wnjfue/assets\n",
      "WARNING:absl:Buffer deduplication procedure will be skipped when flatbuffer library is not properly loaded\n"
     ]
    },
    {
     "name": "stdout",
     "output_type": "stream",
     "text": [
      "the model is saved successfuly to mlp_V( b_alpha=0.03 ).tflite\n",
      " \n",
      " Size of TF.lite model is 3.536 KB\n",
      " \n",
      " Size of compressed_tflite model is 1.764 KB\n",
      "mlp_V( b_alpha=0.03 ).tflite\n"
     ]
    }
   ],
   "source": [
    "if Structured == False :\n",
    "    tflite_model_dir_Compressed ,tf_lite_model_path = Pruned_Model_evaluate_and_compress_to_TFlite(model_to_export=model_to_export)\n",
    "if Structured == True :\n",
    "    tflite_model_dir_Compressed ,tf_lite_model_path, saving_path  = S_pruning_Model_evaluate_and_compress_to_TFlite(TFLITE)\n",
    "# print(b)\n",
    "tflite_size = getsize(tf_lite_model_path)\n",
    "compressed_tflite_size = getsize(tflite_model_dir_Compressed )\n",
    "print(f\" \\n Size of TF.lite model is {tflite_size /1000} KB\")\n",
    "print(f\" \\n Size of compressed_tflite model is {compressed_tflite_size /1000} KB\")\n",
    "print(tf_lite_model_path)"
   ]
  },
  {
   "cell_type": "code",
   "execution_count": 69,
   "metadata": {},
   "outputs": [
    {
     "name": "stdout",
     "output_type": "stream",
     "text": [
      "<BatchDataset shapes: ((None, 6, 2), (None, 9, 2)), types: (tf.float32, tf.float32)>\n",
      "************************************************** \n",
      "  Excuting the model mlp_V( b_alpha=0.03 ).tflite \n",
      "************************************************** \n",
      "  mae is [0.5777065 2.4384937] of shape (2,) \n",
      "************************************************** \n",
      " Temp mae = 0.578: , HUM mae = 2.438 \n",
      "************************************************** \n",
      " achieved the requirments \n"
     ]
    }
   ],
   "source": [
    "load_and_evaluation(tf_lite_model_path , test_ds) "
   ]
  },
  {
   "cell_type": "markdown",
   "metadata": {},
   "source": [
    "### Weights only Quantization "
   ]
  },
  {
   "cell_type": "code",
   "execution_count": 70,
   "metadata": {},
   "outputs": [
    {
     "name": "stderr",
     "output_type": "stream",
     "text": [
      "WARNING:absl:Optimization option OPTIMIZE_FOR_SIZE is deprecated, please use optimizations=[Optimize.DEFAULT] instead.\n",
      "WARNING:absl:Optimization option OPTIMIZE_FOR_SIZE is deprecated, please use optimizations=[Optimize.DEFAULT] instead.\n",
      "WARNING:absl:Optimization option OPTIMIZE_FOR_SIZE is deprecated, please use optimizations=[Optimize.DEFAULT] instead.\n",
      "WARNING:absl:Buffer deduplication procedure will be skipped when flatbuffer library is not properly loaded\n"
     ]
    },
    {
     "name": "stdout",
     "output_type": "stream",
     "text": [
      "the model is saved successfuly to PQT_mlp_V( b_alpha=0.03 ).tflite\n",
      " \n",
      " Size of TF.lite model is 2.736 KB\n",
      " \n",
      " Size of compressed_tflite model is 1.428 KB\n"
     ]
    }
   ],
   "source": [
    "if Structured == False :\n",
    "    tflite_model_dir_Compressed ,tf_lite_model_path = apply_Quantization( PQT=True)\n",
    "if Structured == True :\n",
    "    Compressed , Quantized   = apply_Quantization(PQT=True ,  saving_path=saving_path)\n",
    "# print(b)\n",
    "tflite_size = getsize(Quantized)\n",
    "compressed_tflite_size = getsize(Compressed )\n",
    "print(f\" \\n Size of TF.lite model is {tflite_size /1000} KB\")\n",
    "print(f\" \\n Size of compressed_tflite model is {compressed_tflite_size /1000} KB\")"
   ]
  },
  {
   "cell_type": "code",
   "execution_count": 71,
   "metadata": {},
   "outputs": [
    {
     "name": "stdout",
     "output_type": "stream",
     "text": [
      "<BatchDataset shapes: ((None, 6, 2), (None, 9, 2)), types: (tf.float32, tf.float32)>\n",
      "************************************************** \n",
      "  Excuting the model PQT_mlp_V( b_alpha=0.03 ).tflite \n",
      "************************************************** \n",
      "  mae is [0.5777065 2.4384937] of shape (2,) \n",
      "************************************************** \n",
      " Temp mae = 0.578: , HUM mae = 2.438 \n",
      "************************************************** \n",
      " achieved the requirments \n"
     ]
    }
   ],
   "source": [
    "load_and_evaluation(Quantized , test_ds) "
   ]
  },
  {
   "cell_type": "markdown",
   "metadata": {},
   "source": [
    "###  Weights + activations  Quantization "
   ]
  },
  {
   "cell_type": "code",
   "execution_count": 72,
   "metadata": {},
   "outputs": [
    {
     "name": "stderr",
     "output_type": "stream",
     "text": [
      "WARNING:absl:Optimization option OPTIMIZE_FOR_SIZE is deprecated, please use optimizations=[Optimize.DEFAULT] instead.\n",
      "WARNING:absl:Optimization option OPTIMIZE_FOR_SIZE is deprecated, please use optimizations=[Optimize.DEFAULT] instead.\n",
      "WARNING:absl:Optimization option OPTIMIZE_FOR_SIZE is deprecated, please use optimizations=[Optimize.DEFAULT] instead.\n",
      "WARNING:absl:Buffer deduplication procedure will be skipped when flatbuffer library is not properly loaded\n"
     ]
    },
    {
     "name": "stdout",
     "output_type": "stream",
     "text": [
      "the model is saved successfuly to WAPQT_mlp_V( b_alpha=0.03 ).tflite\n",
      " \n",
      " Size of TF.lite model is 3.976 KB\n",
      " \n",
      " Size of compressed_tflite model is 1.641 KB\n"
     ]
    }
   ],
   "source": [
    "if Structured == False :\n",
    "    tflite_model_dir_Compressed ,tf_lite_model_path = apply_Quantization( WAPQT=True)\n",
    "if Structured == True :\n",
    "    Compressed , Quantized   = apply_Quantization(WAPQT=True , saving_path=chk_path)\n",
    "# print(b)\n",
    "tflite_size = getsize(Quantized)\n",
    "compressed_tflite_size = getsize(Compressed )\n",
    "print(f\" \\n Size of TF.lite model is {tflite_size /1000} KB\")\n",
    "print(f\" \\n Size of compressed_tflite model is {compressed_tflite_size /1000} KB\")"
   ]
  },
  {
   "cell_type": "code",
   "execution_count": 73,
   "metadata": {},
   "outputs": [
    {
     "name": "stdout",
     "output_type": "stream",
     "text": [
      "<BatchDataset shapes: ((None, 6, 2), (None, 9, 2)), types: (tf.float32, tf.float32)>\n",
      "************************************************** \n",
      "  Excuting the model WAPQT_mlp_V( b_alpha=0.03 ).tflite \n",
      "************************************************** \n",
      "  mae is [0.62449586 2.467644  ] of shape (2,) \n",
      "************************************************** \n",
      " Temp mae = 0.624: , HUM mae = 2.468 \n",
      "************************************************** \n",
      " achieved the requirments \n"
     ]
    }
   ],
   "source": [
    "load_and_evaluation(Quantized , test_ds) "
   ]
  }
 ],
 "metadata": {
  "kernelspec": {
   "display_name": "Python 3",
   "language": "python",
   "name": "python3"
  },
  "language_info": {
   "codemirror_mode": {
    "name": "ipython",
    "version": 3
   },
   "file_extension": ".py",
   "mimetype": "text/x-python",
   "name": "python",
   "nbconvert_exporter": "python",
   "pygments_lexer": "ipython3",
   "version": "3.7.9"
  }
 },
 "nbformat": 4,
 "nbformat_minor": 5
}
